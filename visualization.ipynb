{
 "cells": [
  {
   "cell_type": "code",
   "execution_count": 11,
   "metadata": {},
   "outputs": [],
   "source": [
    "from ipywidgets import FileUpload, Output, VBox, HBox, Button\n",
    "from IPython.display import display"
   ]
  },
  {
   "cell_type": "code",
   "execution_count": 2,
   "metadata": {},
   "outputs": [],
   "source": [
    "# %run message_analyzer.ipynb"
   ]
  },
  {
   "cell_type": "code",
   "execution_count": 3,
   "metadata": {},
   "outputs": [],
   "source": [
    "# filepath = \"/home/vena/Documents/ai/fb_message_analysis/data1/vasekkorcak_bdlg0uak1a/message_1.html\"\n",
    "# names, times, writers, messages, messages_without_reactions = get_data(filepath)"
   ]
  },
  {
   "cell_type": "code",
   "execution_count": 4,
   "metadata": {},
   "outputs": [],
   "source": [
    "btn_upload = FileUpload(\n",
    "    accept='.html',\n",
    "    multiple=False  \n",
    ")"
   ]
  },
  {
   "cell_type": "code",
   "execution_count": 5,
   "metadata": {},
   "outputs": [],
   "source": [
    "def on_data_load(change):\n",
    "    a = \"AHOJ\"\n",
    "    # names, times, writers, messages, messages_without_reactions = get_data(text=btn_upload.data[-1].decode(\"utf-8\"))\n"
   ]
  },
  {
   "cell_type": "code",
   "execution_count": 6,
   "metadata": {},
   "outputs": [],
   "source": [
    "btn_upload.observe(on_data_load)"
   ]
  },
  {
   "cell_type": "code",
   "execution_count": 7,
   "metadata": {},
   "outputs": [
    {
     "data": {
      "application/vnd.jupyter.widget-view+json": {
       "model_id": "7581d42f00744ac7a15721c01c81ff2c",
       "version_major": 2,
       "version_minor": 0
      },
      "text/plain": [
       "FileUpload(value={}, accept='.html', description='Upload')"
      ]
     },
     "metadata": {},
     "output_type": "display_data"
    }
   ],
   "source": [
    "display(btn_upload)"
   ]
  },
  {
   "cell_type": "markdown",
   "metadata": {},
   "source": [
    "### Outputs for graphs"
   ]
  },
  {
   "cell_type": "code",
   "execution_count": 12,
   "metadata": {},
   "outputs": [
    {
     "data": {
      "application/vnd.jupyter.widget-view+json": {
       "model_id": "60d2f4e1a14b4042af01618a74daa3cd",
       "version_major": 2,
       "version_minor": 0
      },
      "text/plain": [
       "Button(description='run', style=ButtonStyle())"
      ]
     },
     "metadata": {},
     "output_type": "display_data"
    },
    {
     "data": {
      "application/vnd.jupyter.widget-view+json": {
       "model_id": "593d8246975c4c03b572bb615ecae986",
       "version_major": 2,
       "version_minor": 0
      },
      "text/plain": [
       "Output()"
      ]
     },
     "metadata": {},
     "output_type": "display_data"
    }
   ],
   "source": [
    "output = Output()\n",
    "\n",
    "@output.capture(clear_output=False,wait=True) # based on https://github.com/jupyter-widgets/ipywidgets/issues/1846 and https://ipywidgets.readthedocs.io/en/latest/examples/Output%20Widget.html\n",
    "def sayHello(b):\n",
    "    print('Hello world!')\n",
    "\n",
    "run_button = Button(\n",
    "      description = 'run'\n",
    ")\n",
    "run_button.on_click(sayHello)\n",
    "display(run_button)\n",
    "output"
   ]
  },
  {
   "cell_type": "code",
   "execution_count": 157,
   "metadata": {},
   "outputs": [],
   "source": [
    "# messages_in_time = Output()\n",
    "# general_pies = Output()\n",
    "# messages_weekdays= Output()\n",
    "# messages_hours = Output()\n",
    "# words_len_whiskers = Output()\n",
    "# responses_pies = Output()\n",
    "# responses_histo = Output()\n",
    "# emojis_histo = Output()\n",
    "# reactions_histo = Output()"
   ]
  },
  {
   "cell_type": "code",
   "execution_count": 158,
   "metadata": {},
   "outputs": [
    {
     "data": {
      "application/vnd.jupyter.widget-view+json": {
       "model_id": "e9e60eca1957425ebcb36e032ed769b6",
       "version_major": 2,
       "version_minor": 0
      },
      "text/plain": [
       "Button(description='Generate graphs for the conversation', layout=Layout(height='40px', width='auto'), style=B…"
      ]
     },
     "metadata": {},
     "output_type": "display_data"
    }
   ],
   "source": [
    "# layout = widgets.Layout(width='auto', height='40px') #set width and height\n",
    "\n",
    "# button = widgets.Button(\n",
    "#     description='Generate graphs for the conversation',\n",
    "#     disabled=False,\n",
    "#     display='flex',\n",
    "#     flex_flow='column',\n",
    "#     align_items='stretch', \n",
    "#     layout = layout\n",
    "# )        \n",
    "# display(button)"
   ]
  },
  {
   "cell_type": "code",
   "execution_count": 164,
   "metadata": {},
   "outputs": [],
   "source": [
    "# g_out = [messages_in_time, general_pies, messages_weekdays, messages_hours,\n",
    "#          words_len_whiskers, responses_pies, responses_histo, emojis_histo, reactions_histo]\n",
    "# graphs = [display_messages_in_time_scatter(writers, names, times, messages), display_general_pies(writers, names, messages),\n",
    "#           display_messages_in_weekdays_histogram(writers, names, times), display_half_hours_histogram(writers, names, times),\n",
    "#           display_messages_length_whisker_plots(messages_without_reactions, writers, names),\n",
    "#           display_conversations_pies(writers, names, times, messages_without_reactions),\n",
    "#           display_answer_time_histogram(writers, names, times), display_emoji_histogram(writers, messages_without_reactions), \n",
    "#           display_emoji_reactions(writers, messages)]"
   ]
  },
  {
   "cell_type": "code",
   "execution_count": 165,
   "metadata": {},
   "outputs": [],
   "source": [
    "# def on_click(change):\n",
    "#     for graph, output in zip(graphs, g_out):\n",
    "#         output.clear_output()\n",
    "#         with output:  display(graph)\n",
    "    "
   ]
  },
  {
   "cell_type": "code",
   "execution_count": 166,
   "metadata": {},
   "outputs": [],
   "source": [
    "# button.on_click(on_click)"
   ]
  },
  {
   "cell_type": "code",
   "execution_count": 170,
   "metadata": {},
   "outputs": [],
   "source": [
    "# graph_plots = []\n",
    "# hor = []\n",
    "# for i, output in enumerate(g_out):\n",
    "#     if i % 2 == 1 or i == len(g_out) - 1:\n",
    "#         hor.append(output)\n",
    "#         graph_plots.append(HBox(hor))\n",
    "#         hor = []\n",
    "#     else:\n",
    "#         hor.append(output)\n",
    "\n"
   ]
  },
  {
   "cell_type": "code",
   "execution_count": 171,
   "metadata": {},
   "outputs": [
    {
     "data": {
      "application/vnd.jupyter.widget-view+json": {
       "model_id": "93eeb4eaa08a4d10b85cabb6f5a7a9d6",
       "version_major": 2,
       "version_minor": 0
      },
      "text/plain": [
       "VBox(children=(HBox(children=(Output(outputs=({'output_type': 'display_data', 'data': {'text/plain': \"FigureWi…"
      ]
     },
     "metadata": {},
     "output_type": "display_data"
    }
   ],
   "source": [
    "# VBox(graph_plots)"
   ]
  },
  {
   "cell_type": "code",
   "execution_count": 1,
   "metadata": {},
   "outputs": [],
   "source": [
    "# create_word_cloud(writers, messages_without_reactions, names, \"fb_logo.png\")"
   ]
  },
  {
   "cell_type": "code",
   "execution_count": 14,
   "metadata": {},
   "outputs": [],
   "source": [
    "# create_scatter_text(writers, names, messages_without_reactions)"
   ]
  },
  {
   "cell_type": "code",
   "execution_count": null,
   "metadata": {},
   "outputs": [],
   "source": []
  }
 ],
 "metadata": {
  "kernelspec": {
   "display_name": "Python 3.6.9 64-bit ('text')",
   "language": "python",
   "name": "python36964bittextd4ec994d46b44c0997bd7f255dcae23e"
  },
  "language_info": {
   "codemirror_mode": {
    "name": "ipython",
    "version": 3
   },
   "file_extension": ".py",
   "mimetype": "text/x-python",
   "name": "python",
   "nbconvert_exporter": "python",
   "pygments_lexer": "ipython3",
   "version": "3.6.9"
  }
 },
 "nbformat": 4,
 "nbformat_minor": 2
}
