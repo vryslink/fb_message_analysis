{
 "metadata": {
  "language_info": {
   "codemirror_mode": {
    "name": "ipython",
    "version": 3
   },
   "file_extension": ".py",
   "mimetype": "text/x-python",
   "name": "python",
   "nbconvert_exporter": "python",
   "pygments_lexer": "ipython3",
   "version": "3.6.9-final"
  },
  "orig_nbformat": 2,
  "kernelspec": {
   "name": "python36964bittextd4ec994d46b44c0997bd7f255dcae23e",
   "display_name": "Python 3.6.9 64-bit ('text')"
  }
 },
 "nbformat": 4,
 "nbformat_minor": 2,
 "cells": [
  {
   "cell_type": "code",
   "execution_count": 8,
   "metadata": {},
   "outputs": [],
   "source": [
    "%run message_analyzer.ipynb"
   ]
  },
  {
   "cell_type": "code",
   "execution_count": 9,
   "metadata": {},
   "outputs": [],
   "source": [
    "names, times, writers, messages, messages_without_reactions = get_data(filepath3)"
   ]
  },
  {
   "cell_type": "code",
   "execution_count": 22,
   "metadata": {},
   "outputs": [
    {
     "output_type": "display_data",
     "data": {
      "application/vnd.plotly.v1+json": {
       "config": {
        "plotlyServerURL": "https://plot.ly"
       },
       "data": [
        {
         "domain": {
          "x": [
           0,
           0.2888888888888889
          ],
          "y": [
           0.625,
           1
          ]
         },
         "hoverinfo": "label+percent",
         "labels": [
          "Author_0",
          "Author_1",
          "Author_2",
          "Author_3"
         ],
         "marker": {
          "line": {
           "color": "black",
           "width": 2
          }
         },
         "name": "Celkový počet zpráv",
         "textfont": {
          "size": 12
         },
         "textinfo": "value",
         "type": "pie",
         "values": [
          514,
          556,
          568,
          261
         ]
        },
        {
         "domain": {
          "x": [
           0.35555555555555557,
           0.6444444444444445
          ],
          "y": [
           0.625,
           1
          ]
         },
         "hoverinfo": "label+percent",
         "labels": [
          "Author_0",
          "Author_1",
          "Author_2",
          "Author_3"
         ],
         "marker": {
          "line": {
           "color": "black",
           "width": 2
          }
         },
         "name": "Celkový počet slov",
         "textfont": {
          "size": 12
         },
         "textinfo": "value",
         "type": "pie",
         "values": [
          2794,
          5070,
          3614,
          1765
         ]
        },
        {
         "domain": {
          "x": [
           0.7111111111111111,
           1
          ],
          "y": [
           0.625,
           1
          ]
         },
         "hoverinfo": "label+percent",
         "labels": [
          "Author_0",
          "Author_1",
          "Author_2",
          "Author_3"
         ],
         "marker": {
          "line": {
           "color": "black",
           "width": 2
          }
         },
         "name": "Celkový počet znaků",
         "textfont": {
          "size": 12
         },
         "textinfo": "value",
         "type": "pie",
         "values": [
          16715,
          29184,
          21096,
          9844
         ]
        },
        {
         "domain": {
          "x": [
           0,
           0.2888888888888889
          ],
          "y": [
           0,
           0.375
          ]
         },
         "hoverinfo": "label+percent",
         "labels": [
          "Author_0",
          "Author_1",
          "Author_2",
          "Author_3"
         ],
         "marker": {
          "line": {
           "color": "black",
           "width": 2
          }
         },
         "name": "Celkový počet otázek",
         "textfont": {
          "size": 12
         },
         "textinfo": "value",
         "type": "pie",
         "values": [
          56,
          118,
          87,
          34
         ]
        },
        {
         "domain": {
          "x": [
           0.35555555555555557,
           0.6444444444444445
          ],
          "y": [
           0,
           0.375
          ]
         },
         "hoverinfo": "label+percent",
         "labels": [
          "Author_0",
          "Author_1",
          "Author_2",
          "Author_3"
         ],
         "marker": {
          "line": {
           "color": "black",
           "width": 2
          }
         },
         "name": "Celkový počet emoji",
         "textfont": {
          "size": 12
         },
         "textinfo": "value",
         "type": "pie",
         "values": [
          166,
          234,
          136,
          87
         ]
        },
        {
         "domain": {
          "x": [
           0.7111111111111111,
           1
          ],
          "y": [
           0,
           0.375
          ]
         },
         "hoverinfo": "label+percent",
         "labels": [
          "Author_0",
          "Author_1",
          "Author_2",
          "Author_3"
         ],
         "marker": {
          "line": {
           "color": "black",
           "width": 2
          }
         },
         "name": "Celkový počet dlouhých zpráv",
         "textfont": {
          "size": 12
         },
         "textinfo": "value",
         "type": "pie",
         "values": [
          68,
          135,
          91,
          53
         ]
        }
       ],
       "layout": {
        "annotations": [
         {
          "font": {
           "size": 16
          },
          "showarrow": false,
          "text": "Počet zpráv",
          "x": 0.14444444444444446,
          "xanchor": "center",
          "xref": "paper",
          "y": 1,
          "yanchor": "bottom",
          "yref": "paper"
         },
         {
          "font": {
           "size": 16
          },
          "showarrow": false,
          "text": "Počet slov",
          "x": 0.5,
          "xanchor": "center",
          "xref": "paper",
          "y": 1,
          "yanchor": "bottom",
          "yref": "paper"
         },
         {
          "font": {
           "size": 16
          },
          "showarrow": false,
          "text": "Počet znaků",
          "x": 0.8555555555555556,
          "xanchor": "center",
          "xref": "paper",
          "y": 1,
          "yanchor": "bottom",
          "yref": "paper"
         },
         {
          "font": {
           "size": 16
          },
          "showarrow": false,
          "text": "Zprávy s otázkou",
          "x": 0.14444444444444446,
          "xanchor": "center",
          "xref": "paper",
          "y": 0.375,
          "yanchor": "bottom",
          "yref": "paper"
         },
         {
          "font": {
           "size": 16
          },
          "showarrow": false,
          "text": "Zprávy s emoji",
          "x": 0.5,
          "xanchor": "center",
          "xref": "paper",
          "y": 0.375,
          "yanchor": "bottom",
          "yref": "paper"
         },
         {
          "font": {
           "size": 16
          },
          "showarrow": false,
          "text": "Zprávy > 10 slov",
          "x": 0.8555555555555556,
          "xanchor": "center",
          "xref": "paper",
          "y": 0.375,
          "yanchor": "bottom",
          "yref": "paper"
         }
        ],
        "height": 700,
        "template": {
         "data": {
          "bar": [
           {
            "error_x": {
             "color": "#2a3f5f"
            },
            "error_y": {
             "color": "#2a3f5f"
            },
            "marker": {
             "line": {
              "color": "#E5ECF6",
              "width": 0.5
             }
            },
            "type": "bar"
           }
          ],
          "barpolar": [
           {
            "marker": {
             "line": {
              "color": "#E5ECF6",
              "width": 0.5
             }
            },
            "type": "barpolar"
           }
          ],
          "carpet": [
           {
            "aaxis": {
             "endlinecolor": "#2a3f5f",
             "gridcolor": "white",
             "linecolor": "white",
             "minorgridcolor": "white",
             "startlinecolor": "#2a3f5f"
            },
            "baxis": {
             "endlinecolor": "#2a3f5f",
             "gridcolor": "white",
             "linecolor": "white",
             "minorgridcolor": "white",
             "startlinecolor": "#2a3f5f"
            },
            "type": "carpet"
           }
          ],
          "choropleth": [
           {
            "colorbar": {
             "outlinewidth": 0,
             "ticks": ""
            },
            "type": "choropleth"
           }
          ],
          "contour": [
           {
            "colorbar": {
             "outlinewidth": 0,
             "ticks": ""
            },
            "colorscale": [
             [
              0,
              "#0d0887"
             ],
             [
              0.1111111111111111,
              "#46039f"
             ],
             [
              0.2222222222222222,
              "#7201a8"
             ],
             [
              0.3333333333333333,
              "#9c179e"
             ],
             [
              0.4444444444444444,
              "#bd3786"
             ],
             [
              0.5555555555555556,
              "#d8576b"
             ],
             [
              0.6666666666666666,
              "#ed7953"
             ],
             [
              0.7777777777777778,
              "#fb9f3a"
             ],
             [
              0.8888888888888888,
              "#fdca26"
             ],
             [
              1,
              "#f0f921"
             ]
            ],
            "type": "contour"
           }
          ],
          "contourcarpet": [
           {
            "colorbar": {
             "outlinewidth": 0,
             "ticks": ""
            },
            "type": "contourcarpet"
           }
          ],
          "heatmap": [
           {
            "colorbar": {
             "outlinewidth": 0,
             "ticks": ""
            },
            "colorscale": [
             [
              0,
              "#0d0887"
             ],
             [
              0.1111111111111111,
              "#46039f"
             ],
             [
              0.2222222222222222,
              "#7201a8"
             ],
             [
              0.3333333333333333,
              "#9c179e"
             ],
             [
              0.4444444444444444,
              "#bd3786"
             ],
             [
              0.5555555555555556,
              "#d8576b"
             ],
             [
              0.6666666666666666,
              "#ed7953"
             ],
             [
              0.7777777777777778,
              "#fb9f3a"
             ],
             [
              0.8888888888888888,
              "#fdca26"
             ],
             [
              1,
              "#f0f921"
             ]
            ],
            "type": "heatmap"
           }
          ],
          "heatmapgl": [
           {
            "colorbar": {
             "outlinewidth": 0,
             "ticks": ""
            },
            "colorscale": [
             [
              0,
              "#0d0887"
             ],
             [
              0.1111111111111111,
              "#46039f"
             ],
             [
              0.2222222222222222,
              "#7201a8"
             ],
             [
              0.3333333333333333,
              "#9c179e"
             ],
             [
              0.4444444444444444,
              "#bd3786"
             ],
             [
              0.5555555555555556,
              "#d8576b"
             ],
             [
              0.6666666666666666,
              "#ed7953"
             ],
             [
              0.7777777777777778,
              "#fb9f3a"
             ],
             [
              0.8888888888888888,
              "#fdca26"
             ],
             [
              1,
              "#f0f921"
             ]
            ],
            "type": "heatmapgl"
           }
          ],
          "histogram": [
           {
            "marker": {
             "colorbar": {
              "outlinewidth": 0,
              "ticks": ""
             }
            },
            "type": "histogram"
           }
          ],
          "histogram2d": [
           {
            "colorbar": {
             "outlinewidth": 0,
             "ticks": ""
            },
            "colorscale": [
             [
              0,
              "#0d0887"
             ],
             [
              0.1111111111111111,
              "#46039f"
             ],
             [
              0.2222222222222222,
              "#7201a8"
             ],
             [
              0.3333333333333333,
              "#9c179e"
             ],
             [
              0.4444444444444444,
              "#bd3786"
             ],
             [
              0.5555555555555556,
              "#d8576b"
             ],
             [
              0.6666666666666666,
              "#ed7953"
             ],
             [
              0.7777777777777778,
              "#fb9f3a"
             ],
             [
              0.8888888888888888,
              "#fdca26"
             ],
             [
              1,
              "#f0f921"
             ]
            ],
            "type": "histogram2d"
           }
          ],
          "histogram2dcontour": [
           {
            "colorbar": {
             "outlinewidth": 0,
             "ticks": ""
            },
            "colorscale": [
             [
              0,
              "#0d0887"
             ],
             [
              0.1111111111111111,
              "#46039f"
             ],
             [
              0.2222222222222222,
              "#7201a8"
             ],
             [
              0.3333333333333333,
              "#9c179e"
             ],
             [
              0.4444444444444444,
              "#bd3786"
             ],
             [
              0.5555555555555556,
              "#d8576b"
             ],
             [
              0.6666666666666666,
              "#ed7953"
             ],
             [
              0.7777777777777778,
              "#fb9f3a"
             ],
             [
              0.8888888888888888,
              "#fdca26"
             ],
             [
              1,
              "#f0f921"
             ]
            ],
            "type": "histogram2dcontour"
           }
          ],
          "mesh3d": [
           {
            "colorbar": {
             "outlinewidth": 0,
             "ticks": ""
            },
            "type": "mesh3d"
           }
          ],
          "parcoords": [
           {
            "line": {
             "colorbar": {
              "outlinewidth": 0,
              "ticks": ""
             }
            },
            "type": "parcoords"
           }
          ],
          "pie": [
           {
            "automargin": true,
            "type": "pie"
           }
          ],
          "scatter": [
           {
            "marker": {
             "colorbar": {
              "outlinewidth": 0,
              "ticks": ""
             }
            },
            "type": "scatter"
           }
          ],
          "scatter3d": [
           {
            "line": {
             "colorbar": {
              "outlinewidth": 0,
              "ticks": ""
             }
            },
            "marker": {
             "colorbar": {
              "outlinewidth": 0,
              "ticks": ""
             }
            },
            "type": "scatter3d"
           }
          ],
          "scattercarpet": [
           {
            "marker": {
             "colorbar": {
              "outlinewidth": 0,
              "ticks": ""
             }
            },
            "type": "scattercarpet"
           }
          ],
          "scattergeo": [
           {
            "marker": {
             "colorbar": {
              "outlinewidth": 0,
              "ticks": ""
             }
            },
            "type": "scattergeo"
           }
          ],
          "scattergl": [
           {
            "marker": {
             "colorbar": {
              "outlinewidth": 0,
              "ticks": ""
             }
            },
            "type": "scattergl"
           }
          ],
          "scattermapbox": [
           {
            "marker": {
             "colorbar": {
              "outlinewidth": 0,
              "ticks": ""
             }
            },
            "type": "scattermapbox"
           }
          ],
          "scatterpolar": [
           {
            "marker": {
             "colorbar": {
              "outlinewidth": 0,
              "ticks": ""
             }
            },
            "type": "scatterpolar"
           }
          ],
          "scatterpolargl": [
           {
            "marker": {
             "colorbar": {
              "outlinewidth": 0,
              "ticks": ""
             }
            },
            "type": "scatterpolargl"
           }
          ],
          "scatterternary": [
           {
            "marker": {
             "colorbar": {
              "outlinewidth": 0,
              "ticks": ""
             }
            },
            "type": "scatterternary"
           }
          ],
          "surface": [
           {
            "colorbar": {
             "outlinewidth": 0,
             "ticks": ""
            },
            "colorscale": [
             [
              0,
              "#0d0887"
             ],
             [
              0.1111111111111111,
              "#46039f"
             ],
             [
              0.2222222222222222,
              "#7201a8"
             ],
             [
              0.3333333333333333,
              "#9c179e"
             ],
             [
              0.4444444444444444,
              "#bd3786"
             ],
             [
              0.5555555555555556,
              "#d8576b"
             ],
             [
              0.6666666666666666,
              "#ed7953"
             ],
             [
              0.7777777777777778,
              "#fb9f3a"
             ],
             [
              0.8888888888888888,
              "#fdca26"
             ],
             [
              1,
              "#f0f921"
             ]
            ],
            "type": "surface"
           }
          ],
          "table": [
           {
            "cells": {
             "fill": {
              "color": "#EBF0F8"
             },
             "line": {
              "color": "white"
             }
            },
            "header": {
             "fill": {
              "color": "#C8D4E3"
             },
             "line": {
              "color": "white"
             }
            },
            "type": "table"
           }
          ]
         },
         "layout": {
          "annotationdefaults": {
           "arrowcolor": "#2a3f5f",
           "arrowhead": 0,
           "arrowwidth": 1
          },
          "coloraxis": {
           "colorbar": {
            "outlinewidth": 0,
            "ticks": ""
           }
          },
          "colorscale": {
           "diverging": [
            [
             0,
             "#8e0152"
            ],
            [
             0.1,
             "#c51b7d"
            ],
            [
             0.2,
             "#de77ae"
            ],
            [
             0.3,
             "#f1b6da"
            ],
            [
             0.4,
             "#fde0ef"
            ],
            [
             0.5,
             "#f7f7f7"
            ],
            [
             0.6,
             "#e6f5d0"
            ],
            [
             0.7,
             "#b8e186"
            ],
            [
             0.8,
             "#7fbc41"
            ],
            [
             0.9,
             "#4d9221"
            ],
            [
             1,
             "#276419"
            ]
           ],
           "sequential": [
            [
             0,
             "#0d0887"
            ],
            [
             0.1111111111111111,
             "#46039f"
            ],
            [
             0.2222222222222222,
             "#7201a8"
            ],
            [
             0.3333333333333333,
             "#9c179e"
            ],
            [
             0.4444444444444444,
             "#bd3786"
            ],
            [
             0.5555555555555556,
             "#d8576b"
            ],
            [
             0.6666666666666666,
             "#ed7953"
            ],
            [
             0.7777777777777778,
             "#fb9f3a"
            ],
            [
             0.8888888888888888,
             "#fdca26"
            ],
            [
             1,
             "#f0f921"
            ]
           ],
           "sequentialminus": [
            [
             0,
             "#0d0887"
            ],
            [
             0.1111111111111111,
             "#46039f"
            ],
            [
             0.2222222222222222,
             "#7201a8"
            ],
            [
             0.3333333333333333,
             "#9c179e"
            ],
            [
             0.4444444444444444,
             "#bd3786"
            ],
            [
             0.5555555555555556,
             "#d8576b"
            ],
            [
             0.6666666666666666,
             "#ed7953"
            ],
            [
             0.7777777777777778,
             "#fb9f3a"
            ],
            [
             0.8888888888888888,
             "#fdca26"
            ],
            [
             1,
             "#f0f921"
            ]
           ]
          },
          "colorway": [
           "#636efa",
           "#EF553B",
           "#00cc96",
           "#ab63fa",
           "#FFA15A",
           "#19d3f3",
           "#FF6692",
           "#B6E880",
           "#FF97FF",
           "#FECB52"
          ],
          "font": {
           "color": "#2a3f5f"
          },
          "geo": {
           "bgcolor": "white",
           "lakecolor": "white",
           "landcolor": "#E5ECF6",
           "showlakes": true,
           "showland": true,
           "subunitcolor": "white"
          },
          "hoverlabel": {
           "align": "left"
          },
          "hovermode": "closest",
          "mapbox": {
           "style": "light"
          },
          "paper_bgcolor": "white",
          "plot_bgcolor": "#E5ECF6",
          "polar": {
           "angularaxis": {
            "gridcolor": "white",
            "linecolor": "white",
            "ticks": ""
           },
           "bgcolor": "#E5ECF6",
           "radialaxis": {
            "gridcolor": "white",
            "linecolor": "white",
            "ticks": ""
           }
          },
          "scene": {
           "xaxis": {
            "backgroundcolor": "#E5ECF6",
            "gridcolor": "white",
            "gridwidth": 2,
            "linecolor": "white",
            "showbackground": true,
            "ticks": "",
            "zerolinecolor": "white"
           },
           "yaxis": {
            "backgroundcolor": "#E5ECF6",
            "gridcolor": "white",
            "gridwidth": 2,
            "linecolor": "white",
            "showbackground": true,
            "ticks": "",
            "zerolinecolor": "white"
           },
           "zaxis": {
            "backgroundcolor": "#E5ECF6",
            "gridcolor": "white",
            "gridwidth": 2,
            "linecolor": "white",
            "showbackground": true,
            "ticks": "",
            "zerolinecolor": "white"
           }
          },
          "shapedefaults": {
           "line": {
            "color": "#2a3f5f"
           }
          },
          "ternary": {
           "aaxis": {
            "gridcolor": "white",
            "linecolor": "white",
            "ticks": ""
           },
           "baxis": {
            "gridcolor": "white",
            "linecolor": "white",
            "ticks": ""
           },
           "bgcolor": "#E5ECF6",
           "caxis": {
            "gridcolor": "white",
            "linecolor": "white",
            "ticks": ""
           }
          },
          "title": {
           "x": 0.05
          },
          "xaxis": {
           "automargin": true,
           "gridcolor": "white",
           "linecolor": "white",
           "ticks": "",
           "title": {
            "standoff": 15
           },
           "zerolinecolor": "white",
           "zerolinewidth": 2
          },
          "yaxis": {
           "automargin": true,
           "gridcolor": "white",
           "linecolor": "white",
           "ticks": "",
           "title": {
            "standoff": 15
           },
           "zerolinecolor": "white",
           "zerolinewidth": 2
          }
         }
        },
        "title": {
         "text": "Statistiky o počtu zpráv, slov a znaků"
        },
        "width": 1200
       }
      }
     },
     "metadata": {}
    }
   ],
   "source": [
    "display_general_pies(messages, writers, names, True)"
   ]
  },
  {
   "cell_type": "code",
   "execution_count": 11,
   "metadata": {},
   "outputs": [
    {
     "output_type": "display_data",
     "data": {
      "application/vnd.plotly.v1+json": {
       "config": {
        "plotlyServerURL": "https://plot.ly"
       },
       "data": [
        {
         "marker": {
          "line": {
           "width": 2
          },
          "size": 10
         },
         "mode": "markers+lines",
         "name": "Author_0",
         "type": "scatter",
         "x": [
          "2019-03-12",
          "2019-03-13",
          "2019-05-03",
          "2019-06-26",
          "2019-06-27",
          "2019-06-28",
          "2019-06-29",
          "2019-07-02",
          "2019-07-03",
          "2019-07-04",
          "2019-07-05",
          "2019-09-03",
          "2019-09-29",
          "2019-10-02",
          "2019-10-03",
          "2019-10-13",
          "2019-10-14",
          "2019-10-15",
          "2019-10-16",
          "2019-10-17",
          "2019-10-18",
          "2019-10-19",
          "2019-10-20",
          "2019-10-21",
          "2019-10-22",
          "2019-10-23",
          "2019-10-24",
          "2019-10-25",
          "2019-10-26",
          "2019-10-28",
          "2019-10-29",
          "2019-10-30",
          "2019-10-31",
          "2019-11-04",
          "2019-11-05",
          "2019-11-06",
          "2019-11-11",
          "2019-11-12",
          "2019-11-13",
          "2019-11-21",
          "2019-11-27",
          "2019-11-28",
          "2019-12-03",
          "2019-12-10",
          "2019-12-11",
          "2019-12-18",
          "2019-12-19",
          "2020-01-01",
          "2020-01-16",
          "2020-02-07",
          "2020-03-04",
          "2020-03-11",
          "2020-03-16",
          "2020-03-31",
          "2020-04-10",
          "2020-05-14",
          "2020-05-15",
          "2020-05-20",
          "2020-05-23",
          "2020-05-26",
          "2020-05-29",
          "2020-05-30",
          "2020-05-31",
          "2020-06-01",
          "2020-06-02",
          "2020-06-04",
          "2020-06-12",
          "2020-06-15",
          "2020-06-16",
          "2020-06-17",
          "2020-06-18",
          "2020-06-19",
          "2020-06-20",
          "2020-06-21",
          "2020-06-22",
          "2020-06-23",
          "2020-06-24",
          "2020-06-25",
          "2020-06-26",
          "2020-06-29",
          "2020-06-30",
          "2020-07-01",
          "2020-07-02",
          "2020-07-08",
          "2020-07-11",
          "2020-07-12",
          "2020-07-24",
          "2020-07-26",
          "2020-07-29",
          "2020-08-01",
          "2020-08-05",
          "2020-09-03",
          "2020-09-04",
          "2020-09-08",
          "2020-09-14",
          "2020-09-18",
          "2020-09-19",
          "2020-09-20",
          "2020-09-22",
          "2020-09-24",
          "2020-10-09",
          "2020-10-10",
          "2020-10-11",
          "2020-10-12",
          "2020-10-13",
          "2020-10-19",
          "2020-10-22",
          "2020-10-27",
          "2020-11-01",
          "2020-11-08",
          "2020-11-11",
          "2020-11-12",
          "2020-11-14",
          "2020-11-17",
          "2020-11-18",
          "2020-11-20",
          "2020-11-22",
          "2020-11-23",
          "2020-11-24",
          "2020-11-25",
          "2020-11-27",
          "2020-11-28"
         ],
         "y": [
          1,
          2,
          2,
          5,
          5,
          20,
          3,
          2,
          0,
          1,
          1,
          1,
          2,
          1,
          2,
          1,
          11,
          1,
          0,
          4,
          6,
          0,
          8,
          19,
          23,
          12,
          5,
          0,
          14,
          7,
          7,
          2,
          1,
          5,
          6,
          0,
          2,
          0,
          4,
          2,
          2,
          0,
          0,
          1,
          0,
          1,
          0,
          0,
          0,
          2,
          1,
          0,
          2,
          0,
          1,
          4,
          2,
          0,
          4,
          2,
          4,
          5,
          6,
          2,
          1,
          5,
          0,
          31,
          16,
          12,
          34,
          8,
          3,
          7,
          8,
          1,
          15,
          28,
          14,
          3,
          0,
          2,
          1,
          11,
          1,
          0,
          7,
          1,
          3,
          0,
          5,
          2,
          3,
          2,
          8,
          2,
          0,
          0,
          1,
          6,
          0,
          0,
          5,
          0,
          9,
          0,
          0,
          0,
          0,
          0,
          0,
          0,
          0,
          3,
          6,
          2,
          9,
          0,
          1,
          0,
          3,
          8
         ]
        },
        {
         "marker": {
          "line": {
           "width": 2
          },
          "size": 10
         },
         "mode": "markers+lines",
         "name": "Author_1",
         "type": "scatter",
         "x": [
          "2019-03-12",
          "2019-03-13",
          "2019-05-03",
          "2019-06-26",
          "2019-06-27",
          "2019-06-28",
          "2019-06-29",
          "2019-07-02",
          "2019-07-03",
          "2019-07-04",
          "2019-07-05",
          "2019-09-03",
          "2019-09-29",
          "2019-10-02",
          "2019-10-03",
          "2019-10-13",
          "2019-10-14",
          "2019-10-15",
          "2019-10-16",
          "2019-10-17",
          "2019-10-18",
          "2019-10-19",
          "2019-10-20",
          "2019-10-21",
          "2019-10-22",
          "2019-10-23",
          "2019-10-24",
          "2019-10-25",
          "2019-10-26",
          "2019-10-28",
          "2019-10-29",
          "2019-10-30",
          "2019-10-31",
          "2019-11-04",
          "2019-11-05",
          "2019-11-06",
          "2019-11-11",
          "2019-11-12",
          "2019-11-13",
          "2019-11-21",
          "2019-11-27",
          "2019-11-28",
          "2019-12-03",
          "2019-12-10",
          "2019-12-11",
          "2019-12-18",
          "2019-12-19",
          "2020-01-01",
          "2020-01-16",
          "2020-02-07",
          "2020-03-04",
          "2020-03-11",
          "2020-03-16",
          "2020-03-31",
          "2020-04-10",
          "2020-05-14",
          "2020-05-15",
          "2020-05-20",
          "2020-05-23",
          "2020-05-26",
          "2020-05-29",
          "2020-05-30",
          "2020-05-31",
          "2020-06-01",
          "2020-06-02",
          "2020-06-04",
          "2020-06-12",
          "2020-06-15",
          "2020-06-16",
          "2020-06-17",
          "2020-06-18",
          "2020-06-19",
          "2020-06-20",
          "2020-06-21",
          "2020-06-22",
          "2020-06-23",
          "2020-06-24",
          "2020-06-25",
          "2020-06-26",
          "2020-06-29",
          "2020-06-30",
          "2020-07-01",
          "2020-07-02",
          "2020-07-08",
          "2020-07-11",
          "2020-07-12",
          "2020-07-24",
          "2020-07-26",
          "2020-07-29",
          "2020-08-01",
          "2020-08-05",
          "2020-09-03",
          "2020-09-04",
          "2020-09-08",
          "2020-09-14",
          "2020-09-18",
          "2020-09-19",
          "2020-09-20",
          "2020-09-22",
          "2020-09-24",
          "2020-10-09",
          "2020-10-10",
          "2020-10-11",
          "2020-10-12",
          "2020-10-13",
          "2020-10-19",
          "2020-10-22",
          "2020-10-27",
          "2020-11-01",
          "2020-11-08",
          "2020-11-11",
          "2020-11-12",
          "2020-11-14",
          "2020-11-17",
          "2020-11-18",
          "2020-11-20",
          "2020-11-22",
          "2020-11-23",
          "2020-11-24",
          "2020-11-25",
          "2020-11-27",
          "2020-11-28"
         ],
         "y": [
          6,
          4,
          7,
          14,
          6,
          35,
          3,
          5,
          1,
          4,
          2,
          8,
          0,
          1,
          1,
          2,
          7,
          1,
          0,
          3,
          10,
          0,
          3,
          6,
          1,
          0,
          2,
          1,
          4,
          4,
          6,
          2,
          1,
          8,
          2,
          3,
          2,
          1,
          5,
          3,
          8,
          3,
          2,
          1,
          3,
          3,
          1,
          2,
          9,
          7,
          3,
          1,
          6,
          1,
          1,
          13,
          4,
          4,
          4,
          2,
          14,
          4,
          3,
          4,
          2,
          3,
          4,
          2,
          3,
          4,
          30,
          4,
          0,
          3,
          8,
          5,
          19,
          8,
          0,
          3,
          4,
          3,
          0,
          31,
          5,
          2,
          6,
          5,
          4,
          2,
          3,
          0,
          2,
          2,
          5,
          2,
          2,
          2,
          4,
          8,
          1,
          2,
          8,
          0,
          14,
          1,
          2,
          1,
          2,
          3,
          1,
          1,
          4,
          0,
          19,
          5,
          11,
          0,
          1,
          1,
          4,
          8
         ]
        },
        {
         "marker": {
          "line": {
           "width": 2
          },
          "size": 10
         },
         "mode": "markers+lines",
         "name": "Author_2",
         "type": "scatter",
         "x": [
          "2019-03-12",
          "2019-03-13",
          "2019-05-03",
          "2019-06-26",
          "2019-06-27",
          "2019-06-28",
          "2019-06-29",
          "2019-07-02",
          "2019-07-03",
          "2019-07-04",
          "2019-07-05",
          "2019-09-03",
          "2019-09-29",
          "2019-10-02",
          "2019-10-03",
          "2019-10-13",
          "2019-10-14",
          "2019-10-15",
          "2019-10-16",
          "2019-10-17",
          "2019-10-18",
          "2019-10-19",
          "2019-10-20",
          "2019-10-21",
          "2019-10-22",
          "2019-10-23",
          "2019-10-24",
          "2019-10-25",
          "2019-10-26",
          "2019-10-28",
          "2019-10-29",
          "2019-10-30",
          "2019-10-31",
          "2019-11-04",
          "2019-11-05",
          "2019-11-06",
          "2019-11-11",
          "2019-11-12",
          "2019-11-13",
          "2019-11-21",
          "2019-11-27",
          "2019-11-28",
          "2019-12-03",
          "2019-12-10",
          "2019-12-11",
          "2019-12-18",
          "2019-12-19",
          "2020-01-01",
          "2020-01-16",
          "2020-02-07",
          "2020-03-04",
          "2020-03-11",
          "2020-03-16",
          "2020-03-31",
          "2020-04-10",
          "2020-05-14",
          "2020-05-15",
          "2020-05-20",
          "2020-05-23",
          "2020-05-26",
          "2020-05-29",
          "2020-05-30",
          "2020-05-31",
          "2020-06-01",
          "2020-06-02",
          "2020-06-04",
          "2020-06-12",
          "2020-06-15",
          "2020-06-16",
          "2020-06-17",
          "2020-06-18",
          "2020-06-19",
          "2020-06-20",
          "2020-06-21",
          "2020-06-22",
          "2020-06-23",
          "2020-06-24",
          "2020-06-25",
          "2020-06-26",
          "2020-06-29",
          "2020-06-30",
          "2020-07-01",
          "2020-07-02",
          "2020-07-08",
          "2020-07-11",
          "2020-07-12",
          "2020-07-24",
          "2020-07-26",
          "2020-07-29",
          "2020-08-01",
          "2020-08-05",
          "2020-09-03",
          "2020-09-04",
          "2020-09-08",
          "2020-09-14",
          "2020-09-18",
          "2020-09-19",
          "2020-09-20",
          "2020-09-22",
          "2020-09-24",
          "2020-10-09",
          "2020-10-10",
          "2020-10-11",
          "2020-10-12",
          "2020-10-13",
          "2020-10-19",
          "2020-10-22",
          "2020-10-27",
          "2020-11-01",
          "2020-11-08",
          "2020-11-11",
          "2020-11-12",
          "2020-11-14",
          "2020-11-17",
          "2020-11-18",
          "2020-11-20",
          "2020-11-22",
          "2020-11-23",
          "2020-11-24",
          "2020-11-25",
          "2020-11-27",
          "2020-11-28"
         ],
         "y": [
          3,
          3,
          3,
          3,
          0,
          2,
          0,
          0,
          0,
          0,
          1,
          12,
          3,
          3,
          1,
          0,
          12,
          3,
          2,
          2,
          2,
          0,
          1,
          17,
          12,
          2,
          3,
          4,
          23,
          1,
          6,
          2,
          4,
          4,
          8,
          3,
          3,
          0,
          8,
          0,
          12,
          3,
          1,
          2,
          2,
          1,
          1,
          0,
          4,
          7,
          4,
          2,
          0,
          0,
          1,
          9,
          2,
          1,
          2,
          1,
          19,
          4,
          4,
          0,
          4,
          0,
          7,
          9,
          15,
          19,
          19,
          6,
          2,
          11,
          17,
          2,
          7,
          28,
          7,
          3,
          2,
          0,
          0,
          15,
          1,
          0,
          6,
          10,
          5,
          1,
          4,
          0,
          1,
          1,
          7,
          0,
          4,
          0,
          5,
          6,
          0,
          1,
          7,
          0,
          8,
          0,
          0,
          3,
          8,
          14,
          0,
          0,
          5,
          4,
          20,
          3,
          16,
          2,
          1,
          0,
          2,
          12
         ]
        },
        {
         "marker": {
          "line": {
           "width": 2
          },
          "size": 10
         },
         "mode": "markers+lines",
         "name": "Author_3",
         "type": "scatter",
         "x": [
          "2019-03-12",
          "2019-03-13",
          "2019-05-03",
          "2019-06-26",
          "2019-06-27",
          "2019-06-28",
          "2019-06-29",
          "2019-07-02",
          "2019-07-03",
          "2019-07-04",
          "2019-07-05",
          "2019-09-03",
          "2019-09-29",
          "2019-10-02",
          "2019-10-03",
          "2019-10-13",
          "2019-10-14",
          "2019-10-15",
          "2019-10-16",
          "2019-10-17",
          "2019-10-18",
          "2019-10-19",
          "2019-10-20",
          "2019-10-21",
          "2019-10-22",
          "2019-10-23",
          "2019-10-24",
          "2019-10-25",
          "2019-10-26",
          "2019-10-28",
          "2019-10-29",
          "2019-10-30",
          "2019-10-31",
          "2019-11-04",
          "2019-11-05",
          "2019-11-06",
          "2019-11-11",
          "2019-11-12",
          "2019-11-13",
          "2019-11-21",
          "2019-11-27",
          "2019-11-28",
          "2019-12-03",
          "2019-12-10",
          "2019-12-11",
          "2019-12-18",
          "2019-12-19",
          "2020-01-01",
          "2020-01-16",
          "2020-02-07",
          "2020-03-04",
          "2020-03-11",
          "2020-03-16",
          "2020-03-31",
          "2020-04-10",
          "2020-05-14",
          "2020-05-15",
          "2020-05-20",
          "2020-05-23",
          "2020-05-26",
          "2020-05-29",
          "2020-05-30",
          "2020-05-31",
          "2020-06-01",
          "2020-06-02",
          "2020-06-04",
          "2020-06-12",
          "2020-06-15",
          "2020-06-16",
          "2020-06-17",
          "2020-06-18",
          "2020-06-19",
          "2020-06-20",
          "2020-06-21",
          "2020-06-22",
          "2020-06-23",
          "2020-06-24",
          "2020-06-25",
          "2020-06-26",
          "2020-06-29",
          "2020-06-30",
          "2020-07-01",
          "2020-07-02",
          "2020-07-08",
          "2020-07-11",
          "2020-07-12",
          "2020-07-24",
          "2020-07-26",
          "2020-07-29",
          "2020-08-01",
          "2020-08-05",
          "2020-09-03",
          "2020-09-04",
          "2020-09-08",
          "2020-09-14",
          "2020-09-18",
          "2020-09-19",
          "2020-09-20",
          "2020-09-22",
          "2020-09-24",
          "2020-10-09",
          "2020-10-10",
          "2020-10-11",
          "2020-10-12",
          "2020-10-13",
          "2020-10-19",
          "2020-10-22",
          "2020-10-27",
          "2020-11-01",
          "2020-11-08",
          "2020-11-11",
          "2020-11-12",
          "2020-11-14",
          "2020-11-17",
          "2020-11-18",
          "2020-11-20",
          "2020-11-22",
          "2020-11-23",
          "2020-11-24",
          "2020-11-25",
          "2020-11-27",
          "2020-11-28"
         ],
         "y": [
          1,
          0,
          0,
          4,
          2,
          2,
          0,
          0,
          1,
          8,
          4,
          3,
          0,
          2,
          0,
          3,
          8,
          0,
          2,
          0,
          4,
          2,
          9,
          22,
          2,
          0,
          3,
          0,
          0,
          1,
          1,
          0,
          1,
          0,
          5,
          0,
          2,
          0,
          12,
          1,
          4,
          1,
          0,
          2,
          1,
          1,
          0,
          0,
          0,
          4,
          4,
          0,
          1,
          1,
          1,
          4,
          3,
          7,
          0,
          2,
          4,
          3,
          4,
          0,
          0,
          6,
          1,
          0,
          0,
          3,
          0,
          0,
          0,
          1,
          2,
          0,
          3,
          0,
          0,
          2,
          1,
          2,
          0,
          33,
          2,
          0,
          0,
          5,
          0,
          0,
          0,
          0,
          0,
          0,
          0,
          0,
          0,
          0,
          1,
          1,
          0,
          2,
          6,
          1,
          14,
          0,
          0,
          3,
          0,
          3,
          0,
          0,
          0,
          0,
          7,
          1,
          4,
          1,
          0,
          0,
          0,
          4
         ]
        }
       ],
       "layout": {
        "template": {
         "data": {
          "bar": [
           {
            "error_x": {
             "color": "#2a3f5f"
            },
            "error_y": {
             "color": "#2a3f5f"
            },
            "marker": {
             "line": {
              "color": "#E5ECF6",
              "width": 0.5
             }
            },
            "type": "bar"
           }
          ],
          "barpolar": [
           {
            "marker": {
             "line": {
              "color": "#E5ECF6",
              "width": 0.5
             }
            },
            "type": "barpolar"
           }
          ],
          "carpet": [
           {
            "aaxis": {
             "endlinecolor": "#2a3f5f",
             "gridcolor": "white",
             "linecolor": "white",
             "minorgridcolor": "white",
             "startlinecolor": "#2a3f5f"
            },
            "baxis": {
             "endlinecolor": "#2a3f5f",
             "gridcolor": "white",
             "linecolor": "white",
             "minorgridcolor": "white",
             "startlinecolor": "#2a3f5f"
            },
            "type": "carpet"
           }
          ],
          "choropleth": [
           {
            "colorbar": {
             "outlinewidth": 0,
             "ticks": ""
            },
            "type": "choropleth"
           }
          ],
          "contour": [
           {
            "colorbar": {
             "outlinewidth": 0,
             "ticks": ""
            },
            "colorscale": [
             [
              0,
              "#0d0887"
             ],
             [
              0.1111111111111111,
              "#46039f"
             ],
             [
              0.2222222222222222,
              "#7201a8"
             ],
             [
              0.3333333333333333,
              "#9c179e"
             ],
             [
              0.4444444444444444,
              "#bd3786"
             ],
             [
              0.5555555555555556,
              "#d8576b"
             ],
             [
              0.6666666666666666,
              "#ed7953"
             ],
             [
              0.7777777777777778,
              "#fb9f3a"
             ],
             [
              0.8888888888888888,
              "#fdca26"
             ],
             [
              1,
              "#f0f921"
             ]
            ],
            "type": "contour"
           }
          ],
          "contourcarpet": [
           {
            "colorbar": {
             "outlinewidth": 0,
             "ticks": ""
            },
            "type": "contourcarpet"
           }
          ],
          "heatmap": [
           {
            "colorbar": {
             "outlinewidth": 0,
             "ticks": ""
            },
            "colorscale": [
             [
              0,
              "#0d0887"
             ],
             [
              0.1111111111111111,
              "#46039f"
             ],
             [
              0.2222222222222222,
              "#7201a8"
             ],
             [
              0.3333333333333333,
              "#9c179e"
             ],
             [
              0.4444444444444444,
              "#bd3786"
             ],
             [
              0.5555555555555556,
              "#d8576b"
             ],
             [
              0.6666666666666666,
              "#ed7953"
             ],
             [
              0.7777777777777778,
              "#fb9f3a"
             ],
             [
              0.8888888888888888,
              "#fdca26"
             ],
             [
              1,
              "#f0f921"
             ]
            ],
            "type": "heatmap"
           }
          ],
          "heatmapgl": [
           {
            "colorbar": {
             "outlinewidth": 0,
             "ticks": ""
            },
            "colorscale": [
             [
              0,
              "#0d0887"
             ],
             [
              0.1111111111111111,
              "#46039f"
             ],
             [
              0.2222222222222222,
              "#7201a8"
             ],
             [
              0.3333333333333333,
              "#9c179e"
             ],
             [
              0.4444444444444444,
              "#bd3786"
             ],
             [
              0.5555555555555556,
              "#d8576b"
             ],
             [
              0.6666666666666666,
              "#ed7953"
             ],
             [
              0.7777777777777778,
              "#fb9f3a"
             ],
             [
              0.8888888888888888,
              "#fdca26"
             ],
             [
              1,
              "#f0f921"
             ]
            ],
            "type": "heatmapgl"
           }
          ],
          "histogram": [
           {
            "marker": {
             "colorbar": {
              "outlinewidth": 0,
              "ticks": ""
             }
            },
            "type": "histogram"
           }
          ],
          "histogram2d": [
           {
            "colorbar": {
             "outlinewidth": 0,
             "ticks": ""
            },
            "colorscale": [
             [
              0,
              "#0d0887"
             ],
             [
              0.1111111111111111,
              "#46039f"
             ],
             [
              0.2222222222222222,
              "#7201a8"
             ],
             [
              0.3333333333333333,
              "#9c179e"
             ],
             [
              0.4444444444444444,
              "#bd3786"
             ],
             [
              0.5555555555555556,
              "#d8576b"
             ],
             [
              0.6666666666666666,
              "#ed7953"
             ],
             [
              0.7777777777777778,
              "#fb9f3a"
             ],
             [
              0.8888888888888888,
              "#fdca26"
             ],
             [
              1,
              "#f0f921"
             ]
            ],
            "type": "histogram2d"
           }
          ],
          "histogram2dcontour": [
           {
            "colorbar": {
             "outlinewidth": 0,
             "ticks": ""
            },
            "colorscale": [
             [
              0,
              "#0d0887"
             ],
             [
              0.1111111111111111,
              "#46039f"
             ],
             [
              0.2222222222222222,
              "#7201a8"
             ],
             [
              0.3333333333333333,
              "#9c179e"
             ],
             [
              0.4444444444444444,
              "#bd3786"
             ],
             [
              0.5555555555555556,
              "#d8576b"
             ],
             [
              0.6666666666666666,
              "#ed7953"
             ],
             [
              0.7777777777777778,
              "#fb9f3a"
             ],
             [
              0.8888888888888888,
              "#fdca26"
             ],
             [
              1,
              "#f0f921"
             ]
            ],
            "type": "histogram2dcontour"
           }
          ],
          "mesh3d": [
           {
            "colorbar": {
             "outlinewidth": 0,
             "ticks": ""
            },
            "type": "mesh3d"
           }
          ],
          "parcoords": [
           {
            "line": {
             "colorbar": {
              "outlinewidth": 0,
              "ticks": ""
             }
            },
            "type": "parcoords"
           }
          ],
          "pie": [
           {
            "automargin": true,
            "type": "pie"
           }
          ],
          "scatter": [
           {
            "marker": {
             "colorbar": {
              "outlinewidth": 0,
              "ticks": ""
             }
            },
            "type": "scatter"
           }
          ],
          "scatter3d": [
           {
            "line": {
             "colorbar": {
              "outlinewidth": 0,
              "ticks": ""
             }
            },
            "marker": {
             "colorbar": {
              "outlinewidth": 0,
              "ticks": ""
             }
            },
            "type": "scatter3d"
           }
          ],
          "scattercarpet": [
           {
            "marker": {
             "colorbar": {
              "outlinewidth": 0,
              "ticks": ""
             }
            },
            "type": "scattercarpet"
           }
          ],
          "scattergeo": [
           {
            "marker": {
             "colorbar": {
              "outlinewidth": 0,
              "ticks": ""
             }
            },
            "type": "scattergeo"
           }
          ],
          "scattergl": [
           {
            "marker": {
             "colorbar": {
              "outlinewidth": 0,
              "ticks": ""
             }
            },
            "type": "scattergl"
           }
          ],
          "scattermapbox": [
           {
            "marker": {
             "colorbar": {
              "outlinewidth": 0,
              "ticks": ""
             }
            },
            "type": "scattermapbox"
           }
          ],
          "scatterpolar": [
           {
            "marker": {
             "colorbar": {
              "outlinewidth": 0,
              "ticks": ""
             }
            },
            "type": "scatterpolar"
           }
          ],
          "scatterpolargl": [
           {
            "marker": {
             "colorbar": {
              "outlinewidth": 0,
              "ticks": ""
             }
            },
            "type": "scatterpolargl"
           }
          ],
          "scatterternary": [
           {
            "marker": {
             "colorbar": {
              "outlinewidth": 0,
              "ticks": ""
             }
            },
            "type": "scatterternary"
           }
          ],
          "surface": [
           {
            "colorbar": {
             "outlinewidth": 0,
             "ticks": ""
            },
            "colorscale": [
             [
              0,
              "#0d0887"
             ],
             [
              0.1111111111111111,
              "#46039f"
             ],
             [
              0.2222222222222222,
              "#7201a8"
             ],
             [
              0.3333333333333333,
              "#9c179e"
             ],
             [
              0.4444444444444444,
              "#bd3786"
             ],
             [
              0.5555555555555556,
              "#d8576b"
             ],
             [
              0.6666666666666666,
              "#ed7953"
             ],
             [
              0.7777777777777778,
              "#fb9f3a"
             ],
             [
              0.8888888888888888,
              "#fdca26"
             ],
             [
              1,
              "#f0f921"
             ]
            ],
            "type": "surface"
           }
          ],
          "table": [
           {
            "cells": {
             "fill": {
              "color": "#EBF0F8"
             },
             "line": {
              "color": "white"
             }
            },
            "header": {
             "fill": {
              "color": "#C8D4E3"
             },
             "line": {
              "color": "white"
             }
            },
            "type": "table"
           }
          ]
         },
         "layout": {
          "annotationdefaults": {
           "arrowcolor": "#2a3f5f",
           "arrowhead": 0,
           "arrowwidth": 1
          },
          "coloraxis": {
           "colorbar": {
            "outlinewidth": 0,
            "ticks": ""
           }
          },
          "colorscale": {
           "diverging": [
            [
             0,
             "#8e0152"
            ],
            [
             0.1,
             "#c51b7d"
            ],
            [
             0.2,
             "#de77ae"
            ],
            [
             0.3,
             "#f1b6da"
            ],
            [
             0.4,
             "#fde0ef"
            ],
            [
             0.5,
             "#f7f7f7"
            ],
            [
             0.6,
             "#e6f5d0"
            ],
            [
             0.7,
             "#b8e186"
            ],
            [
             0.8,
             "#7fbc41"
            ],
            [
             0.9,
             "#4d9221"
            ],
            [
             1,
             "#276419"
            ]
           ],
           "sequential": [
            [
             0,
             "#0d0887"
            ],
            [
             0.1111111111111111,
             "#46039f"
            ],
            [
             0.2222222222222222,
             "#7201a8"
            ],
            [
             0.3333333333333333,
             "#9c179e"
            ],
            [
             0.4444444444444444,
             "#bd3786"
            ],
            [
             0.5555555555555556,
             "#d8576b"
            ],
            [
             0.6666666666666666,
             "#ed7953"
            ],
            [
             0.7777777777777778,
             "#fb9f3a"
            ],
            [
             0.8888888888888888,
             "#fdca26"
            ],
            [
             1,
             "#f0f921"
            ]
           ],
           "sequentialminus": [
            [
             0,
             "#0d0887"
            ],
            [
             0.1111111111111111,
             "#46039f"
            ],
            [
             0.2222222222222222,
             "#7201a8"
            ],
            [
             0.3333333333333333,
             "#9c179e"
            ],
            [
             0.4444444444444444,
             "#bd3786"
            ],
            [
             0.5555555555555556,
             "#d8576b"
            ],
            [
             0.6666666666666666,
             "#ed7953"
            ],
            [
             0.7777777777777778,
             "#fb9f3a"
            ],
            [
             0.8888888888888888,
             "#fdca26"
            ],
            [
             1,
             "#f0f921"
            ]
           ]
          },
          "colorway": [
           "#636efa",
           "#EF553B",
           "#00cc96",
           "#ab63fa",
           "#FFA15A",
           "#19d3f3",
           "#FF6692",
           "#B6E880",
           "#FF97FF",
           "#FECB52"
          ],
          "font": {
           "color": "#2a3f5f"
          },
          "geo": {
           "bgcolor": "white",
           "lakecolor": "white",
           "landcolor": "#E5ECF6",
           "showlakes": true,
           "showland": true,
           "subunitcolor": "white"
          },
          "hoverlabel": {
           "align": "left"
          },
          "hovermode": "closest",
          "mapbox": {
           "style": "light"
          },
          "paper_bgcolor": "white",
          "plot_bgcolor": "#E5ECF6",
          "polar": {
           "angularaxis": {
            "gridcolor": "white",
            "linecolor": "white",
            "ticks": ""
           },
           "bgcolor": "#E5ECF6",
           "radialaxis": {
            "gridcolor": "white",
            "linecolor": "white",
            "ticks": ""
           }
          },
          "scene": {
           "xaxis": {
            "backgroundcolor": "#E5ECF6",
            "gridcolor": "white",
            "gridwidth": 2,
            "linecolor": "white",
            "showbackground": true,
            "ticks": "",
            "zerolinecolor": "white"
           },
           "yaxis": {
            "backgroundcolor": "#E5ECF6",
            "gridcolor": "white",
            "gridwidth": 2,
            "linecolor": "white",
            "showbackground": true,
            "ticks": "",
            "zerolinecolor": "white"
           },
           "zaxis": {
            "backgroundcolor": "#E5ECF6",
            "gridcolor": "white",
            "gridwidth": 2,
            "linecolor": "white",
            "showbackground": true,
            "ticks": "",
            "zerolinecolor": "white"
           }
          },
          "shapedefaults": {
           "line": {
            "color": "#2a3f5f"
           }
          },
          "ternary": {
           "aaxis": {
            "gridcolor": "white",
            "linecolor": "white",
            "ticks": ""
           },
           "baxis": {
            "gridcolor": "white",
            "linecolor": "white",
            "ticks": ""
           },
           "bgcolor": "#E5ECF6",
           "caxis": {
            "gridcolor": "white",
            "linecolor": "white",
            "ticks": ""
           }
          },
          "title": {
           "x": 0.05
          },
          "xaxis": {
           "automargin": true,
           "gridcolor": "white",
           "linecolor": "white",
           "ticks": "",
           "title": {
            "standoff": 15
           },
           "zerolinecolor": "white",
           "zerolinewidth": 2
          },
          "yaxis": {
           "automargin": true,
           "gridcolor": "white",
           "linecolor": "white",
           "ticks": "",
           "title": {
            "standoff": 15
           },
           "zerolinecolor": "white",
           "zerolinewidth": 2
          }
         }
        },
        "title": {
         "text": "Počet zpráv v čase"
        },
        "width": 1200,
        "xaxis": {
         "zeroline": false
        },
        "yaxis": {
         "zeroline": false
        }
       }
      }
     },
     "metadata": {}
    }
   ],
   "source": [
    "display_messages_in_time_scatter(writers, names, times, messages, True)"
   ]
  },
  {
   "cell_type": "code",
   "execution_count": 12,
   "metadata": {},
   "outputs": [
    {
     "output_type": "display_data",
     "data": {
      "application/vnd.plotly.v1+json": {
       "config": {
        "plotlyServerURL": "https://plot.ly"
       },
       "data": [
        {
         "histfunc": "count",
         "name": "Author_0",
         "type": "histogram",
         "x": [
          "Pondělí",
          "Pondělí",
          "Pondělí",
          "Pondělí",
          "Pondělí",
          "Pondělí",
          "Pondělí",
          "Pondělí",
          "Pondělí",
          "Pondělí",
          "Pondělí",
          "Pondělí",
          "Pondělí",
          "Pondělí",
          "Pondělí",
          "Pondělí",
          "Pondělí",
          "Pondělí",
          "Pondělí",
          "Pondělí",
          "Pondělí",
          "Pondělí",
          "Pondělí",
          "Pondělí",
          "Pondělí",
          "Pondělí",
          "Pondělí",
          "Pondělí",
          "Pondělí",
          "Pondělí",
          "Pondělí",
          "Pondělí",
          "Pondělí",
          "Pondělí",
          "Pondělí",
          "Pondělí",
          "Pondělí",
          "Pondělí",
          "Pondělí",
          "Pondělí",
          "Pondělí",
          "Pondělí",
          "Pondělí",
          "Pondělí",
          "Pondělí",
          "Pondělí",
          "Pondělí",
          "Pondělí",
          "Pondělí",
          "Pondělí",
          "Pondělí",
          "Pondělí",
          "Pondělí",
          "Pondělí",
          "Pondělí",
          "Pondělí",
          "Pondělí",
          "Pondělí",
          "Pondělí",
          "Pondělí",
          "Pondělí",
          "Pondělí",
          "Pondělí",
          "Pondělí",
          "Pondělí",
          "Pondělí",
          "Pondělí",
          "Pondělí",
          "Pondělí",
          "Pondělí",
          "Pondělí",
          "Pondělí",
          "Pondělí",
          "Pondělí",
          "Pondělí",
          "Pondělí",
          "Pondělí",
          "Pondělí",
          "Pondělí",
          "Pondělí",
          "Pondělí",
          "Pondělí",
          "Pondělí",
          "Pondělí",
          "Pondělí",
          "Pondělí",
          "Pondělí",
          "Pondělí",
          "Pondělí",
          "Pondělí",
          "Pondělí",
          "Pondělí",
          "Pondělí",
          "Pondělí",
          "Pondělí",
          "Pondělí",
          "Pondělí",
          "Pondělí",
          "Úterý",
          "Úterý",
          "Úterý",
          "Úterý",
          "Úterý",
          "Úterý",
          "Úterý",
          "Úterý",
          "Úterý",
          "Úterý",
          "Úterý",
          "Úterý",
          "Úterý",
          "Úterý",
          "Úterý",
          "Úterý",
          "Úterý",
          "Úterý",
          "Úterý",
          "Úterý",
          "Úterý",
          "Úterý",
          "Úterý",
          "Úterý",
          "Úterý",
          "Úterý",
          "Úterý",
          "Úterý",
          "Úterý",
          "Úterý",
          "Úterý",
          "Úterý",
          "Úterý",
          "Úterý",
          "Úterý",
          "Úterý",
          "Úterý",
          "Úterý",
          "Úterý",
          "Úterý",
          "Úterý",
          "Úterý",
          "Úterý",
          "Úterý",
          "Úterý",
          "Úterý",
          "Úterý",
          "Úterý",
          "Úterý",
          "Úterý",
          "Úterý",
          "Úterý",
          "Úterý",
          "Úterý",
          "Úterý",
          "Úterý",
          "Úterý",
          "Úterý",
          "Úterý",
          "Úterý",
          "Úterý",
          "Úterý",
          "Úterý",
          "Úterý",
          "Úterý",
          "Úterý",
          "Úterý",
          "Úterý",
          "Úterý",
          "Úterý",
          "Úterý",
          "Úterý",
          "Úterý",
          "Úterý",
          "Úterý",
          "Úterý",
          "Úterý",
          "Úterý",
          "Středa",
          "Středa",
          "Středa",
          "Středa",
          "Středa",
          "Středa",
          "Středa",
          "Středa",
          "Středa",
          "Středa",
          "Středa",
          "Středa",
          "Středa",
          "Středa",
          "Středa",
          "Středa",
          "Středa",
          "Středa",
          "Středa",
          "Středa",
          "Středa",
          "Středa",
          "Středa",
          "Středa",
          "Středa",
          "Středa",
          "Středa",
          "Středa",
          "Středa",
          "Středa",
          "Středa",
          "Středa",
          "Středa",
          "Středa",
          "Středa",
          "Středa",
          "Středa",
          "Středa",
          "Středa",
          "Středa",
          "Středa",
          "Středa",
          "Středa",
          "Středa",
          "Středa",
          "Středa",
          "Středa",
          "Středa",
          "Středa",
          "Středa",
          "Středa",
          "Středa",
          "Středa",
          "Středa",
          "Středa",
          "Středa",
          "Středa",
          "Středa",
          "Středa",
          "Středa",
          "Středa",
          "Středa",
          "Středa",
          "Středa",
          "Středa",
          "Středa",
          "Středa",
          "Středa",
          "Středa",
          "Středa",
          "Středa",
          "Středa",
          "Středa",
          "Středa",
          "Středa",
          "Středa",
          "Středa",
          "Středa",
          "Středa",
          "Středa",
          "Středa",
          "Středa",
          "Středa",
          "Středa",
          "Čtvrtek",
          "Čtvrtek",
          "Čtvrtek",
          "Čtvrtek",
          "Čtvrtek",
          "Čtvrtek",
          "Čtvrtek",
          "Čtvrtek",
          "Čtvrtek",
          "Čtvrtek",
          "Čtvrtek",
          "Čtvrtek",
          "Čtvrtek",
          "Čtvrtek",
          "Čtvrtek",
          "Čtvrtek",
          "Čtvrtek",
          "Čtvrtek",
          "Čtvrtek",
          "Čtvrtek",
          "Čtvrtek",
          "Čtvrtek",
          "Čtvrtek",
          "Čtvrtek",
          "Čtvrtek",
          "Čtvrtek",
          "Čtvrtek",
          "Čtvrtek",
          "Čtvrtek",
          "Čtvrtek",
          "Čtvrtek",
          "Čtvrtek",
          "Čtvrtek",
          "Čtvrtek",
          "Čtvrtek",
          "Čtvrtek",
          "Čtvrtek",
          "Čtvrtek",
          "Čtvrtek",
          "Čtvrtek",
          "Čtvrtek",
          "Čtvrtek",
          "Čtvrtek",
          "Čtvrtek",
          "Čtvrtek",
          "Čtvrtek",
          "Čtvrtek",
          "Čtvrtek",
          "Čtvrtek",
          "Čtvrtek",
          "Čtvrtek",
          "Čtvrtek",
          "Čtvrtek",
          "Čtvrtek",
          "Čtvrtek",
          "Čtvrtek",
          "Čtvrtek",
          "Čtvrtek",
          "Čtvrtek",
          "Čtvrtek",
          "Čtvrtek",
          "Čtvrtek",
          "Čtvrtek",
          "Čtvrtek",
          "Čtvrtek",
          "Čtvrtek",
          "Čtvrtek",
          "Čtvrtek",
          "Čtvrtek",
          "Čtvrtek",
          "Čtvrtek",
          "Čtvrtek",
          "Čtvrtek",
          "Čtvrtek",
          "Čtvrtek",
          "Čtvrtek",
          "Čtvrtek",
          "Čtvrtek",
          "Čtvrtek",
          "Čtvrtek",
          "Čtvrtek",
          "Čtvrtek",
          "Čtvrtek",
          "Čtvrtek",
          "Čtvrtek",
          "Čtvrtek",
          "Čtvrtek",
          "Čtvrtek",
          "Čtvrtek",
          "Čtvrtek",
          "Čtvrtek",
          "Čtvrtek",
          "Čtvrtek",
          "Čtvrtek",
          "Čtvrtek",
          "Čtvrtek",
          "Čtvrtek",
          "Čtvrtek",
          "Čtvrtek",
          "Čtvrtek",
          "Pátek",
          "Pátek",
          "Pátek",
          "Pátek",
          "Pátek",
          "Pátek",
          "Pátek",
          "Pátek",
          "Pátek",
          "Pátek",
          "Pátek",
          "Pátek",
          "Pátek",
          "Pátek",
          "Pátek",
          "Pátek",
          "Pátek",
          "Pátek",
          "Pátek",
          "Pátek",
          "Pátek",
          "Pátek",
          "Pátek",
          "Pátek",
          "Pátek",
          "Pátek",
          "Pátek",
          "Pátek",
          "Pátek",
          "Pátek",
          "Pátek",
          "Pátek",
          "Pátek",
          "Pátek",
          "Pátek",
          "Pátek",
          "Pátek",
          "Pátek",
          "Pátek",
          "Pátek",
          "Pátek",
          "Pátek",
          "Pátek",
          "Pátek",
          "Pátek",
          "Pátek",
          "Pátek",
          "Pátek",
          "Pátek",
          "Pátek",
          "Pátek",
          "Pátek",
          "Pátek",
          "Pátek",
          "Pátek",
          "Pátek",
          "Pátek",
          "Pátek",
          "Pátek",
          "Pátek",
          "Pátek",
          "Pátek",
          "Pátek",
          "Pátek",
          "Pátek",
          "Pátek",
          "Pátek",
          "Pátek",
          "Pátek",
          "Pátek",
          "Pátek",
          "Pátek",
          "Pátek",
          "Pátek",
          "Pátek",
          "Pátek",
          "Pátek",
          "Sobota",
          "Sobota",
          "Sobota",
          "Sobota",
          "Sobota",
          "Sobota",
          "Sobota",
          "Sobota",
          "Sobota",
          "Sobota",
          "Sobota",
          "Sobota",
          "Sobota",
          "Sobota",
          "Sobota",
          "Sobota",
          "Sobota",
          "Sobota",
          "Sobota",
          "Sobota",
          "Sobota",
          "Sobota",
          "Sobota",
          "Sobota",
          "Sobota",
          "Sobota",
          "Sobota",
          "Sobota",
          "Sobota",
          "Sobota",
          "Sobota",
          "Sobota",
          "Sobota",
          "Sobota",
          "Sobota",
          "Sobota",
          "Sobota",
          "Sobota",
          "Neděle",
          "Neděle",
          "Neděle",
          "Neděle",
          "Neděle",
          "Neděle",
          "Neděle",
          "Neděle",
          "Neděle",
          "Neděle",
          "Neděle",
          "Neděle",
          "Neděle",
          "Neděle",
          "Neděle",
          "Neděle",
          "Neděle",
          "Neděle",
          "Neděle",
          "Neděle",
          "Neděle",
          "Neděle",
          "Neděle",
          "Neděle",
          "Neděle",
          "Neděle",
          "Neděle",
          "Neděle",
          "Neděle",
          "Neděle",
          "Neděle",
          "Neděle",
          "Neděle",
          "Neděle",
          "Neděle",
          "Neděle",
          "Neděle",
          "Neděle",
          "Neděle"
         ]
        },
        {
         "histfunc": "count",
         "name": "Author_1",
         "type": "histogram",
         "x": [
          "Pondělí",
          "Pondělí",
          "Pondělí",
          "Pondělí",
          "Pondělí",
          "Pondělí",
          "Pondělí",
          "Pondělí",
          "Pondělí",
          "Pondělí",
          "Pondělí",
          "Pondělí",
          "Pondělí",
          "Pondělí",
          "Pondělí",
          "Pondělí",
          "Pondělí",
          "Pondělí",
          "Pondělí",
          "Pondělí",
          "Pondělí",
          "Pondělí",
          "Pondělí",
          "Pondělí",
          "Pondělí",
          "Pondělí",
          "Pondělí",
          "Pondělí",
          "Pondělí",
          "Pondělí",
          "Pondělí",
          "Pondělí",
          "Pondělí",
          "Pondělí",
          "Pondělí",
          "Pondělí",
          "Pondělí",
          "Pondělí",
          "Pondělí",
          "Pondělí",
          "Pondělí",
          "Pondělí",
          "Pondělí",
          "Pondělí",
          "Pondělí",
          "Pondělí",
          "Pondělí",
          "Pondělí",
          "Pondělí",
          "Pondělí",
          "Pondělí",
          "Pondělí",
          "Pondělí",
          "Pondělí",
          "Pondělí",
          "Pondělí",
          "Úterý",
          "Úterý",
          "Úterý",
          "Úterý",
          "Úterý",
          "Úterý",
          "Úterý",
          "Úterý",
          "Úterý",
          "Úterý",
          "Úterý",
          "Úterý",
          "Úterý",
          "Úterý",
          "Úterý",
          "Úterý",
          "Úterý",
          "Úterý",
          "Úterý",
          "Úterý",
          "Úterý",
          "Úterý",
          "Úterý",
          "Úterý",
          "Úterý",
          "Úterý",
          "Úterý",
          "Úterý",
          "Úterý",
          "Úterý",
          "Úterý",
          "Úterý",
          "Úterý",
          "Úterý",
          "Úterý",
          "Úterý",
          "Úterý",
          "Úterý",
          "Úterý",
          "Úterý",
          "Úterý",
          "Úterý",
          "Úterý",
          "Úterý",
          "Úterý",
          "Úterý",
          "Úterý",
          "Úterý",
          "Úterý",
          "Úterý",
          "Úterý",
          "Úterý",
          "Úterý",
          "Úterý",
          "Úterý",
          "Úterý",
          "Úterý",
          "Úterý",
          "Úterý",
          "Úterý",
          "Úterý",
          "Úterý",
          "Úterý",
          "Úterý",
          "Úterý",
          "Úterý",
          "Úterý",
          "Úterý",
          "Úterý",
          "Úterý",
          "Úterý",
          "Úterý",
          "Středa",
          "Středa",
          "Středa",
          "Středa",
          "Středa",
          "Středa",
          "Středa",
          "Středa",
          "Středa",
          "Středa",
          "Středa",
          "Středa",
          "Středa",
          "Středa",
          "Středa",
          "Středa",
          "Středa",
          "Středa",
          "Středa",
          "Středa",
          "Středa",
          "Středa",
          "Středa",
          "Středa",
          "Středa",
          "Středa",
          "Středa",
          "Středa",
          "Středa",
          "Středa",
          "Středa",
          "Středa",
          "Středa",
          "Středa",
          "Středa",
          "Středa",
          "Středa",
          "Středa",
          "Středa",
          "Středa",
          "Středa",
          "Středa",
          "Středa",
          "Středa",
          "Středa",
          "Středa",
          "Středa",
          "Středa",
          "Středa",
          "Středa",
          "Středa",
          "Středa",
          "Středa",
          "Středa",
          "Středa",
          "Středa",
          "Středa",
          "Středa",
          "Středa",
          "Středa",
          "Středa",
          "Středa",
          "Středa",
          "Středa",
          "Středa",
          "Středa",
          "Středa",
          "Středa",
          "Středa",
          "Středa",
          "Středa",
          "Středa",
          "Středa",
          "Středa",
          "Středa",
          "Středa",
          "Středa",
          "Středa",
          "Středa",
          "Středa",
          "Středa",
          "Středa",
          "Středa",
          "Středa",
          "Středa",
          "Středa",
          "Středa",
          "Středa",
          "Středa",
          "Středa",
          "Středa",
          "Středa",
          "Středa",
          "Středa",
          "Středa",
          "Středa",
          "Středa",
          "Středa",
          "Středa",
          "Středa",
          "Středa",
          "Středa",
          "Středa",
          "Středa",
          "Středa",
          "Středa",
          "Středa",
          "Středa",
          "Středa",
          "Středa",
          "Středa",
          "Středa",
          "Středa",
          "Středa",
          "Středa",
          "Středa",
          "Středa",
          "Středa",
          "Středa",
          "Středa",
          "Středa",
          "Středa",
          "Středa",
          "Středa",
          "Středa",
          "Středa",
          "Středa",
          "Středa",
          "Středa",
          "Středa",
          "Středa",
          "Středa",
          "Středa",
          "Středa",
          "Středa",
          "Středa",
          "Středa",
          "Středa",
          "Středa",
          "Čtvrtek",
          "Čtvrtek",
          "Čtvrtek",
          "Čtvrtek",
          "Čtvrtek",
          "Čtvrtek",
          "Čtvrtek",
          "Čtvrtek",
          "Čtvrtek",
          "Čtvrtek",
          "Čtvrtek",
          "Čtvrtek",
          "Čtvrtek",
          "Čtvrtek",
          "Čtvrtek",
          "Čtvrtek",
          "Čtvrtek",
          "Čtvrtek",
          "Čtvrtek",
          "Čtvrtek",
          "Čtvrtek",
          "Čtvrtek",
          "Čtvrtek",
          "Čtvrtek",
          "Čtvrtek",
          "Čtvrtek",
          "Čtvrtek",
          "Čtvrtek",
          "Čtvrtek",
          "Čtvrtek",
          "Čtvrtek",
          "Čtvrtek",
          "Čtvrtek",
          "Čtvrtek",
          "Čtvrtek",
          "Čtvrtek",
          "Čtvrtek",
          "Čtvrtek",
          "Čtvrtek",
          "Čtvrtek",
          "Čtvrtek",
          "Čtvrtek",
          "Čtvrtek",
          "Čtvrtek",
          "Čtvrtek",
          "Čtvrtek",
          "Čtvrtek",
          "Čtvrtek",
          "Čtvrtek",
          "Čtvrtek",
          "Čtvrtek",
          "Čtvrtek",
          "Čtvrtek",
          "Čtvrtek",
          "Čtvrtek",
          "Čtvrtek",
          "Čtvrtek",
          "Čtvrtek",
          "Čtvrtek",
          "Čtvrtek",
          "Čtvrtek",
          "Čtvrtek",
          "Čtvrtek",
          "Čtvrtek",
          "Čtvrtek",
          "Čtvrtek",
          "Čtvrtek",
          "Čtvrtek",
          "Čtvrtek",
          "Čtvrtek",
          "Čtvrtek",
          "Čtvrtek",
          "Čtvrtek",
          "Čtvrtek",
          "Čtvrtek",
          "Čtvrtek",
          "Čtvrtek",
          "Čtvrtek",
          "Čtvrtek",
          "Čtvrtek",
          "Čtvrtek",
          "Čtvrtek",
          "Čtvrtek",
          "Čtvrtek",
          "Čtvrtek",
          "Čtvrtek",
          "Čtvrtek",
          "Čtvrtek",
          "Čtvrtek",
          "Čtvrtek",
          "Čtvrtek",
          "Čtvrtek",
          "Čtvrtek",
          "Čtvrtek",
          "Čtvrtek",
          "Čtvrtek",
          "Čtvrtek",
          "Čtvrtek",
          "Pátek",
          "Pátek",
          "Pátek",
          "Pátek",
          "Pátek",
          "Pátek",
          "Pátek",
          "Pátek",
          "Pátek",
          "Pátek",
          "Pátek",
          "Pátek",
          "Pátek",
          "Pátek",
          "Pátek",
          "Pátek",
          "Pátek",
          "Pátek",
          "Pátek",
          "Pátek",
          "Pátek",
          "Pátek",
          "Pátek",
          "Pátek",
          "Pátek",
          "Pátek",
          "Pátek",
          "Pátek",
          "Pátek",
          "Pátek",
          "Pátek",
          "Pátek",
          "Pátek",
          "Pátek",
          "Pátek",
          "Pátek",
          "Pátek",
          "Pátek",
          "Pátek",
          "Pátek",
          "Pátek",
          "Pátek",
          "Pátek",
          "Pátek",
          "Pátek",
          "Pátek",
          "Pátek",
          "Pátek",
          "Pátek",
          "Pátek",
          "Pátek",
          "Pátek",
          "Pátek",
          "Pátek",
          "Pátek",
          "Pátek",
          "Pátek",
          "Pátek",
          "Pátek",
          "Pátek",
          "Pátek",
          "Pátek",
          "Pátek",
          "Pátek",
          "Pátek",
          "Pátek",
          "Pátek",
          "Pátek",
          "Pátek",
          "Pátek",
          "Pátek",
          "Pátek",
          "Pátek",
          "Pátek",
          "Pátek",
          "Pátek",
          "Pátek",
          "Pátek",
          "Pátek",
          "Pátek",
          "Pátek",
          "Pátek",
          "Pátek",
          "Pátek",
          "Pátek",
          "Pátek",
          "Pátek",
          "Pátek",
          "Pátek",
          "Pátek",
          "Pátek",
          "Pátek",
          "Pátek",
          "Pátek",
          "Pátek",
          "Pátek",
          "Pátek",
          "Pátek",
          "Pátek",
          "Pátek",
          "Pátek",
          "Pátek",
          "Pátek",
          "Pátek",
          "Pátek",
          "Pátek",
          "Pátek",
          "Pátek",
          "Pátek",
          "Sobota",
          "Sobota",
          "Sobota",
          "Sobota",
          "Sobota",
          "Sobota",
          "Sobota",
          "Sobota",
          "Sobota",
          "Sobota",
          "Sobota",
          "Sobota",
          "Sobota",
          "Sobota",
          "Sobota",
          "Sobota",
          "Sobota",
          "Sobota",
          "Sobota",
          "Sobota",
          "Sobota",
          "Sobota",
          "Sobota",
          "Sobota",
          "Sobota",
          "Sobota",
          "Sobota",
          "Sobota",
          "Sobota",
          "Sobota",
          "Sobota",
          "Sobota",
          "Sobota",
          "Sobota",
          "Sobota",
          "Sobota",
          "Sobota",
          "Sobota",
          "Neděle",
          "Neděle",
          "Neděle",
          "Neděle",
          "Neděle",
          "Neděle",
          "Neděle",
          "Neděle",
          "Neděle",
          "Neděle",
          "Neděle",
          "Neděle",
          "Neděle",
          "Neděle",
          "Neděle",
          "Neděle",
          "Neděle",
          "Neděle",
          "Neděle",
          "Neděle",
          "Neděle",
          "Neděle",
          "Neděle",
          "Neděle",
          "Neděle",
          "Neděle",
          "Neděle",
          "Neděle",
          "Neděle",
          "Neděle",
          "Neděle",
          "Neděle",
          "Neděle",
          "Neděle",
          "Neděle",
          "Neděle",
          "Neděle",
          "Neděle",
          "Neděle",
          "Neděle",
          "Neděle",
          "Neděle",
          "Neděle",
          "Neděle"
         ]
        },
        {
         "histfunc": "count",
         "name": "Author_2",
         "type": "histogram",
         "x": [
          "Pondělí",
          "Pondělí",
          "Pondělí",
          "Pondělí",
          "Pondělí",
          "Pondělí",
          "Pondělí",
          "Pondělí",
          "Pondělí",
          "Pondělí",
          "Pondělí",
          "Pondělí",
          "Pondělí",
          "Pondělí",
          "Pondělí",
          "Pondělí",
          "Pondělí",
          "Pondělí",
          "Pondělí",
          "Pondělí",
          "Pondělí",
          "Pondělí",
          "Pondělí",
          "Pondělí",
          "Pondělí",
          "Pondělí",
          "Pondělí",
          "Pondělí",
          "Pondělí",
          "Pondělí",
          "Pondělí",
          "Pondělí",
          "Pondělí",
          "Pondělí",
          "Pondělí",
          "Pondělí",
          "Pondělí",
          "Pondělí",
          "Pondělí",
          "Pondělí",
          "Pondělí",
          "Pondělí",
          "Pondělí",
          "Pondělí",
          "Pondělí",
          "Pondělí",
          "Pondělí",
          "Pondělí",
          "Pondělí",
          "Pondělí",
          "Pondělí",
          "Pondělí",
          "Pondělí",
          "Pondělí",
          "Pondělí",
          "Pondělí",
          "Pondělí",
          "Pondělí",
          "Pondělí",
          "Pondělí",
          "Pondělí",
          "Pondělí",
          "Pondělí",
          "Pondělí",
          "Pondělí",
          "Pondělí",
          "Pondělí",
          "Pondělí",
          "Pondělí",
          "Pondělí",
          "Pondělí",
          "Pondělí",
          "Pondělí",
          "Pondělí",
          "Pondělí",
          "Úterý",
          "Úterý",
          "Úterý",
          "Úterý",
          "Úterý",
          "Úterý",
          "Úterý",
          "Úterý",
          "Úterý",
          "Úterý",
          "Úterý",
          "Úterý",
          "Úterý",
          "Úterý",
          "Úterý",
          "Úterý",
          "Úterý",
          "Úterý",
          "Úterý",
          "Úterý",
          "Úterý",
          "Úterý",
          "Úterý",
          "Úterý",
          "Úterý",
          "Úterý",
          "Úterý",
          "Úterý",
          "Úterý",
          "Úterý",
          "Úterý",
          "Úterý",
          "Úterý",
          "Úterý",
          "Úterý",
          "Úterý",
          "Úterý",
          "Úterý",
          "Úterý",
          "Úterý",
          "Úterý",
          "Úterý",
          "Úterý",
          "Úterý",
          "Úterý",
          "Úterý",
          "Úterý",
          "Úterý",
          "Úterý",
          "Úterý",
          "Úterý",
          "Úterý",
          "Úterý",
          "Úterý",
          "Úterý",
          "Úterý",
          "Úterý",
          "Úterý",
          "Úterý",
          "Úterý",
          "Úterý",
          "Úterý",
          "Úterý",
          "Úterý",
          "Úterý",
          "Úterý",
          "Úterý",
          "Úterý",
          "Úterý",
          "Úterý",
          "Úterý",
          "Úterý",
          "Úterý",
          "Úterý",
          "Úterý",
          "Úterý",
          "Úterý",
          "Úterý",
          "Úterý",
          "Úterý",
          "Úterý",
          "Úterý",
          "Úterý",
          "Úterý",
          "Úterý",
          "Úterý",
          "Úterý",
          "Úterý",
          "Úterý",
          "Úterý",
          "Úterý",
          "Úterý",
          "Úterý",
          "Středa",
          "Středa",
          "Středa",
          "Středa",
          "Středa",
          "Středa",
          "Středa",
          "Středa",
          "Středa",
          "Středa",
          "Středa",
          "Středa",
          "Středa",
          "Středa",
          "Středa",
          "Středa",
          "Středa",
          "Středa",
          "Středa",
          "Středa",
          "Středa",
          "Středa",
          "Středa",
          "Středa",
          "Středa",
          "Středa",
          "Středa",
          "Středa",
          "Středa",
          "Středa",
          "Středa",
          "Středa",
          "Středa",
          "Středa",
          "Středa",
          "Středa",
          "Středa",
          "Středa",
          "Středa",
          "Středa",
          "Středa",
          "Středa",
          "Středa",
          "Středa",
          "Středa",
          "Středa",
          "Středa",
          "Středa",
          "Středa",
          "Středa",
          "Středa",
          "Středa",
          "Středa",
          "Středa",
          "Středa",
          "Středa",
          "Středa",
          "Středa",
          "Středa",
          "Středa",
          "Středa",
          "Středa",
          "Středa",
          "Středa",
          "Středa",
          "Středa",
          "Středa",
          "Středa",
          "Středa",
          "Středa",
          "Středa",
          "Středa",
          "Středa",
          "Středa",
          "Středa",
          "Středa",
          "Středa",
          "Středa",
          "Středa",
          "Středa",
          "Středa",
          "Středa",
          "Středa",
          "Středa",
          "Středa",
          "Středa",
          "Středa",
          "Středa",
          "Středa",
          "Středa",
          "Středa",
          "Středa",
          "Středa",
          "Středa",
          "Středa",
          "Středa",
          "Středa",
          "Středa",
          "Středa",
          "Středa",
          "Středa",
          "Středa",
          "Středa",
          "Středa",
          "Středa",
          "Středa",
          "Středa",
          "Středa",
          "Středa",
          "Středa",
          "Středa",
          "Středa",
          "Středa",
          "Středa",
          "Středa",
          "Středa",
          "Středa",
          "Středa",
          "Čtvrtek",
          "Čtvrtek",
          "Čtvrtek",
          "Čtvrtek",
          "Čtvrtek",
          "Čtvrtek",
          "Čtvrtek",
          "Čtvrtek",
          "Čtvrtek",
          "Čtvrtek",
          "Čtvrtek",
          "Čtvrtek",
          "Čtvrtek",
          "Čtvrtek",
          "Čtvrtek",
          "Čtvrtek",
          "Čtvrtek",
          "Čtvrtek",
          "Čtvrtek",
          "Čtvrtek",
          "Čtvrtek",
          "Čtvrtek",
          "Čtvrtek",
          "Čtvrtek",
          "Čtvrtek",
          "Čtvrtek",
          "Čtvrtek",
          "Čtvrtek",
          "Čtvrtek",
          "Čtvrtek",
          "Čtvrtek",
          "Čtvrtek",
          "Čtvrtek",
          "Čtvrtek",
          "Čtvrtek",
          "Čtvrtek",
          "Čtvrtek",
          "Čtvrtek",
          "Čtvrtek",
          "Čtvrtek",
          "Čtvrtek",
          "Čtvrtek",
          "Čtvrtek",
          "Čtvrtek",
          "Čtvrtek",
          "Čtvrtek",
          "Čtvrtek",
          "Čtvrtek",
          "Čtvrtek",
          "Čtvrtek",
          "Čtvrtek",
          "Čtvrtek",
          "Čtvrtek",
          "Čtvrtek",
          "Čtvrtek",
          "Čtvrtek",
          "Čtvrtek",
          "Čtvrtek",
          "Čtvrtek",
          "Čtvrtek",
          "Čtvrtek",
          "Čtvrtek",
          "Čtvrtek",
          "Čtvrtek",
          "Čtvrtek",
          "Čtvrtek",
          "Čtvrtek",
          "Čtvrtek",
          "Čtvrtek",
          "Čtvrtek",
          "Čtvrtek",
          "Čtvrtek",
          "Čtvrtek",
          "Čtvrtek",
          "Čtvrtek",
          "Čtvrtek",
          "Čtvrtek",
          "Čtvrtek",
          "Čtvrtek",
          "Čtvrtek",
          "Pátek",
          "Pátek",
          "Pátek",
          "Pátek",
          "Pátek",
          "Pátek",
          "Pátek",
          "Pátek",
          "Pátek",
          "Pátek",
          "Pátek",
          "Pátek",
          "Pátek",
          "Pátek",
          "Pátek",
          "Pátek",
          "Pátek",
          "Pátek",
          "Pátek",
          "Pátek",
          "Pátek",
          "Pátek",
          "Pátek",
          "Pátek",
          "Pátek",
          "Pátek",
          "Pátek",
          "Pátek",
          "Pátek",
          "Pátek",
          "Pátek",
          "Pátek",
          "Pátek",
          "Pátek",
          "Pátek",
          "Pátek",
          "Pátek",
          "Pátek",
          "Pátek",
          "Pátek",
          "Pátek",
          "Pátek",
          "Pátek",
          "Pátek",
          "Pátek",
          "Pátek",
          "Pátek",
          "Pátek",
          "Pátek",
          "Pátek",
          "Pátek",
          "Pátek",
          "Pátek",
          "Pátek",
          "Pátek",
          "Pátek",
          "Pátek",
          "Pátek",
          "Pátek",
          "Pátek",
          "Pátek",
          "Pátek",
          "Pátek",
          "Pátek",
          "Pátek",
          "Pátek",
          "Pátek",
          "Pátek",
          "Pátek",
          "Pátek",
          "Pátek",
          "Pátek",
          "Pátek",
          "Sobota",
          "Sobota",
          "Sobota",
          "Sobota",
          "Sobota",
          "Sobota",
          "Sobota",
          "Sobota",
          "Sobota",
          "Sobota",
          "Sobota",
          "Sobota",
          "Sobota",
          "Sobota",
          "Sobota",
          "Sobota",
          "Sobota",
          "Sobota",
          "Sobota",
          "Sobota",
          "Sobota",
          "Sobota",
          "Sobota",
          "Sobota",
          "Sobota",
          "Sobota",
          "Sobota",
          "Sobota",
          "Sobota",
          "Sobota",
          "Sobota",
          "Sobota",
          "Sobota",
          "Sobota",
          "Sobota",
          "Sobota",
          "Sobota",
          "Sobota",
          "Sobota",
          "Sobota",
          "Sobota",
          "Sobota",
          "Sobota",
          "Sobota",
          "Sobota",
          "Sobota",
          "Sobota",
          "Sobota",
          "Sobota",
          "Sobota",
          "Sobota",
          "Sobota",
          "Sobota",
          "Sobota",
          "Sobota",
          "Neděle",
          "Neděle",
          "Neděle",
          "Neděle",
          "Neděle",
          "Neděle",
          "Neděle",
          "Neděle",
          "Neděle",
          "Neděle",
          "Neděle",
          "Neděle",
          "Neděle",
          "Neděle",
          "Neděle",
          "Neděle",
          "Neděle",
          "Neděle",
          "Neděle",
          "Neděle",
          "Neděle",
          "Neděle",
          "Neděle",
          "Neděle",
          "Neděle",
          "Neděle",
          "Neděle",
          "Neděle",
          "Neděle",
          "Neděle",
          "Neděle",
          "Neděle",
          "Neděle",
          "Neděle",
          "Neděle",
          "Neděle",
          "Neděle",
          "Neděle",
          "Neděle",
          "Neděle",
          "Neděle",
          "Neděle",
          "Neděle",
          "Neděle",
          "Neděle",
          "Neděle",
          "Neděle",
          "Neděle",
          "Neděle",
          "Neděle",
          "Neděle",
          "Neděle",
          "Neděle",
          "Neděle",
          "Neděle",
          "Neděle",
          "Neděle",
          "Neděle",
          "Neděle",
          "Neděle",
          "Neděle",
          "Neděle",
          "Neděle",
          "Neděle",
          "Neděle",
          "Neděle",
          "Neděle",
          "Neděle",
          "Neděle",
          "Neděle",
          "Neděle",
          "Neděle",
          "Neděle",
          "Neděle"
         ]
        },
        {
         "histfunc": "count",
         "name": "Author_3",
         "type": "histogram",
         "x": [
          "Pondělí",
          "Pondělí",
          "Pondělí",
          "Pondělí",
          "Pondělí",
          "Pondělí",
          "Pondělí",
          "Pondělí",
          "Pondělí",
          "Pondělí",
          "Pondělí",
          "Pondělí",
          "Pondělí",
          "Pondělí",
          "Pondělí",
          "Pondělí",
          "Pondělí",
          "Pondělí",
          "Pondělí",
          "Pondělí",
          "Pondělí",
          "Pondělí",
          "Pondělí",
          "Pondělí",
          "Pondělí",
          "Pondělí",
          "Pondělí",
          "Pondělí",
          "Pondělí",
          "Pondělí",
          "Pondělí",
          "Pondělí",
          "Pondělí",
          "Pondělí",
          "Pondělí",
          "Pondělí",
          "Pondělí",
          "Pondělí",
          "Pondělí",
          "Pondělí",
          "Úterý",
          "Úterý",
          "Úterý",
          "Úterý",
          "Úterý",
          "Úterý",
          "Úterý",
          "Úterý",
          "Úterý",
          "Úterý",
          "Úterý",
          "Úterý",
          "Úterý",
          "Úterý",
          "Úterý",
          "Úterý",
          "Úterý",
          "Úterý",
          "Úterý",
          "Úterý",
          "Úterý",
          "Úterý",
          "Úterý",
          "Úterý",
          "Úterý",
          "Úterý",
          "Úterý",
          "Úterý",
          "Úterý",
          "Úterý",
          "Úterý",
          "Úterý",
          "Úterý",
          "Úterý",
          "Úterý",
          "Úterý",
          "Středa",
          "Středa",
          "Středa",
          "Středa",
          "Středa",
          "Středa",
          "Středa",
          "Středa",
          "Středa",
          "Středa",
          "Středa",
          "Středa",
          "Středa",
          "Středa",
          "Středa",
          "Středa",
          "Středa",
          "Středa",
          "Středa",
          "Středa",
          "Středa",
          "Středa",
          "Středa",
          "Středa",
          "Středa",
          "Středa",
          "Středa",
          "Středa",
          "Středa",
          "Středa",
          "Středa",
          "Středa",
          "Středa",
          "Středa",
          "Středa",
          "Středa",
          "Středa",
          "Středa",
          "Středa",
          "Středa",
          "Středa",
          "Středa",
          "Středa",
          "Středa",
          "Středa",
          "Středa",
          "Středa",
          "Středa",
          "Středa",
          "Středa",
          "Středa",
          "Středa",
          "Středa",
          "Středa",
          "Středa",
          "Středa",
          "Středa",
          "Středa",
          "Středa",
          "Středa",
          "Středa",
          "Středa",
          "Středa",
          "Středa",
          "Středa",
          "Středa",
          "Středa",
          "Středa",
          "Středa",
          "Středa",
          "Středa",
          "Středa",
          "Středa",
          "Středa",
          "Středa",
          "Středa",
          "Středa",
          "Středa",
          "Středa",
          "Středa",
          "Středa",
          "Středa",
          "Středa",
          "Středa",
          "Středa",
          "Středa",
          "Čtvrtek",
          "Čtvrtek",
          "Čtvrtek",
          "Čtvrtek",
          "Čtvrtek",
          "Čtvrtek",
          "Čtvrtek",
          "Čtvrtek",
          "Čtvrtek",
          "Čtvrtek",
          "Čtvrtek",
          "Čtvrtek",
          "Čtvrtek",
          "Čtvrtek",
          "Čtvrtek",
          "Čtvrtek",
          "Čtvrtek",
          "Čtvrtek",
          "Čtvrtek",
          "Čtvrtek",
          "Čtvrtek",
          "Čtvrtek",
          "Čtvrtek",
          "Čtvrtek",
          "Čtvrtek",
          "Čtvrtek",
          "Čtvrtek",
          "Pátek",
          "Pátek",
          "Pátek",
          "Pátek",
          "Pátek",
          "Pátek",
          "Pátek",
          "Pátek",
          "Pátek",
          "Pátek",
          "Pátek",
          "Pátek",
          "Pátek",
          "Pátek",
          "Pátek",
          "Pátek",
          "Pátek",
          "Pátek",
          "Pátek",
          "Pátek",
          "Pátek",
          "Pátek",
          "Pátek",
          "Pátek",
          "Sobota",
          "Sobota",
          "Sobota",
          "Sobota",
          "Sobota",
          "Sobota",
          "Sobota",
          "Sobota",
          "Sobota",
          "Sobota",
          "Sobota",
          "Sobota",
          "Sobota",
          "Neděle",
          "Neděle",
          "Neděle",
          "Neděle",
          "Neděle",
          "Neděle",
          "Neděle",
          "Neděle",
          "Neděle",
          "Neděle",
          "Neděle",
          "Neděle",
          "Neděle",
          "Neděle",
          "Neděle",
          "Neděle",
          "Neděle",
          "Neděle",
          "Neděle",
          "Neděle",
          "Neděle",
          "Neděle",
          "Neděle",
          "Neděle",
          "Neděle",
          "Neděle",
          "Neděle",
          "Neděle",
          "Neděle",
          "Neděle",
          "Neděle",
          "Neděle",
          "Neděle",
          "Neděle",
          "Neděle"
         ]
        }
       ],
       "layout": {
        "barmode": "stack",
        "template": {
         "data": {
          "bar": [
           {
            "error_x": {
             "color": "#2a3f5f"
            },
            "error_y": {
             "color": "#2a3f5f"
            },
            "marker": {
             "line": {
              "color": "#E5ECF6",
              "width": 0.5
             }
            },
            "type": "bar"
           }
          ],
          "barpolar": [
           {
            "marker": {
             "line": {
              "color": "#E5ECF6",
              "width": 0.5
             }
            },
            "type": "barpolar"
           }
          ],
          "carpet": [
           {
            "aaxis": {
             "endlinecolor": "#2a3f5f",
             "gridcolor": "white",
             "linecolor": "white",
             "minorgridcolor": "white",
             "startlinecolor": "#2a3f5f"
            },
            "baxis": {
             "endlinecolor": "#2a3f5f",
             "gridcolor": "white",
             "linecolor": "white",
             "minorgridcolor": "white",
             "startlinecolor": "#2a3f5f"
            },
            "type": "carpet"
           }
          ],
          "choropleth": [
           {
            "colorbar": {
             "outlinewidth": 0,
             "ticks": ""
            },
            "type": "choropleth"
           }
          ],
          "contour": [
           {
            "colorbar": {
             "outlinewidth": 0,
             "ticks": ""
            },
            "colorscale": [
             [
              0,
              "#0d0887"
             ],
             [
              0.1111111111111111,
              "#46039f"
             ],
             [
              0.2222222222222222,
              "#7201a8"
             ],
             [
              0.3333333333333333,
              "#9c179e"
             ],
             [
              0.4444444444444444,
              "#bd3786"
             ],
             [
              0.5555555555555556,
              "#d8576b"
             ],
             [
              0.6666666666666666,
              "#ed7953"
             ],
             [
              0.7777777777777778,
              "#fb9f3a"
             ],
             [
              0.8888888888888888,
              "#fdca26"
             ],
             [
              1,
              "#f0f921"
             ]
            ],
            "type": "contour"
           }
          ],
          "contourcarpet": [
           {
            "colorbar": {
             "outlinewidth": 0,
             "ticks": ""
            },
            "type": "contourcarpet"
           }
          ],
          "heatmap": [
           {
            "colorbar": {
             "outlinewidth": 0,
             "ticks": ""
            },
            "colorscale": [
             [
              0,
              "#0d0887"
             ],
             [
              0.1111111111111111,
              "#46039f"
             ],
             [
              0.2222222222222222,
              "#7201a8"
             ],
             [
              0.3333333333333333,
              "#9c179e"
             ],
             [
              0.4444444444444444,
              "#bd3786"
             ],
             [
              0.5555555555555556,
              "#d8576b"
             ],
             [
              0.6666666666666666,
              "#ed7953"
             ],
             [
              0.7777777777777778,
              "#fb9f3a"
             ],
             [
              0.8888888888888888,
              "#fdca26"
             ],
             [
              1,
              "#f0f921"
             ]
            ],
            "type": "heatmap"
           }
          ],
          "heatmapgl": [
           {
            "colorbar": {
             "outlinewidth": 0,
             "ticks": ""
            },
            "colorscale": [
             [
              0,
              "#0d0887"
             ],
             [
              0.1111111111111111,
              "#46039f"
             ],
             [
              0.2222222222222222,
              "#7201a8"
             ],
             [
              0.3333333333333333,
              "#9c179e"
             ],
             [
              0.4444444444444444,
              "#bd3786"
             ],
             [
              0.5555555555555556,
              "#d8576b"
             ],
             [
              0.6666666666666666,
              "#ed7953"
             ],
             [
              0.7777777777777778,
              "#fb9f3a"
             ],
             [
              0.8888888888888888,
              "#fdca26"
             ],
             [
              1,
              "#f0f921"
             ]
            ],
            "type": "heatmapgl"
           }
          ],
          "histogram": [
           {
            "marker": {
             "colorbar": {
              "outlinewidth": 0,
              "ticks": ""
             }
            },
            "type": "histogram"
           }
          ],
          "histogram2d": [
           {
            "colorbar": {
             "outlinewidth": 0,
             "ticks": ""
            },
            "colorscale": [
             [
              0,
              "#0d0887"
             ],
             [
              0.1111111111111111,
              "#46039f"
             ],
             [
              0.2222222222222222,
              "#7201a8"
             ],
             [
              0.3333333333333333,
              "#9c179e"
             ],
             [
              0.4444444444444444,
              "#bd3786"
             ],
             [
              0.5555555555555556,
              "#d8576b"
             ],
             [
              0.6666666666666666,
              "#ed7953"
             ],
             [
              0.7777777777777778,
              "#fb9f3a"
             ],
             [
              0.8888888888888888,
              "#fdca26"
             ],
             [
              1,
              "#f0f921"
             ]
            ],
            "type": "histogram2d"
           }
          ],
          "histogram2dcontour": [
           {
            "colorbar": {
             "outlinewidth": 0,
             "ticks": ""
            },
            "colorscale": [
             [
              0,
              "#0d0887"
             ],
             [
              0.1111111111111111,
              "#46039f"
             ],
             [
              0.2222222222222222,
              "#7201a8"
             ],
             [
              0.3333333333333333,
              "#9c179e"
             ],
             [
              0.4444444444444444,
              "#bd3786"
             ],
             [
              0.5555555555555556,
              "#d8576b"
             ],
             [
              0.6666666666666666,
              "#ed7953"
             ],
             [
              0.7777777777777778,
              "#fb9f3a"
             ],
             [
              0.8888888888888888,
              "#fdca26"
             ],
             [
              1,
              "#f0f921"
             ]
            ],
            "type": "histogram2dcontour"
           }
          ],
          "mesh3d": [
           {
            "colorbar": {
             "outlinewidth": 0,
             "ticks": ""
            },
            "type": "mesh3d"
           }
          ],
          "parcoords": [
           {
            "line": {
             "colorbar": {
              "outlinewidth": 0,
              "ticks": ""
             }
            },
            "type": "parcoords"
           }
          ],
          "pie": [
           {
            "automargin": true,
            "type": "pie"
           }
          ],
          "scatter": [
           {
            "marker": {
             "colorbar": {
              "outlinewidth": 0,
              "ticks": ""
             }
            },
            "type": "scatter"
           }
          ],
          "scatter3d": [
           {
            "line": {
             "colorbar": {
              "outlinewidth": 0,
              "ticks": ""
             }
            },
            "marker": {
             "colorbar": {
              "outlinewidth": 0,
              "ticks": ""
             }
            },
            "type": "scatter3d"
           }
          ],
          "scattercarpet": [
           {
            "marker": {
             "colorbar": {
              "outlinewidth": 0,
              "ticks": ""
             }
            },
            "type": "scattercarpet"
           }
          ],
          "scattergeo": [
           {
            "marker": {
             "colorbar": {
              "outlinewidth": 0,
              "ticks": ""
             }
            },
            "type": "scattergeo"
           }
          ],
          "scattergl": [
           {
            "marker": {
             "colorbar": {
              "outlinewidth": 0,
              "ticks": ""
             }
            },
            "type": "scattergl"
           }
          ],
          "scattermapbox": [
           {
            "marker": {
             "colorbar": {
              "outlinewidth": 0,
              "ticks": ""
             }
            },
            "type": "scattermapbox"
           }
          ],
          "scatterpolar": [
           {
            "marker": {
             "colorbar": {
              "outlinewidth": 0,
              "ticks": ""
             }
            },
            "type": "scatterpolar"
           }
          ],
          "scatterpolargl": [
           {
            "marker": {
             "colorbar": {
              "outlinewidth": 0,
              "ticks": ""
             }
            },
            "type": "scatterpolargl"
           }
          ],
          "scatterternary": [
           {
            "marker": {
             "colorbar": {
              "outlinewidth": 0,
              "ticks": ""
             }
            },
            "type": "scatterternary"
           }
          ],
          "surface": [
           {
            "colorbar": {
             "outlinewidth": 0,
             "ticks": ""
            },
            "colorscale": [
             [
              0,
              "#0d0887"
             ],
             [
              0.1111111111111111,
              "#46039f"
             ],
             [
              0.2222222222222222,
              "#7201a8"
             ],
             [
              0.3333333333333333,
              "#9c179e"
             ],
             [
              0.4444444444444444,
              "#bd3786"
             ],
             [
              0.5555555555555556,
              "#d8576b"
             ],
             [
              0.6666666666666666,
              "#ed7953"
             ],
             [
              0.7777777777777778,
              "#fb9f3a"
             ],
             [
              0.8888888888888888,
              "#fdca26"
             ],
             [
              1,
              "#f0f921"
             ]
            ],
            "type": "surface"
           }
          ],
          "table": [
           {
            "cells": {
             "fill": {
              "color": "#EBF0F8"
             },
             "line": {
              "color": "white"
             }
            },
            "header": {
             "fill": {
              "color": "#C8D4E3"
             },
             "line": {
              "color": "white"
             }
            },
            "type": "table"
           }
          ]
         },
         "layout": {
          "annotationdefaults": {
           "arrowcolor": "#2a3f5f",
           "arrowhead": 0,
           "arrowwidth": 1
          },
          "coloraxis": {
           "colorbar": {
            "outlinewidth": 0,
            "ticks": ""
           }
          },
          "colorscale": {
           "diverging": [
            [
             0,
             "#8e0152"
            ],
            [
             0.1,
             "#c51b7d"
            ],
            [
             0.2,
             "#de77ae"
            ],
            [
             0.3,
             "#f1b6da"
            ],
            [
             0.4,
             "#fde0ef"
            ],
            [
             0.5,
             "#f7f7f7"
            ],
            [
             0.6,
             "#e6f5d0"
            ],
            [
             0.7,
             "#b8e186"
            ],
            [
             0.8,
             "#7fbc41"
            ],
            [
             0.9,
             "#4d9221"
            ],
            [
             1,
             "#276419"
            ]
           ],
           "sequential": [
            [
             0,
             "#0d0887"
            ],
            [
             0.1111111111111111,
             "#46039f"
            ],
            [
             0.2222222222222222,
             "#7201a8"
            ],
            [
             0.3333333333333333,
             "#9c179e"
            ],
            [
             0.4444444444444444,
             "#bd3786"
            ],
            [
             0.5555555555555556,
             "#d8576b"
            ],
            [
             0.6666666666666666,
             "#ed7953"
            ],
            [
             0.7777777777777778,
             "#fb9f3a"
            ],
            [
             0.8888888888888888,
             "#fdca26"
            ],
            [
             1,
             "#f0f921"
            ]
           ],
           "sequentialminus": [
            [
             0,
             "#0d0887"
            ],
            [
             0.1111111111111111,
             "#46039f"
            ],
            [
             0.2222222222222222,
             "#7201a8"
            ],
            [
             0.3333333333333333,
             "#9c179e"
            ],
            [
             0.4444444444444444,
             "#bd3786"
            ],
            [
             0.5555555555555556,
             "#d8576b"
            ],
            [
             0.6666666666666666,
             "#ed7953"
            ],
            [
             0.7777777777777778,
             "#fb9f3a"
            ],
            [
             0.8888888888888888,
             "#fdca26"
            ],
            [
             1,
             "#f0f921"
            ]
           ]
          },
          "colorway": [
           "#636efa",
           "#EF553B",
           "#00cc96",
           "#ab63fa",
           "#FFA15A",
           "#19d3f3",
           "#FF6692",
           "#B6E880",
           "#FF97FF",
           "#FECB52"
          ],
          "font": {
           "color": "#2a3f5f"
          },
          "geo": {
           "bgcolor": "white",
           "lakecolor": "white",
           "landcolor": "#E5ECF6",
           "showlakes": true,
           "showland": true,
           "subunitcolor": "white"
          },
          "hoverlabel": {
           "align": "left"
          },
          "hovermode": "closest",
          "mapbox": {
           "style": "light"
          },
          "paper_bgcolor": "white",
          "plot_bgcolor": "#E5ECF6",
          "polar": {
           "angularaxis": {
            "gridcolor": "white",
            "linecolor": "white",
            "ticks": ""
           },
           "bgcolor": "#E5ECF6",
           "radialaxis": {
            "gridcolor": "white",
            "linecolor": "white",
            "ticks": ""
           }
          },
          "scene": {
           "xaxis": {
            "backgroundcolor": "#E5ECF6",
            "gridcolor": "white",
            "gridwidth": 2,
            "linecolor": "white",
            "showbackground": true,
            "ticks": "",
            "zerolinecolor": "white"
           },
           "yaxis": {
            "backgroundcolor": "#E5ECF6",
            "gridcolor": "white",
            "gridwidth": 2,
            "linecolor": "white",
            "showbackground": true,
            "ticks": "",
            "zerolinecolor": "white"
           },
           "zaxis": {
            "backgroundcolor": "#E5ECF6",
            "gridcolor": "white",
            "gridwidth": 2,
            "linecolor": "white",
            "showbackground": true,
            "ticks": "",
            "zerolinecolor": "white"
           }
          },
          "shapedefaults": {
           "line": {
            "color": "#2a3f5f"
           }
          },
          "ternary": {
           "aaxis": {
            "gridcolor": "white",
            "linecolor": "white",
            "ticks": ""
           },
           "baxis": {
            "gridcolor": "white",
            "linecolor": "white",
            "ticks": ""
           },
           "bgcolor": "#E5ECF6",
           "caxis": {
            "gridcolor": "white",
            "linecolor": "white",
            "ticks": ""
           }
          },
          "title": {
           "x": 0.05
          },
          "xaxis": {
           "automargin": true,
           "gridcolor": "white",
           "linecolor": "white",
           "ticks": "",
           "title": {
            "standoff": 15
           },
           "zerolinecolor": "white",
           "zerolinewidth": 2
          },
          "yaxis": {
           "automargin": true,
           "gridcolor": "white",
           "linecolor": "white",
           "ticks": "",
           "title": {
            "standoff": 15
           },
           "zerolinecolor": "white",
           "zerolinewidth": 2
          }
         }
        },
        "title": {
         "text": "Agregovaný počet zpráv ve dnech"
        },
        "width": 1000,
        "xaxis": {
         "title": {
          "text": "Den v týdnu"
         }
        },
        "yaxis": {
         "title": {
          "text": "Počet zpráv"
         }
        }
       }
      }
     },
     "metadata": {}
    }
   ],
   "source": [
    "display_messages_in_weekdays_histogram(writers, names, times, True)"
   ]
  },
  {
   "cell_type": "code",
   "execution_count": 13,
   "metadata": {},
   "outputs": [
    {
     "output_type": "display_data",
     "data": {
      "application/vnd.plotly.v1+json": {
       "config": {
        "plotlyServerURL": "https://plot.ly"
       },
       "data": [
        {
         "name": "Author_0",
         "type": "histogram",
         "x": [
          22.116666666666667,
          17.65,
          17.666666666666668,
          18.266666666666666,
          18.266666666666666,
          14.533333333333333,
          14.583333333333334,
          14.633333333333333,
          14.65,
          14.866666666666667,
          11.916666666666666,
          11.933333333333334,
          12.483333333333333,
          12.483333333333333,
          12.483333333333333,
          15.033333333333333,
          15.033333333333333,
          15.05,
          15.05,
          15.1,
          15.116666666666667,
          15.133333333333333,
          15.133333333333333,
          15.133333333333333,
          15.15,
          15.15,
          15.25,
          15.366666666666667,
          15.4,
          15.4,
          15.4,
          15.433333333333334,
          15.45,
          15.566666666666666,
          15.633333333333333,
          12.666666666666666,
          13.8,
          13.816666666666666,
          22.983333333333334,
          23,
          17.666666666666668,
          17.35,
          9.483333333333333,
          22.666666666666668,
          22.666666666666668,
          8.333333333333334,
          10.516666666666667,
          10.516666666666667,
          22.216666666666665,
          14.866666666666667,
          14.883333333333333,
          14.883333333333333,
          14.883333333333333,
          16.3,
          16.316666666666666,
          17.55,
          18.783333333333335,
          18.85,
          20.333333333333332,
          21.466666666666665,
          23.733333333333334,
          19.116666666666667,
          19.116666666666667,
          19.25,
          19.35,
          8.8,
          8.8,
          11.85,
          15.95,
          17.316666666666666,
          17.333333333333332,
          13.75,
          13.866666666666667,
          13.866666666666667,
          13.883333333333333,
          20.116666666666667,
          20.116666666666667,
          20.733333333333334,
          20.733333333333334,
          17.75,
          17.75,
          17.783333333333335,
          17.816666666666666,
          17.816666666666666,
          17.883333333333333,
          17.883333333333333,
          17.916666666666668,
          17.916666666666668,
          18.05,
          18.066666666666666,
          19.2,
          19.983333333333334,
          21.033333333333335,
          21.05,
          21.05,
          21.05,
          21.066666666666666,
          21.066666666666666,
          10.133333333333333,
          10.133333333333333,
          10.133333333333333,
          10.15,
          10.15,
          10.15,
          10.15,
          10.15,
          10.166666666666666,
          10.166666666666666,
          10.183333333333334,
          10.183333333333334,
          10.183333333333334,
          10.2,
          10.216666666666667,
          12.1,
          12.1,
          12.116666666666667,
          12.116666666666667,
          12.116666666666667,
          12.133333333333333,
          12.133333333333333,
          12.15,
          10.5,
          10.5,
          10.516666666666667,
          10.533333333333333,
          10.533333333333333,
          10.55,
          11.816666666666666,
          11.816666666666666,
          11.816666666666666,
          11.816666666666666,
          11.816666666666666,
          19.05,
          16.833333333333332,
          17.016666666666666,
          17.033333333333335,
          17.066666666666666,
          18.433333333333334,
          14.066666666666666,
          14.066666666666666,
          14.083333333333334,
          14.1,
          14.1,
          14.1,
          14.1,
          14.116666666666667,
          14.15,
          17.4,
          17.433333333333334,
          17.466666666666665,
          17.466666666666665,
          21.066666666666666,
          19.033333333333335,
          19.05,
          19.05,
          19.066666666666666,
          19.083333333333332,
          19.083333333333332,
          19.1,
          16.4,
          16.4,
          16.4,
          16.4,
          16.4,
          16.416666666666668,
          21.083333333333332,
          11.033333333333333,
          11.083333333333334,
          20.483333333333334,
          10.55,
          10.983333333333333,
          15.233333333333333,
          15.233333333333333,
          15.25,
          17.016666666666666,
          19.1,
          19.1,
          19.1,
          19.1,
          19.116666666666667,
          12.983333333333333,
          12.983333333333333,
          11.15,
          11.216666666666667,
          11.333333333333334,
          15.466666666666667,
          19.183333333333334,
          20.533333333333335,
          10.366666666666667,
          11.9,
          8.983333333333333,
          9.75,
          11.35,
          11.533333333333333,
          23.25,
          19.666666666666668,
          22.316666666666666,
          11,
          18.666666666666668,
          18.666666666666668,
          20.7,
          20.716666666666665,
          19.116666666666667,
          19.116666666666667,
          12.45,
          12.466666666666667,
          12.483333333333333,
          18.983333333333334,
          18.266666666666666,
          18.333333333333332,
          10.733333333333333,
          10.883333333333333,
          15.9,
          15.9,
          13.933333333333334,
          13.933333333333334,
          13.933333333333334,
          13.966666666666667,
          13.966666666666667,
          16.066666666666666,
          16.066666666666666,
          16.066666666666666,
          16.066666666666666,
          16.083333333333332,
          16.883333333333333,
          21.616666666666667,
          21.616666666666667,
          0.9166666666666666,
          14.416666666666666,
          14.5,
          14.5,
          14.5,
          14.5,
          11.2,
          11.2,
          11.216666666666667,
          11.216666666666667,
          11.666666666666666,
          11.716666666666667,
          11.716666666666667,
          11.733333333333333,
          11.766666666666667,
          11.916666666666666,
          12,
          12,
          12.016666666666667,
          12.016666666666667,
          12.283333333333333,
          12.283333333333333,
          12.516666666666667,
          12.516666666666667,
          12.516666666666667,
          12.516666666666667,
          13.333333333333334,
          13.333333333333334,
          13.333333333333334,
          13.35,
          13.35,
          13.4,
          13.4,
          13.55,
          13.866666666666667,
          13.866666666666667,
          13.983333333333333,
          10.916666666666666,
          13.45,
          13.45,
          13.45,
          13.466666666666667,
          14.75,
          14.75,
          14.766666666666667,
          14.85,
          15,
          18.35,
          18.366666666666667,
          19.983333333333334,
          20.016666666666666,
          20.033333333333335,
          20.033333333333335,
          11.083333333333334,
          11.1,
          11.1,
          11.116666666666667,
          11.133333333333333,
          11.133333333333333,
          11.133333333333333,
          11.383333333333333,
          11.4,
          11.4,
          11.416666666666666,
          15.516666666666667,
          12.55,
          18.3,
          18.316666666666666,
          18.316666666666666,
          18.35,
          18.366666666666667,
          18.366666666666667,
          18.383333333333333,
          18.4,
          18.4,
          18.416666666666668,
          18.416666666666668,
          18.45,
          18.483333333333334,
          18.516666666666666,
          18.516666666666666,
          18.566666666666666,
          18.566666666666666,
          18.566666666666666,
          18.583333333333332,
          18.583333333333332,
          18.583333333333332,
          18.583333333333332,
          19.366666666666667,
          19.366666666666667,
          20,
          20.033333333333335,
          20.033333333333335,
          20.083333333333332,
          20.083333333333332,
          20.166666666666668,
          20.266666666666666,
          20.35,
          20.483333333333334,
          9.933333333333334,
          9.95,
          9.966666666666667,
          9.966666666666667,
          9.966666666666667,
          9.966666666666667,
          9.983333333333333,
          16.783333333333335,
          17.233333333333334,
          17.233333333333334,
          23.066666666666666,
          10.033333333333333,
          10.05,
          18.366666666666667,
          20.166666666666668,
          20.183333333333334,
          20.25,
          23.266666666666666,
          8.35,
          8.75,
          12.316666666666666,
          12.333333333333334,
          13.033333333333333,
          20.983333333333334,
          21,
          22.433333333333334,
          14.516666666666667,
          9.783333333333333,
          16.55,
          16.566666666666666,
          16.566666666666666,
          16.583333333333332,
          16.583333333333332,
          16.583333333333332,
          16.6,
          16.6,
          16.6,
          16.65,
          16.783333333333335,
          20.683333333333334,
          20.683333333333334,
          20.75,
          8.216666666666667,
          8.4,
          14.7,
          14.7,
          14.816666666666666,
          14.816666666666666,
          14.833333333333334,
          14.833333333333334,
          15.083333333333334,
          15.083333333333334,
          15.15,
          15.15,
          15.166666666666666,
          15.183333333333334,
          15.183333333333334,
          15.2,
          15.2,
          15.283333333333333,
          15.283333333333333,
          15.283333333333333,
          15.283333333333333,
          15.366666666666667,
          15.366666666666667,
          15.383333333333333,
          15.383333333333333,
          15.4,
          15.85,
          18.216666666666665,
          11.166666666666666,
          11.166666666666666,
          11.233333333333333,
          11.25,
          11.5,
          11.516666666666667,
          11.516666666666667,
          11.716666666666667,
          13.016666666666667,
          13.983333333333333,
          13.983333333333333,
          13.983333333333333,
          14.033333333333333,
          15.183333333333334,
          17.716666666666665,
          23.033333333333335,
          23.033333333333335,
          15.533333333333333,
          15.583333333333334,
          15.516666666666667,
          17.05,
          21.9,
          21.916666666666668,
          21.916666666666668,
          21.933333333333334,
          21.933333333333334,
          21.933333333333334,
          21.933333333333334,
          21.933333333333334,
          22.25,
          22.683333333333334,
          21.016666666666666,
          9.883333333333333,
          15.75,
          17.4,
          17.633333333333333,
          17.75,
          17.933333333333334,
          17.933333333333334,
          18.4,
          11.8,
          12.316666666666666,
          18.15,
          20.783333333333335,
          20.85,
          21.066666666666666,
          21.083333333333332,
          21.133333333333333,
          23.633333333333333,
          23.633333333333333,
          0.18333333333333332,
          0.18333333333333332,
          0.18333333333333332,
          15.1,
          15.1,
          12.116666666666667,
          12.116666666666667,
          12.116666666666667,
          12.116666666666667,
          13.283333333333333,
          13.3,
          14,
          14,
          12.4,
          12.416666666666666,
          15.55,
          16.133333333333333,
          16.133333333333333,
          16.133333333333333,
          20.933333333333334,
          20.966666666666665,
          21.616666666666667,
          20.95,
          20.983333333333334,
          21,
          21.016666666666666,
          21.05,
          20.983333333333334,
          21,
          21.016666666666666,
          21.733333333333334,
          22.433333333333334,
          22.433333333333334,
          22.433333333333334,
          22.466666666666665,
          22.466666666666665,
          17,
          17.1,
          17.1,
          11.983333333333333,
          17.4,
          17.416666666666668,
          17.416666666666668,
          17.433333333333334,
          17.883333333333333,
          23.516666666666666,
          23.533333333333335,
          19.65,
          19.666666666666668,
          19.666666666666668,
          20.95,
          20.95,
          21,
          21.016666666666666,
          21.016666666666666,
          21.016666666666666,
          18.716666666666665,
          13.733333333333333,
          13.75,
          17.05,
          17.633333333333333,
          17.65,
          17.8,
          17.8,
          17.9,
          23.683333333333334,
          23.683333333333334,
          23.733333333333334
         ],
         "xbins": {
          "end": 24,
          "size": 1,
          "start": 0
         }
        },
        {
         "name": "Author_1",
         "type": "histogram",
         "x": [
          19.466666666666665,
          19.483333333333334,
          19.483333333333334,
          19.566666666666666,
          19.616666666666667,
          19.633333333333333,
          8.366666666666667,
          13.233333333333333,
          16.983333333333334,
          17.9,
          18.15,
          18.15,
          18.2,
          18.333333333333332,
          20.066666666666666,
          20.083333333333332,
          20.15,
          14.483333333333333,
          14.533333333333333,
          14.55,
          14.566666666666666,
          14.583333333333334,
          14.583333333333334,
          14.65,
          14.65,
          14.666666666666666,
          14.833333333333334,
          15.15,
          15.8,
          15.883333333333333,
          16.383333333333333,
          12.4,
          12.416666666666666,
          12.416666666666666,
          12.466666666666667,
          12.483333333333333,
          12.5,
          14.866666666666667,
          15.033333333333333,
          15.033333333333333,
          15.05,
          15.066666666666666,
          15.066666666666666,
          15.083333333333334,
          15.083333333333334,
          15.133333333333333,
          15.15,
          15.15,
          15.166666666666666,
          15.3,
          15.316666666666666,
          15.316666666666666,
          15.316666666666666,
          15.366666666666667,
          15.383333333333333,
          15.4,
          15.4,
          15.416666666666666,
          15.433333333333334,
          15.45,
          15.466666666666667,
          15.483333333333333,
          15.55,
          15.583333333333334,
          15.6,
          15.6,
          15.65,
          15.683333333333334,
          15.7,
          15.7,
          15.85,
          18.466666666666665,
          11.3,
          13.283333333333333,
          18.45,
          21.566666666666666,
          21.733333333333334,
          21.816666666666666,
          22.383333333333333,
          23.25,
          11.283333333333333,
          12.183333333333334,
          13.466666666666667,
          13.5,
          17.683333333333334,
          13.966666666666667,
          14.366666666666667,
          0.8833333333333333,
          9.033333333333333,
          9.083333333333334,
          9.35,
          9.366666666666667,
          9.4,
          9.433333333333334,
          9.5,
          7.666666666666667,
          10.566666666666666,
          15.05,
          20.516666666666666,
          11.9,
          12.25,
          12.266666666666667,
          17.466666666666665,
          17.483333333333334,
          17.666666666666668,
          22.783333333333335,
          20.383333333333333,
          19.066666666666666,
          19.083333333333332,
          19.366666666666667,
          11.65,
          11.666666666666666,
          11.716666666666667,
          11.8,
          11.8,
          15.533333333333333,
          15.55,
          15.583333333333334,
          15.633333333333333,
          18.166666666666668,
          13.95,
          13.966666666666667,
          14.15,
          8.9,
          17.283333333333335,
          20.233333333333334,
          21,
          21.25,
          22.7,
          6.85,
          17.066666666666666,
          17.066666666666666,
          9.65,
          21.35,
          21.366666666666667,
          21.366666666666667,
          21.45,
          18.95,
          19.466666666666665,
          19.483333333333334,
          19.5,
          12.983333333333333,
          17.233333333333334,
          17.25,
          17.766666666666666,
          19.316666666666666,
          21.65,
          7.283333333333333,
          13.983333333333333,
          19.9,
          10.533333333333333,
          10.55,
          10.633333333333333,
          10.866666666666667,
          10.9,
          10.933333333333334,
          10.933333333333334,
          16.35,
          17.95,
          19.116666666666667,
          10.466666666666667,
          10.483333333333333,
          10.5,
          10.733333333333333,
          13.316666666666666,
          23.466666666666665,
          11.4,
          11.95,
          13,
          13,
          15.633333333333333,
          19.45,
          20.133333333333333,
          20.133333333333333,
          10.666666666666666,
          10.85,
          10.866666666666667,
          10.883333333333333,
          10.883333333333333,
          10.883333333333333,
          12.116666666666667,
          12.133333333333333,
          0.016666666666666666,
          0.03333333333333333,
          0.55,
          22.55,
          22.633333333333333,
          8.983333333333333,
          10.166666666666666,
          10.55,
          12.15,
          9.716666666666667,
          10.316666666666666,
          10.416666666666666,
          10.2,
          19.233333333333334,
          19.233333333333334,
          11.983333333333333,
          11.983333333333333,
          12,
          12.033333333333333,
          12.05,
          12.1,
          12.133333333333333,
          12.15,
          12.333333333333334,
          10.833333333333334,
          11.216666666666667,
          11.283333333333333,
          12.9,
          12.916666666666666,
          13.6,
          14.516666666666667,
          22.3,
          22.316666666666666,
          22.366666666666667,
          9.983333333333333,
          19.6,
          19.633333333333333,
          19.65,
          19.666666666666668,
          19.666666666666668,
          23.183333333333334,
          16.633333333333333,
          14.15,
          17.216666666666665,
          17.333333333333332,
          17.35,
          17.366666666666667,
          17.383333333333333,
          17.4,
          17.416666666666668,
          17.416666666666668,
          17.433333333333334,
          17.433333333333334,
          17.616666666666667,
          17.65,
          20.666666666666668,
          18.733333333333334,
          18.75,
          19.116666666666667,
          19.133333333333333,
          10.366666666666667,
          13.016666666666667,
          17.066666666666666,
          18.583333333333332,
          18.966666666666665,
          18.966666666666665,
          18.983333333333334,
          19,
          18.333333333333332,
          18.366666666666667,
          10.483333333333333,
          10.533333333333333,
          10.533333333333333,
          10.55,
          10.583333333333334,
          10.833333333333334,
          12.016666666666667,
          12.016666666666667,
          15.266666666666667,
          15.883333333333333,
          15.966666666666667,
          15.983333333333333,
          23.9,
          23.933333333333334,
          0.5166666666666667,
          0.5333333333333333,
          13.05,
          13.05,
          15.966666666666667,
          16.916666666666668,
          16.933333333333334,
          21.65,
          21.65,
          21.666666666666668,
          21.666666666666668,
          1.0833333333333333,
          17.383333333333333,
          14.45,
          14.466666666666667,
          14.466666666666667,
          17.366666666666667,
          19.75,
          20.133333333333333,
          20.133333333333333,
          16.816666666666666,
          16.833333333333332,
          11.533333333333333,
          11.566666666666666,
          17.816666666666666,
          11.066666666666666,
          11.083333333333334,
          15.533333333333333,
          16.966666666666665,
          18.35,
          18.35,
          18.35,
          18.35,
          18.383333333333333,
          18.4,
          18.4,
          18.416666666666668,
          18.416666666666668,
          18.416666666666668,
          18.433333333333334,
          18.466666666666665,
          18.5,
          18.5,
          18.533333333333335,
          18.55,
          18.55,
          18.55,
          18.566666666666666,
          18.583333333333332,
          18.583333333333332,
          18.583333333333332,
          19.95,
          19.95,
          19.966666666666665,
          19.983333333333334,
          19.983333333333334,
          20.016666666666666,
          20.016666666666666,
          21.466666666666665,
          9.9,
          9.916666666666666,
          9.966666666666667,
          9.983333333333333,
          20.933333333333334,
          23.266666666666666,
          23.283333333333335,
          12.55,
          12.583333333333334,
          12.683333333333334,
          13.216666666666667,
          20.766666666666666,
          21.016666666666666,
          21.066666666666666,
          21.066666666666666,
          12.016666666666667,
          14.5,
          14.5,
          14.516666666666667,
          14.533333333333333,
          16.466666666666665,
          16.466666666666665,
          16.55,
          16.566666666666666,
          16.566666666666666,
          16.583333333333332,
          16.6,
          16.6,
          16.616666666666667,
          16.616666666666667,
          16.633333333333333,
          16.633333333333333,
          16.65,
          16.666666666666668,
          16.683333333333334,
          20.75,
          20.75,
          20.75,
          21.95,
          8.2,
          8.4,
          13.15,
          13.15,
          13.183333333333334,
          15.8,
          15.85,
          17.916666666666668,
          14.616666666666667,
          15.733333333333333,
          17.966666666666665,
          0.36666666666666664,
          18.266666666666666,
          23.266666666666666,
          23.266666666666666,
          8.266666666666667,
          15.55,
          20.566666666666666,
          15.3,
          16.083333333333332,
          16.083333333333332,
          16.1,
          17.116666666666667,
          17.166666666666668,
          17.166666666666668,
          17.2,
          17.216666666666665,
          17.216666666666665,
          17.216666666666665,
          17.233333333333334,
          17.233333333333334,
          17.233333333333334,
          17.266666666666666,
          21.616666666666667,
          21.65,
          21.683333333333334,
          22.15,
          22.183333333333334,
          22.2,
          22.2,
          22.25,
          22.266666666666666,
          22.266666666666666,
          22.6,
          22.616666666666667,
          22.65,
          22.783333333333335,
          22.816666666666666,
          22.816666666666666,
          16.8,
          20.95,
          21.033333333333335,
          21.483333333333334,
          21.85,
          21.7,
          21.7,
          9.666666666666666,
          9.933333333333334,
          16.45,
          17.65,
          17.9,
          18.016666666666666,
          14.083333333333334,
          14.316666666666666,
          14.333333333333334,
          14.7,
          14.8,
          10.833333333333334,
          10.85,
          16.983333333333334,
          16.983333333333334,
          7.566666666666666,
          7.616666666666667,
          20.85,
          20.866666666666667,
          20.883333333333333,
          9.533333333333333,
          9.583333333333334,
          16.683333333333334,
          16.683333333333334,
          13.316666666666666,
          13.333333333333334,
          14.033333333333333,
          15.216666666666667,
          15.216666666666667,
          12.4,
          12.4,
          20.666666666666668,
          20.833333333333332,
          0.2,
          0.26666666666666666,
          12.1,
          12.316666666666666,
          14.066666666666666,
          16.583333333333332,
          17.066666666666666,
          20.933333333333334,
          20.95,
          20.95,
          22.383333333333333,
          22.483333333333334,
          23.216666666666665,
          23.216666666666665,
          23.466666666666665,
          11.083333333333334,
          18.65,
          20.85,
          20.966666666666665,
          21.016666666666666,
          21.066666666666666,
          21.083333333333332,
          21.15,
          21.216666666666665,
          21.233333333333334,
          20.983333333333334,
          21,
          21.733333333333334,
          21.733333333333334,
          21.766666666666666,
          21.766666666666666,
          22.433333333333334,
          22.466666666666665,
          22.466666666666665,
          22.483333333333334,
          22.483333333333334,
          22.483333333333334,
          22.816666666666666,
          22.833333333333332,
          18.916666666666668,
          10.916666666666666,
          10.916666666666666,
          22.4,
          17.3,
          17.316666666666666,
          22.516666666666666,
          22.55,
          22.6,
          21.816666666666666,
          12.833333333333334,
          18.116666666666667,
          18.3,
          18.883333333333333,
          18.9,
          13.783333333333333,
          14.85,
          15.016666666666667,
          15.016666666666667,
          15.066666666666666,
          15.283333333333333,
          15.283333333333333,
          15.3,
          15.983333333333333,
          17.416666666666668,
          17.433333333333334,
          17.433333333333334,
          17.466666666666665,
          17.483333333333334,
          17.916666666666668,
          17.916666666666668,
          17.933333333333334,
          17.933333333333334,
          17.95,
          20.283333333333335,
          20.35,
          23.516666666666666,
          23.516666666666666,
          23.566666666666666,
          19.666666666666668,
          19.683333333333334,
          19.733333333333334,
          19.783333333333335,
          21,
          21.016666666666666,
          21.016666666666666,
          22.466666666666665,
          22.483333333333334,
          23.083333333333332,
          23.15,
          17.933333333333334,
          18.316666666666666,
          13.566666666666666,
          14.133333333333333,
          14.15,
          17.05,
          17.233333333333334,
          17.833333333333332,
          17.833333333333332,
          17.85,
          17.866666666666667,
          18.533333333333335,
          18.55,
          20.983333333333334
         ],
         "xbins": {
          "end": 24,
          "size": 1,
          "start": 0
         }
        },
        {
         "name": "Author_2",
         "type": "histogram",
         "x": [
          19.6,
          19.616666666666667,
          23.216666666666665,
          17.616666666666667,
          17.616666666666667,
          19.266666666666666,
          19.483333333333334,
          19.483333333333334,
          21.133333333333333,
          14.966666666666667,
          15.466666666666667,
          17.066666666666666,
          15.3,
          15.316666666666666,
          14.683333333333334,
          0.4166666666666667,
          0.9,
          9.216666666666667,
          9.383333333333333,
          9.4,
          9.4,
          9.416666666666666,
          9.45,
          9.45,
          9.466666666666667,
          9.65,
          9.65,
          22.333333333333332,
          22.366666666666667,
          22.716666666666665,
          7.2,
          8.2,
          8.2,
          10.533333333333333,
          10.566666666666666,
          10.583333333333334,
          14.883333333333333,
          18.066666666666666,
          18.066666666666666,
          18.8,
          18.8,
          18.8,
          18.883333333333333,
          18.883333333333333,
          21.55,
          22.866666666666667,
          16.95,
          16.95,
          16.95,
          13.25,
          13.25,
          19.333333333333332,
          19.333333333333332,
          8.783333333333333,
          16.016666666666666,
          20.25,
          16.9,
          16.95,
          16.95,
          17.8,
          17.8,
          17.816666666666666,
          17.816666666666666,
          17.816666666666666,
          17.833333333333332,
          17.85,
          18.05,
          18.133333333333333,
          18.166666666666668,
          18.25,
          20.65,
          21.066666666666666,
          22.716666666666665,
          8.833333333333334,
          10.133333333333333,
          10.133333333333333,
          10.15,
          10.183333333333334,
          10.216666666666667,
          12.116666666666667,
          12.116666666666667,
          12.116666666666667,
          12.116666666666667,
          12.133333333333333,
          12.133333333333333,
          10.55,
          11.783333333333333,
          16.933333333333334,
          16.933333333333334,
          17.033333333333335,
          1.0666666666666667,
          9.466666666666667,
          9.483333333333333,
          9.75,
          13.583333333333334,
          13.583333333333334,
          14.1,
          14.1,
          14.1,
          14.116666666666667,
          14.116666666666667,
          14.15,
          14.15,
          14.166666666666666,
          17.366666666666667,
          17.433333333333334,
          17.433333333333334,
          17.5,
          17.5,
          20.733333333333334,
          21.366666666666667,
          21.366666666666667,
          21.366666666666667,
          21.366666666666667,
          21.9,
          21.916666666666668,
          21.916666666666668,
          19.083333333333332,
          16.4,
          16.416666666666668,
          17.15,
          17.283333333333335,
          19.166666666666668,
          23.2,
          10.6,
          11.216666666666667,
          19.766666666666666,
          19.766666666666666,
          19.766666666666666,
          20.533333333333335,
          9.983333333333333,
          10.733333333333333,
          10.883333333333333,
          10.9,
          15.55,
          15.55,
          15.55,
          15.566666666666666,
          15.566666666666666,
          15.633333333333333,
          15.65,
          16.583333333333332,
          10.466666666666667,
          10.7,
          10.716666666666667,
          9.016666666666667,
          9.016666666666667,
          10.766666666666667,
          0.21666666666666667,
          0.21666666666666667,
          10.966666666666667,
          11.166666666666666,
          11.183333333333334,
          11.266666666666667,
          11.383333333333333,
          12.25,
          10.333333333333334,
          10.333333333333334,
          10.716666666666667,
          10.716666666666667,
          10.75,
          10.866666666666667,
          10.866666666666667,
          10.866666666666667,
          10.883333333333333,
          10.883333333333333,
          11.85,
          12.233333333333333,
          0.08333333333333333,
          0.13333333333333333,
          0.15,
          22.633333333333333,
          8.283333333333333,
          8.283333333333333,
          10.433333333333334,
          11.783333333333333,
          10.316666666666666,
          10.133333333333333,
          11.983333333333333,
          12.083333333333334,
          12.116666666666667,
          12.133333333333333,
          11.2,
          11.2,
          11.433333333333334,
          11.433333333333334,
          11.433333333333334,
          11.55,
          11.55,
          22.3,
          22.3,
          22.316666666666666,
          22.35,
          10.4,
          10.4,
          12.283333333333333,
          17.133333333333333,
          17.133333333333333,
          17.283333333333335,
          17.283333333333335,
          17.283333333333335,
          17.3,
          17.366666666666667,
          17.383333333333333,
          17.633333333333333,
          9.133333333333333,
          14.066666666666666,
          19.1,
          12.083333333333334,
          12.083333333333334,
          12.416666666666666,
          10.533333333333333,
          10.533333333333333,
          10.566666666666666,
          10.683333333333334,
          10.7,
          11.933333333333334,
          11.933333333333334,
          11.933333333333334,
          11.95,
          15.366666666666667,
          15.366666666666667,
          15.383333333333333,
          15.383333333333333,
          15.383333333333333,
          15.383333333333333,
          15.383333333333333,
          15.383333333333333,
          15.95,
          19.083333333333332,
          0.3333333333333333,
          0.4166666666666667,
          0.4166666666666667,
          0.5333333333333333,
          15.9,
          16.166666666666668,
          16.516666666666666,
          17,
          10.166666666666666,
          10.183333333333334,
          10.183333333333334,
          17.9,
          17.133333333333333,
          17.15,
          18.416666666666668,
          20.116666666666667,
          20.116666666666667,
          20.133333333333333,
          20.133333333333333,
          11.283333333333333,
          11.3,
          11.683333333333334,
          11.7,
          11.75,
          11.75,
          13.366666666666667,
          13.366666666666667,
          14.35,
          10.75,
          10.766666666666667,
          10.833333333333334,
          10.833333333333334,
          13.583333333333334,
          14.783333333333333,
          14.783333333333333,
          14.983333333333333,
          14.983333333333333,
          17.733333333333334,
          17.733333333333334,
          17.733333333333334,
          17.733333333333334,
          19.933333333333334,
          20.016666666666666,
          11.016666666666667,
          11.083333333333334,
          11.083333333333334,
          11.083333333333334,
          11.1,
          11.1,
          11.1,
          11.116666666666667,
          11.116666666666667,
          11.116666666666667,
          11.116666666666667,
          11.133333333333333,
          11.133333333333333,
          11.2,
          11.2,
          11.2,
          11.4,
          11.4,
          15.666666666666666,
          12.133333333333333,
          12.15,
          12.15,
          12.6,
          12.6,
          19.933333333333334,
          19.933333333333334,
          19.966666666666665,
          19.966666666666665,
          19.983333333333334,
          19.983333333333334,
          20.016666666666666,
          20.05,
          20.233333333333334,
          20.233333333333334,
          20.383333333333333,
          20.4,
          20.5,
          20.85,
          9.883333333333333,
          9.916666666666666,
          9.916666666666666,
          9.95,
          9.966666666666667,
          16.766666666666666,
          23.033333333333335,
          23.033333333333335,
          10.016666666666667,
          10.016666666666667,
          10.016666666666667,
          10.083333333333334,
          18.366666666666667,
          18.366666666666667,
          23.25,
          23.25,
          23.283333333333335,
          23.283333333333335,
          23.283333333333335,
          8.7,
          8.783333333333333,
          8.783333333333333,
          12.816666666666666,
          12.816666666666666,
          12.816666666666666,
          12.816666666666666,
          19.05,
          19.05,
          20.966666666666665,
          20.983333333333334,
          20.983333333333334,
          20.983333333333334,
          21.066666666666666,
          21.9,
          21.9,
          21.9,
          11.583333333333334,
          18.7,
          16.55,
          16.55,
          16.566666666666666,
          16.583333333333332,
          16.666666666666668,
          16.666666666666668,
          21.683333333333334,
          12.533333333333333,
          13.166666666666666,
          13.166666666666666,
          14.8,
          15.033333333333333,
          15.133333333333333,
          15.133333333333333,
          15.133333333333333,
          15.15,
          15.166666666666666,
          15.166666666666666,
          15.166666666666666,
          15.166666666666666,
          15.35,
          15.35,
          15.35,
          15.35,
          15.366666666666667,
          15.366666666666667,
          15.383333333333333,
          15.383333333333333,
          15.4,
          15.4,
          15.4,
          15.4,
          15.4,
          17.883333333333333,
          17.9,
          12.466666666666667,
          12.483333333333333,
          14.016666666666667,
          14.016666666666667,
          14.033333333333333,
          15.166666666666666,
          15.166666666666666,
          14.85,
          18.383333333333333,
          23.133333333333333,
          15.533333333333333,
          19.25,
          21.55,
          21.55,
          21.566666666666666,
          21.583333333333332,
          21.583333333333332,
          21.583333333333332,
          21.583333333333332,
          21.65,
          21.916666666666668,
          21.933333333333334,
          21.933333333333334,
          21.933333333333334,
          21.933333333333334,
          22.766666666666666,
          22.766666666666666,
          22.3,
          9.766666666666667,
          9.916666666666666,
          9.916666666666666,
          17.383333333333333,
          17.416666666666668,
          17.65,
          13.783333333333333,
          14.183333333333334,
          14.2,
          14.2,
          14.233333333333333,
          14.233333333333333,
          14.583333333333334,
          14.583333333333334,
          14.6,
          14.816666666666666,
          10.833333333333334,
          10.833333333333334,
          12.016666666666667,
          12.316666666666666,
          12.316666666666666,
          9.9,
          20.283333333333335,
          21.116666666666667,
          21.116666666666667,
          21.116666666666667,
          0.16666666666666666,
          15.683333333333334,
          13.266666666666667,
          13.266666666666667,
          13.266666666666667,
          13.266666666666667,
          13.9,
          15.083333333333334,
          15.083333333333334,
          20.65,
          20.65,
          20.683333333333334,
          23.883333333333333,
          12.066666666666666,
          12.083333333333334,
          12.083333333333334,
          12.233333333333333,
          16.3,
          21,
          21.716666666666665,
          22.383333333333333,
          22.566666666666666,
          23.116666666666667,
          23.116666666666667,
          9.783333333333333,
          20.816666666666666,
          21,
          21.066666666666666,
          21.166666666666668,
          21.183333333333334,
          21.2,
          21.2,
          20.95,
          21.016666666666666,
          21.016666666666666,
          21.016666666666666,
          21.033333333333335,
          21.733333333333334,
          22.416666666666668,
          22.45,
          22.266666666666666,
          22.283333333333335,
          22.283333333333335,
          17.25,
          17.266666666666666,
          17.266666666666666,
          17.266666666666666,
          17.266666666666666,
          17.266666666666666,
          17.283333333333335,
          17.283333333333335,
          22.2,
          22.2,
          22.2,
          22.2,
          22.2,
          22.216666666666665,
          22.216666666666665,
          22.233333333333334,
          22.533333333333335,
          22.533333333333335,
          22.533333333333335,
          22.583333333333332,
          22.583333333333332,
          23.866666666666667,
          18.1,
          18.1,
          18.283333333333335,
          18.883333333333333,
          18.883333333333333,
          16.816666666666666,
          16.816666666666666,
          17.033333333333335,
          17.066666666666666,
          11.7,
          11.7,
          14.433333333333334,
          14.7,
          14.7,
          14.716666666666667,
          15.016666666666667,
          15.016666666666667,
          15.283333333333333,
          15.283333333333333,
          15.283333333333333,
          15.3,
          15.3,
          17.5,
          17.5,
          17.5,
          17.866666666666667,
          17.866666666666667,
          17.883333333333333,
          18.033333333333335,
          23.5,
          23.516666666666666,
          23.6,
          19.633333333333333,
          19.65,
          19.65,
          19.716666666666665,
          19.716666666666665,
          19.716666666666665,
          19.75,
          20.983333333333334,
          20.983333333333334,
          20.983333333333334,
          20.983333333333334,
          21.083333333333332,
          21.116666666666667,
          21.116666666666667,
          21.766666666666666,
          22.466666666666665,
          14.5,
          14.5,
          18.583333333333332,
          16.983333333333334,
          16.983333333333334,
          17.383333333333333,
          17.4,
          17.4,
          17.5,
          17.65,
          17.816666666666666,
          17.85,
          17.85,
          17.866666666666667,
          18.55,
          20.916666666666668,
          20.983333333333334
         ],
         "xbins": {
          "end": 24,
          "size": 1,
          "start": 0
         }
        },
        {
         "name": "Author_3",
         "type": "histogram",
         "x": [
          22.283333333333335,
          14.533333333333333,
          14.55,
          14.583333333333334,
          14.833333333333334,
          12.5,
          12.5,
          15.033333333333333,
          15.383333333333333,
          11.283333333333333,
          12.833333333333334,
          12.833333333333334,
          12.85,
          12.9,
          13.483333333333333,
          13.5,
          13.5,
          17.2,
          14.266666666666667,
          14.283333333333333,
          15.05,
          17.433333333333334,
          0.6,
          0.8833333333333333,
          9.45,
          0,
          0,
          14.416666666666666,
          14.433333333333334,
          19.616666666666667,
          10.583333333333334,
          18.85,
          18.85,
          20.2,
          20.333333333333332,
          20.366666666666667,
          20.366666666666667,
          21.6,
          12.766666666666667,
          12.766666666666667,
          12.066666666666666,
          12.166666666666666,
          17.533333333333335,
          17.533333333333335,
          22.633333333333333,
          22.633333333333333,
          13.733333333333333,
          13.75,
          13.766666666666667,
          13.766666666666667,
          13.833333333333334,
          13.9,
          13.916666666666666,
          13.95,
          19.883333333333333,
          7.883333333333333,
          16.933333333333334,
          16.933333333333334,
          17.016666666666666,
          17.916666666666668,
          18.066666666666666,
          18.066666666666666,
          18.083333333333332,
          18.166666666666668,
          18.25,
          18.616666666666667,
          18.616666666666667,
          19.966666666666665,
          19.983333333333334,
          19.983333333333334,
          19.983333333333334,
          21.033333333333335,
          21.05,
          21.05,
          21.066666666666666,
          21.083333333333332,
          21.083333333333332,
          8.683333333333334,
          10.25,
          16.816666666666666,
          16.816666666666666,
          16.933333333333334,
          18.933333333333334,
          17.266666666666666,
          20.516666666666666,
          15.55,
          15.566666666666666,
          15.633333333333333,
          15.733333333333333,
          15.75,
          10.133333333333333,
          10.133333333333333,
          11.083333333333334,
          11.183333333333334,
          11.2,
          11.266666666666667,
          11.266666666666667,
          11.266666666666667,
          11.283333333333333,
          11.283333333333333,
          11.966666666666667,
          12.333333333333334,
          12.333333333333334,
          15.466666666666667,
          19.583333333333332,
          12.216666666666667,
          12.216666666666667,
          12.233333333333333,
          12.233333333333333,
          0.36666666666666664,
          12.816666666666666,
          12.816666666666666,
          11.466666666666667,
          9.733333333333333,
          13.366666666666667,
          13.383333333333333,
          14.416666666666666,
          14.416666666666666,
          21.766666666666666,
          21.783333333333335,
          23.25,
          23.266666666666666,
          23.083333333333332,
          16.65,
          12.183333333333334,
          17.233333333333334,
          17.716666666666665,
          23.55,
          23.6,
          12.95,
          19.1,
          19.116666666666667,
          16.533333333333335,
          16.533333333333335,
          16.55,
          17.216666666666665,
          18.383333333333333,
          19.75,
          19.766666666666666,
          18.333333333333332,
          18.383333333333333,
          13.35,
          13.366666666666667,
          15.983333333333333,
          15.983333333333333,
          0.35,
          0.35,
          0.5166666666666667,
          16.15,
          16.166666666666668,
          17.083333333333332,
          17.083333333333332,
          14.233333333333333,
          14.25,
          14.416666666666666,
          14.433333333333334,
          14.483333333333333,
          14.5,
          20.133333333333333,
          11.083333333333334,
          11.1,
          11.1,
          23.266666666666666,
          9.333333333333334,
          9.333333333333334,
          16.45,
          16.45,
          16.45,
          18.366666666666667,
          18.383333333333333,
          17.833333333333332,
          0.21666666666666667,
          15.516666666666667,
          12.216666666666667,
          12.25,
          16.066666666666666,
          16.1,
          16.116666666666667,
          16.116666666666667,
          16.116666666666667,
          17.1,
          17.1,
          17.116666666666667,
          17.116666666666667,
          17.116666666666667,
          17.116666666666667,
          17.2,
          17.2,
          17.2,
          17.216666666666665,
          17.216666666666665,
          17.233333333333334,
          17.25,
          17.25,
          21.566666666666666,
          21.566666666666666,
          21.566666666666666,
          21.566666666666666,
          21.566666666666666,
          21.65,
          21.933333333333334,
          22.55,
          22.55,
          22.55,
          22.616666666666667,
          22.616666666666667,
          21.016666666666666,
          21.85,
          14.25,
          14.266666666666667,
          14.266666666666667,
          14.666666666666666,
          14.666666666666666,
          15.983333333333333,
          21.083333333333332,
          0.2,
          18.516666666666666,
          20.816666666666666,
          20.883333333333333,
          21.1,
          21.133333333333333,
          21.133333333333333,
          21.133333333333333,
          18.166666666666668,
          20.983333333333334,
          21.083333333333332,
          21.733333333333334,
          21.75,
          21.766666666666666,
          21.8,
          21.8,
          21.8,
          22.416666666666668,
          22.416666666666668,
          22.466666666666665,
          22.483333333333334,
          22.483333333333334,
          22.5,
          22.266666666666666,
          22.266666666666666,
          22.283333333333335,
          22.2,
          22.2,
          22.216666666666665,
          13.033333333333333,
          13.033333333333333,
          13.033333333333333,
          15.266666666666667,
          15.266666666666667,
          15.283333333333333,
          15.3,
          23.533333333333335,
          19.666666666666668,
          21.016666666666666,
          21.016666666666666,
          21.016666666666666,
          14.516666666666667,
          17.4,
          23.716666666666665,
          23.716666666666665,
          23.733333333333334
         ],
         "xbins": {
          "end": 24,
          "size": 1,
          "start": 0
         }
        }
       ],
       "layout": {
        "barmode": "stack",
        "template": {
         "data": {
          "bar": [
           {
            "error_x": {
             "color": "#2a3f5f"
            },
            "error_y": {
             "color": "#2a3f5f"
            },
            "marker": {
             "line": {
              "color": "#E5ECF6",
              "width": 0.5
             }
            },
            "type": "bar"
           }
          ],
          "barpolar": [
           {
            "marker": {
             "line": {
              "color": "#E5ECF6",
              "width": 0.5
             }
            },
            "type": "barpolar"
           }
          ],
          "carpet": [
           {
            "aaxis": {
             "endlinecolor": "#2a3f5f",
             "gridcolor": "white",
             "linecolor": "white",
             "minorgridcolor": "white",
             "startlinecolor": "#2a3f5f"
            },
            "baxis": {
             "endlinecolor": "#2a3f5f",
             "gridcolor": "white",
             "linecolor": "white",
             "minorgridcolor": "white",
             "startlinecolor": "#2a3f5f"
            },
            "type": "carpet"
           }
          ],
          "choropleth": [
           {
            "colorbar": {
             "outlinewidth": 0,
             "ticks": ""
            },
            "type": "choropleth"
           }
          ],
          "contour": [
           {
            "colorbar": {
             "outlinewidth": 0,
             "ticks": ""
            },
            "colorscale": [
             [
              0,
              "#0d0887"
             ],
             [
              0.1111111111111111,
              "#46039f"
             ],
             [
              0.2222222222222222,
              "#7201a8"
             ],
             [
              0.3333333333333333,
              "#9c179e"
             ],
             [
              0.4444444444444444,
              "#bd3786"
             ],
             [
              0.5555555555555556,
              "#d8576b"
             ],
             [
              0.6666666666666666,
              "#ed7953"
             ],
             [
              0.7777777777777778,
              "#fb9f3a"
             ],
             [
              0.8888888888888888,
              "#fdca26"
             ],
             [
              1,
              "#f0f921"
             ]
            ],
            "type": "contour"
           }
          ],
          "contourcarpet": [
           {
            "colorbar": {
             "outlinewidth": 0,
             "ticks": ""
            },
            "type": "contourcarpet"
           }
          ],
          "heatmap": [
           {
            "colorbar": {
             "outlinewidth": 0,
             "ticks": ""
            },
            "colorscale": [
             [
              0,
              "#0d0887"
             ],
             [
              0.1111111111111111,
              "#46039f"
             ],
             [
              0.2222222222222222,
              "#7201a8"
             ],
             [
              0.3333333333333333,
              "#9c179e"
             ],
             [
              0.4444444444444444,
              "#bd3786"
             ],
             [
              0.5555555555555556,
              "#d8576b"
             ],
             [
              0.6666666666666666,
              "#ed7953"
             ],
             [
              0.7777777777777778,
              "#fb9f3a"
             ],
             [
              0.8888888888888888,
              "#fdca26"
             ],
             [
              1,
              "#f0f921"
             ]
            ],
            "type": "heatmap"
           }
          ],
          "heatmapgl": [
           {
            "colorbar": {
             "outlinewidth": 0,
             "ticks": ""
            },
            "colorscale": [
             [
              0,
              "#0d0887"
             ],
             [
              0.1111111111111111,
              "#46039f"
             ],
             [
              0.2222222222222222,
              "#7201a8"
             ],
             [
              0.3333333333333333,
              "#9c179e"
             ],
             [
              0.4444444444444444,
              "#bd3786"
             ],
             [
              0.5555555555555556,
              "#d8576b"
             ],
             [
              0.6666666666666666,
              "#ed7953"
             ],
             [
              0.7777777777777778,
              "#fb9f3a"
             ],
             [
              0.8888888888888888,
              "#fdca26"
             ],
             [
              1,
              "#f0f921"
             ]
            ],
            "type": "heatmapgl"
           }
          ],
          "histogram": [
           {
            "marker": {
             "colorbar": {
              "outlinewidth": 0,
              "ticks": ""
             }
            },
            "type": "histogram"
           }
          ],
          "histogram2d": [
           {
            "colorbar": {
             "outlinewidth": 0,
             "ticks": ""
            },
            "colorscale": [
             [
              0,
              "#0d0887"
             ],
             [
              0.1111111111111111,
              "#46039f"
             ],
             [
              0.2222222222222222,
              "#7201a8"
             ],
             [
              0.3333333333333333,
              "#9c179e"
             ],
             [
              0.4444444444444444,
              "#bd3786"
             ],
             [
              0.5555555555555556,
              "#d8576b"
             ],
             [
              0.6666666666666666,
              "#ed7953"
             ],
             [
              0.7777777777777778,
              "#fb9f3a"
             ],
             [
              0.8888888888888888,
              "#fdca26"
             ],
             [
              1,
              "#f0f921"
             ]
            ],
            "type": "histogram2d"
           }
          ],
          "histogram2dcontour": [
           {
            "colorbar": {
             "outlinewidth": 0,
             "ticks": ""
            },
            "colorscale": [
             [
              0,
              "#0d0887"
             ],
             [
              0.1111111111111111,
              "#46039f"
             ],
             [
              0.2222222222222222,
              "#7201a8"
             ],
             [
              0.3333333333333333,
              "#9c179e"
             ],
             [
              0.4444444444444444,
              "#bd3786"
             ],
             [
              0.5555555555555556,
              "#d8576b"
             ],
             [
              0.6666666666666666,
              "#ed7953"
             ],
             [
              0.7777777777777778,
              "#fb9f3a"
             ],
             [
              0.8888888888888888,
              "#fdca26"
             ],
             [
              1,
              "#f0f921"
             ]
            ],
            "type": "histogram2dcontour"
           }
          ],
          "mesh3d": [
           {
            "colorbar": {
             "outlinewidth": 0,
             "ticks": ""
            },
            "type": "mesh3d"
           }
          ],
          "parcoords": [
           {
            "line": {
             "colorbar": {
              "outlinewidth": 0,
              "ticks": ""
             }
            },
            "type": "parcoords"
           }
          ],
          "pie": [
           {
            "automargin": true,
            "type": "pie"
           }
          ],
          "scatter": [
           {
            "marker": {
             "colorbar": {
              "outlinewidth": 0,
              "ticks": ""
             }
            },
            "type": "scatter"
           }
          ],
          "scatter3d": [
           {
            "line": {
             "colorbar": {
              "outlinewidth": 0,
              "ticks": ""
             }
            },
            "marker": {
             "colorbar": {
              "outlinewidth": 0,
              "ticks": ""
             }
            },
            "type": "scatter3d"
           }
          ],
          "scattercarpet": [
           {
            "marker": {
             "colorbar": {
              "outlinewidth": 0,
              "ticks": ""
             }
            },
            "type": "scattercarpet"
           }
          ],
          "scattergeo": [
           {
            "marker": {
             "colorbar": {
              "outlinewidth": 0,
              "ticks": ""
             }
            },
            "type": "scattergeo"
           }
          ],
          "scattergl": [
           {
            "marker": {
             "colorbar": {
              "outlinewidth": 0,
              "ticks": ""
             }
            },
            "type": "scattergl"
           }
          ],
          "scattermapbox": [
           {
            "marker": {
             "colorbar": {
              "outlinewidth": 0,
              "ticks": ""
             }
            },
            "type": "scattermapbox"
           }
          ],
          "scatterpolar": [
           {
            "marker": {
             "colorbar": {
              "outlinewidth": 0,
              "ticks": ""
             }
            },
            "type": "scatterpolar"
           }
          ],
          "scatterpolargl": [
           {
            "marker": {
             "colorbar": {
              "outlinewidth": 0,
              "ticks": ""
             }
            },
            "type": "scatterpolargl"
           }
          ],
          "scatterternary": [
           {
            "marker": {
             "colorbar": {
              "outlinewidth": 0,
              "ticks": ""
             }
            },
            "type": "scatterternary"
           }
          ],
          "surface": [
           {
            "colorbar": {
             "outlinewidth": 0,
             "ticks": ""
            },
            "colorscale": [
             [
              0,
              "#0d0887"
             ],
             [
              0.1111111111111111,
              "#46039f"
             ],
             [
              0.2222222222222222,
              "#7201a8"
             ],
             [
              0.3333333333333333,
              "#9c179e"
             ],
             [
              0.4444444444444444,
              "#bd3786"
             ],
             [
              0.5555555555555556,
              "#d8576b"
             ],
             [
              0.6666666666666666,
              "#ed7953"
             ],
             [
              0.7777777777777778,
              "#fb9f3a"
             ],
             [
              0.8888888888888888,
              "#fdca26"
             ],
             [
              1,
              "#f0f921"
             ]
            ],
            "type": "surface"
           }
          ],
          "table": [
           {
            "cells": {
             "fill": {
              "color": "#EBF0F8"
             },
             "line": {
              "color": "white"
             }
            },
            "header": {
             "fill": {
              "color": "#C8D4E3"
             },
             "line": {
              "color": "white"
             }
            },
            "type": "table"
           }
          ]
         },
         "layout": {
          "annotationdefaults": {
           "arrowcolor": "#2a3f5f",
           "arrowhead": 0,
           "arrowwidth": 1
          },
          "coloraxis": {
           "colorbar": {
            "outlinewidth": 0,
            "ticks": ""
           }
          },
          "colorscale": {
           "diverging": [
            [
             0,
             "#8e0152"
            ],
            [
             0.1,
             "#c51b7d"
            ],
            [
             0.2,
             "#de77ae"
            ],
            [
             0.3,
             "#f1b6da"
            ],
            [
             0.4,
             "#fde0ef"
            ],
            [
             0.5,
             "#f7f7f7"
            ],
            [
             0.6,
             "#e6f5d0"
            ],
            [
             0.7,
             "#b8e186"
            ],
            [
             0.8,
             "#7fbc41"
            ],
            [
             0.9,
             "#4d9221"
            ],
            [
             1,
             "#276419"
            ]
           ],
           "sequential": [
            [
             0,
             "#0d0887"
            ],
            [
             0.1111111111111111,
             "#46039f"
            ],
            [
             0.2222222222222222,
             "#7201a8"
            ],
            [
             0.3333333333333333,
             "#9c179e"
            ],
            [
             0.4444444444444444,
             "#bd3786"
            ],
            [
             0.5555555555555556,
             "#d8576b"
            ],
            [
             0.6666666666666666,
             "#ed7953"
            ],
            [
             0.7777777777777778,
             "#fb9f3a"
            ],
            [
             0.8888888888888888,
             "#fdca26"
            ],
            [
             1,
             "#f0f921"
            ]
           ],
           "sequentialminus": [
            [
             0,
             "#0d0887"
            ],
            [
             0.1111111111111111,
             "#46039f"
            ],
            [
             0.2222222222222222,
             "#7201a8"
            ],
            [
             0.3333333333333333,
             "#9c179e"
            ],
            [
             0.4444444444444444,
             "#bd3786"
            ],
            [
             0.5555555555555556,
             "#d8576b"
            ],
            [
             0.6666666666666666,
             "#ed7953"
            ],
            [
             0.7777777777777778,
             "#fb9f3a"
            ],
            [
             0.8888888888888888,
             "#fdca26"
            ],
            [
             1,
             "#f0f921"
            ]
           ]
          },
          "colorway": [
           "#636efa",
           "#EF553B",
           "#00cc96",
           "#ab63fa",
           "#FFA15A",
           "#19d3f3",
           "#FF6692",
           "#B6E880",
           "#FF97FF",
           "#FECB52"
          ],
          "font": {
           "color": "#2a3f5f"
          },
          "geo": {
           "bgcolor": "white",
           "lakecolor": "white",
           "landcolor": "#E5ECF6",
           "showlakes": true,
           "showland": true,
           "subunitcolor": "white"
          },
          "hoverlabel": {
           "align": "left"
          },
          "hovermode": "closest",
          "mapbox": {
           "style": "light"
          },
          "paper_bgcolor": "white",
          "plot_bgcolor": "#E5ECF6",
          "polar": {
           "angularaxis": {
            "gridcolor": "white",
            "linecolor": "white",
            "ticks": ""
           },
           "bgcolor": "#E5ECF6",
           "radialaxis": {
            "gridcolor": "white",
            "linecolor": "white",
            "ticks": ""
           }
          },
          "scene": {
           "xaxis": {
            "backgroundcolor": "#E5ECF6",
            "gridcolor": "white",
            "gridwidth": 2,
            "linecolor": "white",
            "showbackground": true,
            "ticks": "",
            "zerolinecolor": "white"
           },
           "yaxis": {
            "backgroundcolor": "#E5ECF6",
            "gridcolor": "white",
            "gridwidth": 2,
            "linecolor": "white",
            "showbackground": true,
            "ticks": "",
            "zerolinecolor": "white"
           },
           "zaxis": {
            "backgroundcolor": "#E5ECF6",
            "gridcolor": "white",
            "gridwidth": 2,
            "linecolor": "white",
            "showbackground": true,
            "ticks": "",
            "zerolinecolor": "white"
           }
          },
          "shapedefaults": {
           "line": {
            "color": "#2a3f5f"
           }
          },
          "ternary": {
           "aaxis": {
            "gridcolor": "white",
            "linecolor": "white",
            "ticks": ""
           },
           "baxis": {
            "gridcolor": "white",
            "linecolor": "white",
            "ticks": ""
           },
           "bgcolor": "#E5ECF6",
           "caxis": {
            "gridcolor": "white",
            "linecolor": "white",
            "ticks": ""
           }
          },
          "title": {
           "x": 0.05
          },
          "xaxis": {
           "automargin": true,
           "gridcolor": "white",
           "linecolor": "white",
           "ticks": "",
           "title": {
            "standoff": 15
           },
           "zerolinecolor": "white",
           "zerolinewidth": 2
          },
          "yaxis": {
           "automargin": true,
           "gridcolor": "white",
           "linecolor": "white",
           "ticks": "",
           "title": {
            "standoff": 15
           },
           "zerolinecolor": "white",
           "zerolinewidth": 2
          }
         }
        },
        "title": {
         "text": "Agregovaný počet zpráv v půlhodinových intervalech"
        },
        "width": 1000,
        "xaxis": {
         "title": {
          "text": "Hodiny"
         }
        },
        "yaxis": {
         "title": {
          "text": "Počet zpráv"
         }
        }
       }
      }
     },
     "metadata": {}
    }
   ],
   "source": [
    "display_half_hours_histogram(writers, names, times, True)"
   ]
  },
  {
   "cell_type": "code",
   "execution_count": 14,
   "metadata": {},
   "outputs": [
    {
     "output_type": "display_data",
     "data": {
      "application/vnd.plotly.v1+json": {
       "config": {
        "plotlyServerURL": "https://plot.ly"
       },
       "data": [
        {
         "box": {
          "visible": true
         },
         "meanline": {
          "visible": true
         },
         "name": "Author_0",
         "points": "all",
         "type": "violin",
         "y": [
          32,
          31,
          1,
          2,
          4,
          11,
          3,
          26,
          17,
          1,
          9,
          4,
          1,
          0,
          1,
          8,
          6,
          13,
          7,
          3,
          13,
          1,
          1,
          8,
          6,
          2,
          5,
          1,
          1,
          1,
          6,
          1,
          7,
          10,
          1,
          32,
          6,
          3,
          0,
          8,
          1,
          9,
          1,
          4,
          1,
          5,
          0,
          4,
          1,
          2,
          1,
          3,
          2,
          9,
          0,
          7,
          1,
          2,
          4,
          1,
          12,
          3,
          0,
          11,
          1,
          3,
          11,
          3,
          0,
          5,
          4,
          7,
          1,
          2,
          1,
          4,
          1,
          4,
          1,
          4,
          2,
          1,
          1,
          6,
          1,
          1,
          7,
          1,
          1,
          4,
          2,
          1,
          1,
          0,
          3,
          2,
          3,
          7,
          5,
          3,
          1,
          7,
          3,
          2,
          1,
          5,
          2,
          1,
          2,
          0,
          3,
          6,
          3,
          0,
          0,
          0,
          1,
          1,
          6,
          1,
          3,
          2,
          4,
          1,
          3,
          5,
          2,
          3,
          1,
          1,
          0,
          0,
          2,
          1,
          3,
          10,
          13,
          0,
          3,
          4,
          2,
          2,
          2,
          2,
          2,
          3,
          1,
          1,
          1,
          7,
          5,
          5,
          4,
          1,
          5,
          1,
          3,
          1,
          1,
          3,
          2,
          3,
          4,
          2,
          1,
          4,
          2,
          1,
          1,
          1,
          1,
          1,
          1,
          5,
          3,
          20,
          1,
          6,
          4,
          6,
          4,
          4,
          1,
          1,
          4,
          4,
          3,
          1,
          15,
          13,
          3,
          2,
          4,
          5,
          3,
          3,
          13,
          95,
          2,
          1,
          0,
          23,
          7,
          1,
          27,
          17,
          2,
          6,
          1,
          2,
          6,
          5,
          7,
          1,
          4,
          6,
          9,
          5,
          2,
          2,
          6,
          4,
          4,
          12,
          4,
          3,
          1,
          2,
          2,
          5,
          1,
          1,
          4,
          0,
          8,
          3,
          4,
          4,
          8,
          2,
          7,
          7,
          3,
          0,
          0,
          4,
          5,
          4,
          1,
          0,
          1,
          4,
          1,
          5,
          47,
          4,
          20,
          4,
          1,
          1,
          4,
          8,
          4,
          0,
          1,
          2,
          9,
          5,
          2,
          3,
          10,
          4,
          0,
          8,
          13,
          5,
          1,
          10,
          12,
          8,
          1,
          1,
          6,
          10,
          1,
          3,
          2,
          6,
          9,
          6,
          5,
          5,
          7,
          15,
          1,
          2,
          3,
          8,
          4,
          9,
          8,
          6,
          6,
          6,
          9,
          8,
          1,
          2,
          3,
          1,
          2,
          6,
          1,
          1,
          1,
          3,
          1,
          13,
          6,
          12,
          11,
          5,
          11,
          1,
          7,
          5,
          9,
          13,
          1,
          4,
          1,
          10,
          14,
          1,
          5,
          8,
          9,
          2,
          26,
          1,
          11,
          6,
          11,
          4,
          20,
          5,
          0,
          14,
          5,
          10,
          10,
          1,
          7,
          5,
          16,
          5,
          4,
          26,
          8,
          8,
          2,
          5,
          10,
          1,
          1,
          3,
          5,
          1,
          5,
          3,
          4,
          11,
          3,
          6,
          6,
          6,
          1,
          11,
          6,
          7,
          3,
          4,
          4,
          8,
          4,
          21,
          2,
          1,
          4,
          5,
          5,
          7,
          1,
          1,
          2,
          1,
          14,
          1,
          1,
          15,
          13,
          12,
          13,
          15,
          6,
          13,
          4,
          2,
          3,
          3,
          3,
          0,
          6,
          22,
          15,
          19,
          9,
          12,
          18,
          5,
          7,
          6,
          2,
          1,
          1,
          3,
          5,
          1,
          4,
          8,
          1,
          10,
          1,
          6,
          1,
          10,
          6,
          5,
          7,
          4,
          13,
          7,
          11,
          2,
          1,
          0,
          13,
          1,
          1,
          3,
          4,
          0,
          1,
          1,
          5,
          6,
          4,
          1,
          1,
          1,
          7,
          4,
          5,
          3,
          2,
          3,
          1,
          3,
          12,
          11,
          3,
          12,
          9,
          1,
          2,
          1,
          1,
          2,
          1,
          1,
          2,
          1,
          7,
          3,
          1,
          14,
          5,
          5,
          2,
          4,
          3,
          3,
          2,
          4,
          3,
          4,
          3,
          1,
          1,
          4,
          1,
          1,
          1,
          5,
          3,
          1,
          7,
          1,
          3,
          1,
          1,
          5,
          3,
          1
         ]
        },
        {
         "box": {
          "visible": true
         },
         "meanline": {
          "visible": true
         },
         "name": "Author_1",
         "points": "all",
         "type": "violin",
         "y": [
          3,
          6,
          4,
          47,
          1,
          10,
          52,
          22,
          27,
          95,
          11,
          0,
          3,
          24,
          4,
          9,
          14,
          0,
          5,
          7,
          4,
          5,
          5,
          1,
          3,
          1,
          28,
          24,
          53,
          17,
          44,
          68,
          1,
          3,
          9,
          3,
          4,
          8,
          15,
          5,
          2,
          2,
          13,
          15,
          1,
          7,
          5,
          8,
          4,
          16,
          1,
          4,
          4,
          24,
          7,
          1,
          1,
          36,
          10,
          4,
          3,
          5,
          5,
          2,
          1,
          3,
          2,
          10,
          4,
          0,
          33,
          93,
          9,
          22,
          5,
          3,
          70,
          17,
          41,
          12,
          4,
          8,
          28,
          5,
          3,
          9,
          8,
          61,
          15,
          3,
          10,
          4,
          5,
          6,
          28,
          4,
          12,
          12,
          6,
          4,
          2,
          2,
          7,
          12,
          10,
          3,
          14,
          16,
          9,
          4,
          5,
          31,
          43,
          70,
          11,
          7,
          20,
          15,
          18,
          23,
          12,
          13,
          34,
          4,
          6,
          12,
          2,
          4,
          10,
          33,
          23,
          2,
          3,
          1,
          7,
          1,
          8,
          21,
          3,
          14,
          13,
          4,
          7,
          21,
          8,
          4,
          1,
          3,
          1,
          1,
          4,
          4,
          3,
          6,
          12,
          5,
          1,
          8,
          3,
          9,
          3,
          5,
          4,
          3,
          3,
          4,
          14,
          3,
          3,
          1,
          2,
          0,
          5,
          1,
          10,
          5,
          2,
          4,
          1,
          1,
          8,
          6,
          1,
          9,
          59,
          6,
          1,
          4,
          5,
          6,
          1,
          3,
          6,
          11,
          3,
          6,
          3,
          5,
          5,
          4,
          14,
          6,
          3,
          4,
          12,
          6,
          18,
          2,
          5,
          8,
          4,
          7,
          15,
          44,
          12,
          5,
          51,
          6,
          4,
          4,
          4,
          20,
          39,
          29,
          5,
          40,
          6,
          13,
          8,
          2,
          11,
          11,
          1,
          4,
          8,
          24,
          11,
          21,
          5,
          6,
          14,
          1,
          19,
          0,
          7,
          7,
          6,
          7,
          1,
          7,
          9,
          19,
          44,
          1,
          5,
          0,
          4,
          45,
          2,
          6,
          14,
          9,
          14,
          3,
          51,
          36,
          27,
          5,
          6,
          3,
          7,
          4,
          7,
          0,
          1,
          0,
          2,
          1,
          27,
          5,
          7,
          8,
          6,
          4,
          2,
          1,
          8,
          11,
          4,
          10,
          18,
          1,
          5,
          1,
          1,
          2,
          5,
          11,
          8,
          6,
          1,
          10,
          8,
          3,
          4,
          2,
          3,
          1,
          3,
          9,
          7,
          6,
          4,
          3,
          5,
          1,
          6,
          1,
          1,
          5,
          3,
          4,
          2,
          3,
          10,
          1,
          6,
          3,
          11,
          5,
          5,
          3,
          9,
          15,
          13,
          16,
          9,
          10,
          2,
          1,
          6,
          12,
          11,
          9,
          8,
          4,
          13,
          8,
          5,
          7,
          5,
          5,
          9,
          1,
          1,
          17,
          4,
          6,
          1,
          5,
          1,
          2,
          1,
          0,
          3,
          1,
          2,
          2,
          1,
          1,
          0,
          4,
          8,
          2,
          3,
          6,
          6,
          9,
          11,
          58,
          1,
          5,
          8,
          5,
          8,
          7,
          5,
          9,
          8,
          1,
          4,
          14,
          1,
          5,
          3,
          7,
          7,
          10,
          1,
          1,
          13,
          18,
          14,
          4,
          8,
          6,
          10,
          3,
          5,
          5,
          5,
          5,
          8,
          3,
          1,
          1,
          0,
          6,
          5,
          9,
          21,
          5,
          8,
          1,
          8,
          1,
          8,
          5,
          16,
          3,
          11,
          15,
          3,
          5,
          10,
          0,
          12,
          11,
          2,
          6,
          12,
          11,
          11,
          0,
          1,
          10,
          1,
          1,
          6,
          4,
          0,
          1,
          7,
          8,
          6,
          13,
          8,
          11,
          8,
          11,
          1,
          1,
          2,
          1,
          5,
          1,
          3,
          10,
          5,
          5,
          17,
          5,
          19,
          22,
          5,
          21,
          7,
          8,
          2,
          3,
          4,
          1,
          1,
          0,
          3,
          2,
          4,
          1,
          3,
          5,
          0,
          0,
          3,
          5,
          3,
          8,
          6,
          9,
          29,
          12,
          2,
          11,
          6,
          9,
          8,
          0,
          2,
          4,
          34,
          3,
          10,
          5,
          4,
          3,
          12,
          7,
          4,
          3,
          6,
          6,
          15,
          4,
          3,
          3,
          5,
          4,
          6,
          3,
          3,
          7,
          10,
          5,
          6,
          12,
          5,
          6,
          9,
          2,
          4,
          0,
          3,
          2,
          6,
          0,
          11,
          15,
          6,
          9,
          9,
          3,
          13,
          8,
          14,
          2,
          4,
          3
         ]
        },
        {
         "box": {
          "visible": true
         },
         "meanline": {
          "visible": true
         },
         "name": "Author_2",
         "points": "all",
         "type": "violin",
         "y": [
          6,
          8,
          5,
          6,
          9,
          4,
          0,
          5,
          1,
          11,
          3,
          6,
          4,
          7,
          8,
          31,
          16,
          6,
          5,
          6,
          1,
          1,
          1,
          2,
          21,
          1,
          0,
          3,
          7,
          4,
          16,
          12,
          2,
          2,
          12,
          10,
          1,
          4,
          3,
          4,
          2,
          3,
          4,
          2,
          3,
          2,
          16,
          7,
          2,
          1,
          1,
          6,
          5,
          5,
          7,
          1,
          10,
          1,
          11,
          2,
          3,
          6,
          4,
          1,
          2,
          1,
          7,
          8,
          6,
          17,
          5,
          8,
          3,
          2,
          7,
          3,
          4,
          9,
          1,
          1,
          1,
          4,
          2,
          5,
          6,
          1,
          3,
          5,
          6,
          12,
          1,
          1,
          1,
          4,
          5,
          3,
          3,
          4,
          3,
          5,
          2,
          7,
          2,
          1,
          0,
          1,
          12,
          16,
          1,
          5,
          0,
          12,
          10,
          1,
          4,
          7,
          5,
          9,
          2,
          1,
          20,
          10,
          8,
          6,
          4,
          3,
          17,
          3,
          4,
          1,
          4,
          7,
          2,
          0,
          3,
          1,
          10,
          8,
          3,
          4,
          2,
          3,
          3,
          2,
          4,
          4,
          5,
          18,
          1,
          12,
          3,
          1,
          1,
          13,
          5,
          2,
          2,
          9,
          2,
          1,
          2,
          1,
          4,
          0,
          5,
          1,
          5,
          2,
          6,
          16,
          9,
          2,
          3,
          5,
          8,
          4,
          3,
          118,
          6,
          10,
          23,
          4,
          7,
          3,
          16,
          11,
          6,
          13,
          4,
          2,
          4,
          1,
          10,
          4,
          15,
          8,
          28,
          6,
          4,
          17,
          5,
          22,
          6,
          13,
          8,
          5,
          1,
          7,
          13,
          4,
          13,
          0,
          5,
          11,
          11,
          11,
          1,
          8,
          4,
          12,
          5,
          3,
          6,
          7,
          5,
          3,
          10,
          3,
          4,
          2,
          7,
          4,
          11,
          7,
          3,
          2,
          1,
          13,
          0,
          0,
          0,
          28,
          5,
          6,
          9,
          4,
          8,
          6,
          5,
          3,
          17,
          1,
          0,
          6,
          0,
          1,
          9,
          1,
          13,
          10,
          16,
          10,
          13,
          1,
          1,
          9,
          7,
          4,
          4,
          2,
          1,
          12,
          10,
          6,
          2,
          1,
          5,
          9,
          4,
          1,
          1,
          2,
          12,
          10,
          3,
          2,
          29,
          1,
          11,
          5,
          13,
          5,
          0,
          0,
          3,
          8,
          5,
          9,
          7,
          6,
          3,
          1,
          9,
          7,
          7,
          16,
          5,
          3,
          0,
          1,
          15,
          127,
          11,
          5,
          1,
          8,
          6,
          31,
          5,
          3,
          3,
          1,
          3,
          3,
          3,
          8,
          9,
          9,
          1,
          4,
          3,
          8,
          3,
          5,
          4,
          10,
          4,
          7,
          1,
          1,
          2,
          4,
          1,
          1,
          1,
          2,
          5,
          10,
          6,
          7,
          3,
          14,
          5,
          7,
          2,
          0,
          1,
          1,
          5,
          1,
          26,
          8,
          16,
          7,
          4,
          1,
          5,
          6,
          1,
          1,
          13,
          11,
          4,
          4,
          3,
          1,
          5,
          15,
          6,
          6,
          6,
          4,
          2,
          1,
          4,
          13,
          1,
          1,
          4,
          0,
          3,
          9,
          1,
          1,
          16,
          3,
          1,
          6,
          2,
          6,
          5,
          15,
          6,
          1,
          3,
          1,
          1,
          1,
          7,
          5,
          5,
          1,
          1,
          14,
          10,
          4,
          9,
          1,
          9,
          1,
          4,
          1,
          0,
          4,
          1,
          4,
          4,
          10,
          1,
          12,
          1,
          2,
          9,
          1,
          10,
          10,
          11,
          14,
          9,
          0,
          1,
          1,
          0,
          3,
          7,
          0,
          2,
          12,
          1,
          2,
          11,
          0,
          5,
          1,
          3,
          2,
          3,
          5,
          2,
          0,
          0,
          5,
          5,
          2,
          2,
          2,
          8,
          4,
          4,
          4,
          1,
          2,
          6,
          6,
          1,
          1,
          7,
          1,
          4,
          17,
          81,
          6,
          10,
          16,
          6,
          20,
          20,
          8,
          7,
          7,
          7,
          1,
          1,
          1,
          4,
          5,
          1,
          4,
          22,
          7,
          2,
          6,
          10,
          13,
          3,
          1,
          1,
          1,
          0,
          1,
          10,
          6,
          7,
          5,
          4,
          5,
          3,
          8,
          3,
          3,
          4,
          11,
          7,
          1,
          6,
          1,
          4,
          5,
          4,
          1,
          1,
          1,
          9,
          14,
          1,
          3,
          10,
          5,
          17,
          6,
          5,
          7,
          1,
          3,
          7,
          1,
          6,
          1,
          1,
          1,
          1,
          0,
          13,
          11,
          4,
          6,
          1,
          2,
          1,
          8,
          7,
          11,
          3,
          10,
          7,
          4,
          13,
          1
         ]
        },
        {
         "box": {
          "visible": true
         },
         "meanline": {
          "visible": true
         },
         "name": "Author_3",
         "points": "all",
         "type": "violin",
         "y": [
          31,
          9,
          7,
          1,
          3,
          4,
          2,
          6,
          9,
          12,
          7,
          3,
          15,
          13,
          11,
          10,
          0,
          17,
          6,
          14,
          38,
          5,
          5,
          17,
          5,
          0,
          6,
          12,
          10,
          18,
          16,
          1,
          1,
          6,
          1,
          24,
          5,
          6,
          4,
          12,
          4,
          4,
          1,
          5,
          19,
          22,
          10,
          2,
          9,
          8,
          1,
          1,
          5,
          1,
          7,
          18,
          13,
          8,
          13,
          1,
          5,
          7,
          2,
          18,
          17,
          12,
          8,
          8,
          1,
          6,
          3,
          6,
          4,
          1,
          2,
          4,
          6,
          5,
          1,
          1,
          6,
          0,
          17,
          7,
          1,
          37,
          3,
          4,
          11,
          7,
          2,
          1,
          1,
          1,
          1,
          1,
          1,
          2,
          11,
          1,
          1,
          1,
          1,
          1,
          1,
          1,
          1,
          7,
          4,
          4,
          1,
          3,
          5,
          2,
          1,
          5,
          2,
          7,
          20,
          16,
          5,
          2,
          26,
          2,
          21,
          4,
          14,
          0,
          16,
          1,
          10,
          3,
          7,
          5,
          1,
          3,
          3,
          3,
          3,
          3,
          1,
          6,
          9,
          2,
          16,
          4,
          3,
          18,
          6,
          6,
          1,
          10,
          3,
          3,
          3,
          3,
          2,
          1,
          1,
          15,
          1,
          4,
          3,
          25,
          7,
          5,
          4,
          7,
          2,
          2,
          7,
          10,
          32,
          5,
          19,
          4,
          1,
          8,
          6,
          1,
          15,
          10,
          3,
          2,
          5,
          5,
          21,
          10,
          4,
          8,
          3,
          4,
          12,
          4,
          6,
          1,
          11,
          1,
          2,
          1,
          2,
          6,
          0,
          3,
          2,
          6,
          1,
          1,
          9,
          14,
          9,
          20,
          9,
          6,
          1,
          10,
          0,
          19,
          5,
          1,
          5,
          5,
          5,
          6,
          11,
          4,
          5,
          2,
          1,
          1,
          1,
          1,
          1,
          1,
          1,
          2,
          27,
          0,
          3,
          3,
          3,
          3,
          2,
          11,
          0,
          3,
          10,
          12,
          5,
          4,
          5,
          16,
          1,
          4,
          3,
          1,
          3,
          1,
          1,
          4,
          0
         ]
        }
       ],
       "layout": {
        "height": 600,
        "template": {
         "data": {
          "bar": [
           {
            "error_x": {
             "color": "#2a3f5f"
            },
            "error_y": {
             "color": "#2a3f5f"
            },
            "marker": {
             "line": {
              "color": "#E5ECF6",
              "width": 0.5
             }
            },
            "type": "bar"
           }
          ],
          "barpolar": [
           {
            "marker": {
             "line": {
              "color": "#E5ECF6",
              "width": 0.5
             }
            },
            "type": "barpolar"
           }
          ],
          "carpet": [
           {
            "aaxis": {
             "endlinecolor": "#2a3f5f",
             "gridcolor": "white",
             "linecolor": "white",
             "minorgridcolor": "white",
             "startlinecolor": "#2a3f5f"
            },
            "baxis": {
             "endlinecolor": "#2a3f5f",
             "gridcolor": "white",
             "linecolor": "white",
             "minorgridcolor": "white",
             "startlinecolor": "#2a3f5f"
            },
            "type": "carpet"
           }
          ],
          "choropleth": [
           {
            "colorbar": {
             "outlinewidth": 0,
             "ticks": ""
            },
            "type": "choropleth"
           }
          ],
          "contour": [
           {
            "colorbar": {
             "outlinewidth": 0,
             "ticks": ""
            },
            "colorscale": [
             [
              0,
              "#0d0887"
             ],
             [
              0.1111111111111111,
              "#46039f"
             ],
             [
              0.2222222222222222,
              "#7201a8"
             ],
             [
              0.3333333333333333,
              "#9c179e"
             ],
             [
              0.4444444444444444,
              "#bd3786"
             ],
             [
              0.5555555555555556,
              "#d8576b"
             ],
             [
              0.6666666666666666,
              "#ed7953"
             ],
             [
              0.7777777777777778,
              "#fb9f3a"
             ],
             [
              0.8888888888888888,
              "#fdca26"
             ],
             [
              1,
              "#f0f921"
             ]
            ],
            "type": "contour"
           }
          ],
          "contourcarpet": [
           {
            "colorbar": {
             "outlinewidth": 0,
             "ticks": ""
            },
            "type": "contourcarpet"
           }
          ],
          "heatmap": [
           {
            "colorbar": {
             "outlinewidth": 0,
             "ticks": ""
            },
            "colorscale": [
             [
              0,
              "#0d0887"
             ],
             [
              0.1111111111111111,
              "#46039f"
             ],
             [
              0.2222222222222222,
              "#7201a8"
             ],
             [
              0.3333333333333333,
              "#9c179e"
             ],
             [
              0.4444444444444444,
              "#bd3786"
             ],
             [
              0.5555555555555556,
              "#d8576b"
             ],
             [
              0.6666666666666666,
              "#ed7953"
             ],
             [
              0.7777777777777778,
              "#fb9f3a"
             ],
             [
              0.8888888888888888,
              "#fdca26"
             ],
             [
              1,
              "#f0f921"
             ]
            ],
            "type": "heatmap"
           }
          ],
          "heatmapgl": [
           {
            "colorbar": {
             "outlinewidth": 0,
             "ticks": ""
            },
            "colorscale": [
             [
              0,
              "#0d0887"
             ],
             [
              0.1111111111111111,
              "#46039f"
             ],
             [
              0.2222222222222222,
              "#7201a8"
             ],
             [
              0.3333333333333333,
              "#9c179e"
             ],
             [
              0.4444444444444444,
              "#bd3786"
             ],
             [
              0.5555555555555556,
              "#d8576b"
             ],
             [
              0.6666666666666666,
              "#ed7953"
             ],
             [
              0.7777777777777778,
              "#fb9f3a"
             ],
             [
              0.8888888888888888,
              "#fdca26"
             ],
             [
              1,
              "#f0f921"
             ]
            ],
            "type": "heatmapgl"
           }
          ],
          "histogram": [
           {
            "marker": {
             "colorbar": {
              "outlinewidth": 0,
              "ticks": ""
             }
            },
            "type": "histogram"
           }
          ],
          "histogram2d": [
           {
            "colorbar": {
             "outlinewidth": 0,
             "ticks": ""
            },
            "colorscale": [
             [
              0,
              "#0d0887"
             ],
             [
              0.1111111111111111,
              "#46039f"
             ],
             [
              0.2222222222222222,
              "#7201a8"
             ],
             [
              0.3333333333333333,
              "#9c179e"
             ],
             [
              0.4444444444444444,
              "#bd3786"
             ],
             [
              0.5555555555555556,
              "#d8576b"
             ],
             [
              0.6666666666666666,
              "#ed7953"
             ],
             [
              0.7777777777777778,
              "#fb9f3a"
             ],
             [
              0.8888888888888888,
              "#fdca26"
             ],
             [
              1,
              "#f0f921"
             ]
            ],
            "type": "histogram2d"
           }
          ],
          "histogram2dcontour": [
           {
            "colorbar": {
             "outlinewidth": 0,
             "ticks": ""
            },
            "colorscale": [
             [
              0,
              "#0d0887"
             ],
             [
              0.1111111111111111,
              "#46039f"
             ],
             [
              0.2222222222222222,
              "#7201a8"
             ],
             [
              0.3333333333333333,
              "#9c179e"
             ],
             [
              0.4444444444444444,
              "#bd3786"
             ],
             [
              0.5555555555555556,
              "#d8576b"
             ],
             [
              0.6666666666666666,
              "#ed7953"
             ],
             [
              0.7777777777777778,
              "#fb9f3a"
             ],
             [
              0.8888888888888888,
              "#fdca26"
             ],
             [
              1,
              "#f0f921"
             ]
            ],
            "type": "histogram2dcontour"
           }
          ],
          "mesh3d": [
           {
            "colorbar": {
             "outlinewidth": 0,
             "ticks": ""
            },
            "type": "mesh3d"
           }
          ],
          "parcoords": [
           {
            "line": {
             "colorbar": {
              "outlinewidth": 0,
              "ticks": ""
             }
            },
            "type": "parcoords"
           }
          ],
          "pie": [
           {
            "automargin": true,
            "type": "pie"
           }
          ],
          "scatter": [
           {
            "marker": {
             "colorbar": {
              "outlinewidth": 0,
              "ticks": ""
             }
            },
            "type": "scatter"
           }
          ],
          "scatter3d": [
           {
            "line": {
             "colorbar": {
              "outlinewidth": 0,
              "ticks": ""
             }
            },
            "marker": {
             "colorbar": {
              "outlinewidth": 0,
              "ticks": ""
             }
            },
            "type": "scatter3d"
           }
          ],
          "scattercarpet": [
           {
            "marker": {
             "colorbar": {
              "outlinewidth": 0,
              "ticks": ""
             }
            },
            "type": "scattercarpet"
           }
          ],
          "scattergeo": [
           {
            "marker": {
             "colorbar": {
              "outlinewidth": 0,
              "ticks": ""
             }
            },
            "type": "scattergeo"
           }
          ],
          "scattergl": [
           {
            "marker": {
             "colorbar": {
              "outlinewidth": 0,
              "ticks": ""
             }
            },
            "type": "scattergl"
           }
          ],
          "scattermapbox": [
           {
            "marker": {
             "colorbar": {
              "outlinewidth": 0,
              "ticks": ""
             }
            },
            "type": "scattermapbox"
           }
          ],
          "scatterpolar": [
           {
            "marker": {
             "colorbar": {
              "outlinewidth": 0,
              "ticks": ""
             }
            },
            "type": "scatterpolar"
           }
          ],
          "scatterpolargl": [
           {
            "marker": {
             "colorbar": {
              "outlinewidth": 0,
              "ticks": ""
             }
            },
            "type": "scatterpolargl"
           }
          ],
          "scatterternary": [
           {
            "marker": {
             "colorbar": {
              "outlinewidth": 0,
              "ticks": ""
             }
            },
            "type": "scatterternary"
           }
          ],
          "surface": [
           {
            "colorbar": {
             "outlinewidth": 0,
             "ticks": ""
            },
            "colorscale": [
             [
              0,
              "#0d0887"
             ],
             [
              0.1111111111111111,
              "#46039f"
             ],
             [
              0.2222222222222222,
              "#7201a8"
             ],
             [
              0.3333333333333333,
              "#9c179e"
             ],
             [
              0.4444444444444444,
              "#bd3786"
             ],
             [
              0.5555555555555556,
              "#d8576b"
             ],
             [
              0.6666666666666666,
              "#ed7953"
             ],
             [
              0.7777777777777778,
              "#fb9f3a"
             ],
             [
              0.8888888888888888,
              "#fdca26"
             ],
             [
              1,
              "#f0f921"
             ]
            ],
            "type": "surface"
           }
          ],
          "table": [
           {
            "cells": {
             "fill": {
              "color": "#EBF0F8"
             },
             "line": {
              "color": "white"
             }
            },
            "header": {
             "fill": {
              "color": "#C8D4E3"
             },
             "line": {
              "color": "white"
             }
            },
            "type": "table"
           }
          ]
         },
         "layout": {
          "annotationdefaults": {
           "arrowcolor": "#2a3f5f",
           "arrowhead": 0,
           "arrowwidth": 1
          },
          "coloraxis": {
           "colorbar": {
            "outlinewidth": 0,
            "ticks": ""
           }
          },
          "colorscale": {
           "diverging": [
            [
             0,
             "#8e0152"
            ],
            [
             0.1,
             "#c51b7d"
            ],
            [
             0.2,
             "#de77ae"
            ],
            [
             0.3,
             "#f1b6da"
            ],
            [
             0.4,
             "#fde0ef"
            ],
            [
             0.5,
             "#f7f7f7"
            ],
            [
             0.6,
             "#e6f5d0"
            ],
            [
             0.7,
             "#b8e186"
            ],
            [
             0.8,
             "#7fbc41"
            ],
            [
             0.9,
             "#4d9221"
            ],
            [
             1,
             "#276419"
            ]
           ],
           "sequential": [
            [
             0,
             "#0d0887"
            ],
            [
             0.1111111111111111,
             "#46039f"
            ],
            [
             0.2222222222222222,
             "#7201a8"
            ],
            [
             0.3333333333333333,
             "#9c179e"
            ],
            [
             0.4444444444444444,
             "#bd3786"
            ],
            [
             0.5555555555555556,
             "#d8576b"
            ],
            [
             0.6666666666666666,
             "#ed7953"
            ],
            [
             0.7777777777777778,
             "#fb9f3a"
            ],
            [
             0.8888888888888888,
             "#fdca26"
            ],
            [
             1,
             "#f0f921"
            ]
           ],
           "sequentialminus": [
            [
             0,
             "#0d0887"
            ],
            [
             0.1111111111111111,
             "#46039f"
            ],
            [
             0.2222222222222222,
             "#7201a8"
            ],
            [
             0.3333333333333333,
             "#9c179e"
            ],
            [
             0.4444444444444444,
             "#bd3786"
            ],
            [
             0.5555555555555556,
             "#d8576b"
            ],
            [
             0.6666666666666666,
             "#ed7953"
            ],
            [
             0.7777777777777778,
             "#fb9f3a"
            ],
            [
             0.8888888888888888,
             "#fdca26"
            ],
            [
             1,
             "#f0f921"
            ]
           ]
          },
          "colorway": [
           "#636efa",
           "#EF553B",
           "#00cc96",
           "#ab63fa",
           "#FFA15A",
           "#19d3f3",
           "#FF6692",
           "#B6E880",
           "#FF97FF",
           "#FECB52"
          ],
          "font": {
           "color": "#2a3f5f"
          },
          "geo": {
           "bgcolor": "white",
           "lakecolor": "white",
           "landcolor": "#E5ECF6",
           "showlakes": true,
           "showland": true,
           "subunitcolor": "white"
          },
          "hoverlabel": {
           "align": "left"
          },
          "hovermode": "closest",
          "mapbox": {
           "style": "light"
          },
          "paper_bgcolor": "white",
          "plot_bgcolor": "#E5ECF6",
          "polar": {
           "angularaxis": {
            "gridcolor": "white",
            "linecolor": "white",
            "ticks": ""
           },
           "bgcolor": "#E5ECF6",
           "radialaxis": {
            "gridcolor": "white",
            "linecolor": "white",
            "ticks": ""
           }
          },
          "scene": {
           "xaxis": {
            "backgroundcolor": "#E5ECF6",
            "gridcolor": "white",
            "gridwidth": 2,
            "linecolor": "white",
            "showbackground": true,
            "ticks": "",
            "zerolinecolor": "white"
           },
           "yaxis": {
            "backgroundcolor": "#E5ECF6",
            "gridcolor": "white",
            "gridwidth": 2,
            "linecolor": "white",
            "showbackground": true,
            "ticks": "",
            "zerolinecolor": "white"
           },
           "zaxis": {
            "backgroundcolor": "#E5ECF6",
            "gridcolor": "white",
            "gridwidth": 2,
            "linecolor": "white",
            "showbackground": true,
            "ticks": "",
            "zerolinecolor": "white"
           }
          },
          "shapedefaults": {
           "line": {
            "color": "#2a3f5f"
           }
          },
          "ternary": {
           "aaxis": {
            "gridcolor": "white",
            "linecolor": "white",
            "ticks": ""
           },
           "baxis": {
            "gridcolor": "white",
            "linecolor": "white",
            "ticks": ""
           },
           "bgcolor": "#E5ECF6",
           "caxis": {
            "gridcolor": "white",
            "linecolor": "white",
            "ticks": ""
           }
          },
          "title": {
           "x": 0.05
          },
          "xaxis": {
           "automargin": true,
           "gridcolor": "white",
           "linecolor": "white",
           "ticks": "",
           "title": {
            "standoff": 15
           },
           "zerolinecolor": "white",
           "zerolinewidth": 2
          },
          "yaxis": {
           "automargin": true,
           "gridcolor": "white",
           "linecolor": "white",
           "ticks": "",
           "title": {
            "standoff": 15
           },
           "zerolinecolor": "white",
           "zerolinewidth": 2
          }
         }
        },
        "title": {
         "text": "Rozložení počtu slov jednotlivých pisatelů"
        },
        "width": 1200,
        "yaxis": {
         "title": {
          "text": "Poet slov"
         }
        }
       }
      }
     },
     "metadata": {}
    }
   ],
   "source": [
    "display_messages_length_whisker_plots(messages_without_reactions, writers, names, True)    "
   ]
  },
  {
   "cell_type": "code",
   "execution_count": 15,
   "metadata": {},
   "outputs": [
    {
     "output_type": "display_data",
     "data": {
      "application/vnd.plotly.v1+json": {
       "config": {
        "plotlyServerURL": "https://plot.ly"
       },
       "data": [
        {
         "domain": {
          "x": [
           0,
           0.2888888888888889
          ],
          "y": [
           0,
           1
          ]
         },
         "hoverinfo": "label+percent",
         "labels": [
          "Author_0",
          "Author_1",
          "Author_2",
          "Author_3"
         ],
         "marker": {
          "line": {
           "color": "black",
           "width": 2
          }
         },
         "name": "méně než 5 minut",
         "textfont": {
          "size": 15
         },
         "textinfo": "value",
         "type": "pie",
         "values": [
          182,
          184,
          170,
          99
         ]
        },
        {
         "domain": {
          "x": [
           0.35555555555555557,
           0.6444444444444445
          ],
          "y": [
           0,
           1
          ]
         },
         "hoverinfo": "label+percent",
         "labels": [
          "Author_0",
          "Author_1",
          "Author_2",
          "Author_3"
         ],
         "marker": {
          "line": {
           "color": "black",
           "width": 2
          }
         },
         "name": "méně jak 2 hodiny",
         "textfont": {
          "size": 15
         },
         "textinfo": "value",
         "type": "pie",
         "values": [
          255,
          292,
          263,
          141
         ]
        },
        {
         "domain": {
          "x": [
           0.7111111111111111,
           1
          ],
          "y": [
           0,
           1
          ]
         },
         "hoverinfo": "label+percent",
         "labels": [
          "Author_0",
          "Author_1",
          "Author_2",
          "Author_3"
         ],
         "marker": {
          "line": {
           "color": "black",
           "width": 2
          }
         },
         "name": "více jak 24 hodin",
         "textfont": {
          "size": 15
         },
         "textinfo": "value",
         "type": "pie",
         "values": [
          7,
          26,
          19,
          6
         ]
        }
       ],
       "layout": {
        "annotations": [
         {
          "font": {
           "size": 16
          },
          "showarrow": false,
          "text": "Do 5 minut",
          "x": 0.14444444444444446,
          "xanchor": "center",
          "xref": "paper",
          "y": 1,
          "yanchor": "bottom",
          "yref": "paper"
         },
         {
          "font": {
           "size": 16
          },
          "showarrow": false,
          "text": "Do 2 hodin",
          "x": 0.5,
          "xanchor": "center",
          "xref": "paper",
          "y": 1,
          "yanchor": "bottom",
          "yref": "paper"
         },
         {
          "font": {
           "size": 16
          },
          "showarrow": false,
          "text": "Starty konverzací",
          "x": 0.8555555555555556,
          "xanchor": "center",
          "xref": "paper",
          "y": 1,
          "yanchor": "bottom",
          "yref": "paper"
         }
        ],
        "template": {
         "data": {
          "bar": [
           {
            "error_x": {
             "color": "#2a3f5f"
            },
            "error_y": {
             "color": "#2a3f5f"
            },
            "marker": {
             "line": {
              "color": "#E5ECF6",
              "width": 0.5
             }
            },
            "type": "bar"
           }
          ],
          "barpolar": [
           {
            "marker": {
             "line": {
              "color": "#E5ECF6",
              "width": 0.5
             }
            },
            "type": "barpolar"
           }
          ],
          "carpet": [
           {
            "aaxis": {
             "endlinecolor": "#2a3f5f",
             "gridcolor": "white",
             "linecolor": "white",
             "minorgridcolor": "white",
             "startlinecolor": "#2a3f5f"
            },
            "baxis": {
             "endlinecolor": "#2a3f5f",
             "gridcolor": "white",
             "linecolor": "white",
             "minorgridcolor": "white",
             "startlinecolor": "#2a3f5f"
            },
            "type": "carpet"
           }
          ],
          "choropleth": [
           {
            "colorbar": {
             "outlinewidth": 0,
             "ticks": ""
            },
            "type": "choropleth"
           }
          ],
          "contour": [
           {
            "colorbar": {
             "outlinewidth": 0,
             "ticks": ""
            },
            "colorscale": [
             [
              0,
              "#0d0887"
             ],
             [
              0.1111111111111111,
              "#46039f"
             ],
             [
              0.2222222222222222,
              "#7201a8"
             ],
             [
              0.3333333333333333,
              "#9c179e"
             ],
             [
              0.4444444444444444,
              "#bd3786"
             ],
             [
              0.5555555555555556,
              "#d8576b"
             ],
             [
              0.6666666666666666,
              "#ed7953"
             ],
             [
              0.7777777777777778,
              "#fb9f3a"
             ],
             [
              0.8888888888888888,
              "#fdca26"
             ],
             [
              1,
              "#f0f921"
             ]
            ],
            "type": "contour"
           }
          ],
          "contourcarpet": [
           {
            "colorbar": {
             "outlinewidth": 0,
             "ticks": ""
            },
            "type": "contourcarpet"
           }
          ],
          "heatmap": [
           {
            "colorbar": {
             "outlinewidth": 0,
             "ticks": ""
            },
            "colorscale": [
             [
              0,
              "#0d0887"
             ],
             [
              0.1111111111111111,
              "#46039f"
             ],
             [
              0.2222222222222222,
              "#7201a8"
             ],
             [
              0.3333333333333333,
              "#9c179e"
             ],
             [
              0.4444444444444444,
              "#bd3786"
             ],
             [
              0.5555555555555556,
              "#d8576b"
             ],
             [
              0.6666666666666666,
              "#ed7953"
             ],
             [
              0.7777777777777778,
              "#fb9f3a"
             ],
             [
              0.8888888888888888,
              "#fdca26"
             ],
             [
              1,
              "#f0f921"
             ]
            ],
            "type": "heatmap"
           }
          ],
          "heatmapgl": [
           {
            "colorbar": {
             "outlinewidth": 0,
             "ticks": ""
            },
            "colorscale": [
             [
              0,
              "#0d0887"
             ],
             [
              0.1111111111111111,
              "#46039f"
             ],
             [
              0.2222222222222222,
              "#7201a8"
             ],
             [
              0.3333333333333333,
              "#9c179e"
             ],
             [
              0.4444444444444444,
              "#bd3786"
             ],
             [
              0.5555555555555556,
              "#d8576b"
             ],
             [
              0.6666666666666666,
              "#ed7953"
             ],
             [
              0.7777777777777778,
              "#fb9f3a"
             ],
             [
              0.8888888888888888,
              "#fdca26"
             ],
             [
              1,
              "#f0f921"
             ]
            ],
            "type": "heatmapgl"
           }
          ],
          "histogram": [
           {
            "marker": {
             "colorbar": {
              "outlinewidth": 0,
              "ticks": ""
             }
            },
            "type": "histogram"
           }
          ],
          "histogram2d": [
           {
            "colorbar": {
             "outlinewidth": 0,
             "ticks": ""
            },
            "colorscale": [
             [
              0,
              "#0d0887"
             ],
             [
              0.1111111111111111,
              "#46039f"
             ],
             [
              0.2222222222222222,
              "#7201a8"
             ],
             [
              0.3333333333333333,
              "#9c179e"
             ],
             [
              0.4444444444444444,
              "#bd3786"
             ],
             [
              0.5555555555555556,
              "#d8576b"
             ],
             [
              0.6666666666666666,
              "#ed7953"
             ],
             [
              0.7777777777777778,
              "#fb9f3a"
             ],
             [
              0.8888888888888888,
              "#fdca26"
             ],
             [
              1,
              "#f0f921"
             ]
            ],
            "type": "histogram2d"
           }
          ],
          "histogram2dcontour": [
           {
            "colorbar": {
             "outlinewidth": 0,
             "ticks": ""
            },
            "colorscale": [
             [
              0,
              "#0d0887"
             ],
             [
              0.1111111111111111,
              "#46039f"
             ],
             [
              0.2222222222222222,
              "#7201a8"
             ],
             [
              0.3333333333333333,
              "#9c179e"
             ],
             [
              0.4444444444444444,
              "#bd3786"
             ],
             [
              0.5555555555555556,
              "#d8576b"
             ],
             [
              0.6666666666666666,
              "#ed7953"
             ],
             [
              0.7777777777777778,
              "#fb9f3a"
             ],
             [
              0.8888888888888888,
              "#fdca26"
             ],
             [
              1,
              "#f0f921"
             ]
            ],
            "type": "histogram2dcontour"
           }
          ],
          "mesh3d": [
           {
            "colorbar": {
             "outlinewidth": 0,
             "ticks": ""
            },
            "type": "mesh3d"
           }
          ],
          "parcoords": [
           {
            "line": {
             "colorbar": {
              "outlinewidth": 0,
              "ticks": ""
             }
            },
            "type": "parcoords"
           }
          ],
          "pie": [
           {
            "automargin": true,
            "type": "pie"
           }
          ],
          "scatter": [
           {
            "marker": {
             "colorbar": {
              "outlinewidth": 0,
              "ticks": ""
             }
            },
            "type": "scatter"
           }
          ],
          "scatter3d": [
           {
            "line": {
             "colorbar": {
              "outlinewidth": 0,
              "ticks": ""
             }
            },
            "marker": {
             "colorbar": {
              "outlinewidth": 0,
              "ticks": ""
             }
            },
            "type": "scatter3d"
           }
          ],
          "scattercarpet": [
           {
            "marker": {
             "colorbar": {
              "outlinewidth": 0,
              "ticks": ""
             }
            },
            "type": "scattercarpet"
           }
          ],
          "scattergeo": [
           {
            "marker": {
             "colorbar": {
              "outlinewidth": 0,
              "ticks": ""
             }
            },
            "type": "scattergeo"
           }
          ],
          "scattergl": [
           {
            "marker": {
             "colorbar": {
              "outlinewidth": 0,
              "ticks": ""
             }
            },
            "type": "scattergl"
           }
          ],
          "scattermapbox": [
           {
            "marker": {
             "colorbar": {
              "outlinewidth": 0,
              "ticks": ""
             }
            },
            "type": "scattermapbox"
           }
          ],
          "scatterpolar": [
           {
            "marker": {
             "colorbar": {
              "outlinewidth": 0,
              "ticks": ""
             }
            },
            "type": "scatterpolar"
           }
          ],
          "scatterpolargl": [
           {
            "marker": {
             "colorbar": {
              "outlinewidth": 0,
              "ticks": ""
             }
            },
            "type": "scatterpolargl"
           }
          ],
          "scatterternary": [
           {
            "marker": {
             "colorbar": {
              "outlinewidth": 0,
              "ticks": ""
             }
            },
            "type": "scatterternary"
           }
          ],
          "surface": [
           {
            "colorbar": {
             "outlinewidth": 0,
             "ticks": ""
            },
            "colorscale": [
             [
              0,
              "#0d0887"
             ],
             [
              0.1111111111111111,
              "#46039f"
             ],
             [
              0.2222222222222222,
              "#7201a8"
             ],
             [
              0.3333333333333333,
              "#9c179e"
             ],
             [
              0.4444444444444444,
              "#bd3786"
             ],
             [
              0.5555555555555556,
              "#d8576b"
             ],
             [
              0.6666666666666666,
              "#ed7953"
             ],
             [
              0.7777777777777778,
              "#fb9f3a"
             ],
             [
              0.8888888888888888,
              "#fdca26"
             ],
             [
              1,
              "#f0f921"
             ]
            ],
            "type": "surface"
           }
          ],
          "table": [
           {
            "cells": {
             "fill": {
              "color": "#EBF0F8"
             },
             "line": {
              "color": "white"
             }
            },
            "header": {
             "fill": {
              "color": "#C8D4E3"
             },
             "line": {
              "color": "white"
             }
            },
            "type": "table"
           }
          ]
         },
         "layout": {
          "annotationdefaults": {
           "arrowcolor": "#2a3f5f",
           "arrowhead": 0,
           "arrowwidth": 1
          },
          "coloraxis": {
           "colorbar": {
            "outlinewidth": 0,
            "ticks": ""
           }
          },
          "colorscale": {
           "diverging": [
            [
             0,
             "#8e0152"
            ],
            [
             0.1,
             "#c51b7d"
            ],
            [
             0.2,
             "#de77ae"
            ],
            [
             0.3,
             "#f1b6da"
            ],
            [
             0.4,
             "#fde0ef"
            ],
            [
             0.5,
             "#f7f7f7"
            ],
            [
             0.6,
             "#e6f5d0"
            ],
            [
             0.7,
             "#b8e186"
            ],
            [
             0.8,
             "#7fbc41"
            ],
            [
             0.9,
             "#4d9221"
            ],
            [
             1,
             "#276419"
            ]
           ],
           "sequential": [
            [
             0,
             "#0d0887"
            ],
            [
             0.1111111111111111,
             "#46039f"
            ],
            [
             0.2222222222222222,
             "#7201a8"
            ],
            [
             0.3333333333333333,
             "#9c179e"
            ],
            [
             0.4444444444444444,
             "#bd3786"
            ],
            [
             0.5555555555555556,
             "#d8576b"
            ],
            [
             0.6666666666666666,
             "#ed7953"
            ],
            [
             0.7777777777777778,
             "#fb9f3a"
            ],
            [
             0.8888888888888888,
             "#fdca26"
            ],
            [
             1,
             "#f0f921"
            ]
           ],
           "sequentialminus": [
            [
             0,
             "#0d0887"
            ],
            [
             0.1111111111111111,
             "#46039f"
            ],
            [
             0.2222222222222222,
             "#7201a8"
            ],
            [
             0.3333333333333333,
             "#9c179e"
            ],
            [
             0.4444444444444444,
             "#bd3786"
            ],
            [
             0.5555555555555556,
             "#d8576b"
            ],
            [
             0.6666666666666666,
             "#ed7953"
            ],
            [
             0.7777777777777778,
             "#fb9f3a"
            ],
            [
             0.8888888888888888,
             "#fdca26"
            ],
            [
             1,
             "#f0f921"
            ]
           ]
          },
          "colorway": [
           "#636efa",
           "#EF553B",
           "#00cc96",
           "#ab63fa",
           "#FFA15A",
           "#19d3f3",
           "#FF6692",
           "#B6E880",
           "#FF97FF",
           "#FECB52"
          ],
          "font": {
           "color": "#2a3f5f"
          },
          "geo": {
           "bgcolor": "white",
           "lakecolor": "white",
           "landcolor": "#E5ECF6",
           "showlakes": true,
           "showland": true,
           "subunitcolor": "white"
          },
          "hoverlabel": {
           "align": "left"
          },
          "hovermode": "closest",
          "mapbox": {
           "style": "light"
          },
          "paper_bgcolor": "white",
          "plot_bgcolor": "#E5ECF6",
          "polar": {
           "angularaxis": {
            "gridcolor": "white",
            "linecolor": "white",
            "ticks": ""
           },
           "bgcolor": "#E5ECF6",
           "radialaxis": {
            "gridcolor": "white",
            "linecolor": "white",
            "ticks": ""
           }
          },
          "scene": {
           "xaxis": {
            "backgroundcolor": "#E5ECF6",
            "gridcolor": "white",
            "gridwidth": 2,
            "linecolor": "white",
            "showbackground": true,
            "ticks": "",
            "zerolinecolor": "white"
           },
           "yaxis": {
            "backgroundcolor": "#E5ECF6",
            "gridcolor": "white",
            "gridwidth": 2,
            "linecolor": "white",
            "showbackground": true,
            "ticks": "",
            "zerolinecolor": "white"
           },
           "zaxis": {
            "backgroundcolor": "#E5ECF6",
            "gridcolor": "white",
            "gridwidth": 2,
            "linecolor": "white",
            "showbackground": true,
            "ticks": "",
            "zerolinecolor": "white"
           }
          },
          "shapedefaults": {
           "line": {
            "color": "#2a3f5f"
           }
          },
          "ternary": {
           "aaxis": {
            "gridcolor": "white",
            "linecolor": "white",
            "ticks": ""
           },
           "baxis": {
            "gridcolor": "white",
            "linecolor": "white",
            "ticks": ""
           },
           "bgcolor": "#E5ECF6",
           "caxis": {
            "gridcolor": "white",
            "linecolor": "white",
            "ticks": ""
           }
          },
          "title": {
           "x": 0.05
          },
          "xaxis": {
           "automargin": true,
           "gridcolor": "white",
           "linecolor": "white",
           "ticks": "",
           "title": {
            "standoff": 15
           },
           "zerolinecolor": "white",
           "zerolinewidth": 2
          },
          "yaxis": {
           "automargin": true,
           "gridcolor": "white",
           "linecolor": "white",
           "ticks": "",
           "title": {
            "standoff": 15
           },
           "zerolinecolor": "white",
           "zerolinewidth": 2
          }
         }
        },
        "title": {
         "text": "Rychlosti odpovědí"
        },
        "width": 1200
       }
      }
     },
     "metadata": {}
    }
   ],
   "source": [
    "display_conversations_pies(writers, names, times, messages_without_reactions, True)"
   ]
  },
  {
   "cell_type": "code",
   "execution_count": 16,
   "metadata": {},
   "outputs": [
    {
     "output_type": "display_data",
     "data": {
      "application/vnd.plotly.v1+json": {
       "config": {
        "plotlyServerURL": "https://plot.ly"
       },
       "data": [
        {
         "histfunc": "count",
         "name": "Author_0",
         "opacity": 0.5,
         "type": "histogram",
         "x": [
          149,
          2,
          4,
          3,
          0,
          3,
          0,
          2,
          1131,
          1,
          0,
          0,
          0,
          1,
          0,
          5,
          0,
          1,
          0,
          0,
          1,
          2,
          82,
          31,
          36,
          28,
          138,
          1,
          18,
          8,
          102,
          156,
          85,
          4,
          43,
          0,
          8,
          66,
          201,
          2,
          1,
          1,
          3,
          19,
          78,
          1,
          2,
          14,
          29,
          28,
          1,
          0,
          2,
          0,
          0,
          0,
          35,
          1,
          2,
          1,
          0,
          0,
          78,
          0,
          0,
          0,
          0,
          111,
          0,
          1,
          0,
          1,
          2,
          1,
          5,
          2,
          82,
          29,
          0,
          0,
          0,
          2,
          2,
          20,
          5,
          0,
          205,
          1,
          106,
          26,
          35,
          0,
          3,
          26,
          69,
          0,
          133,
          4,
          1,
          3,
          148,
          11733,
          24,
          2,
          3,
          0,
          1,
          4,
          6,
          0,
          0,
          159,
          14061,
          57,
          2,
          0,
          0,
          22,
          1,
          351,
          0,
          2,
          3,
          1,
          53,
          6,
          22,
          1712,
          195,
          10,
          1,
          3784,
          22,
          1,
          1,
          2,
          5,
          113,
          70,
          4,
          1,
          32,
          3,
          0,
          0,
          0,
          0,
          0,
          11,
          0,
          1,
          24,
          342,
          0,
          1,
          0,
          0,
          0,
          0,
          1,
          1,
          1,
          1,
          0,
          0,
          0,
          1,
          1,
          2,
          2,
          5,
          1,
          0,
          1,
          2,
          1,
          0,
          1,
          544,
          3,
          179,
          13,
          1,
          1,
          32,
          1,
          905,
          0,
          0,
          0,
          0,
          0,
          0,
          1,
          6,
          0,
          1,
          91,
          1,
          3,
          0,
          0,
          1,
          0,
          0,
          0,
          18,
          32,
          0,
          1,
          119,
          279,
          1,
          2,
          1137,
          56,
          13,
          0,
          0,
          0,
          3,
          2,
          4,
          7,
          349,
          1,
          13,
          6,
          2,
          215,
          57,
          18,
          70,
          30,
          0,
          11,
          1,
          1,
          6091,
          8366,
          1,
          6,
          0,
          89,
          2853,
          0,
          1,
          32,
          4,
          1,
          0,
          0,
          0,
          0,
          0,
          1,
          0,
          0,
          0,
          11,
          2,
          17,
          85,
          0,
          0,
          1,
          0,
          1,
          1,
          0,
          70,
          1,
          1,
          0,
          8,
          10,
          0,
          8,
          0,
          2,
          162,
          0
         ],
         "xbins": {
          "end": 30,
          "size": 1,
          "start": 0
         }
        },
        {
         "histfunc": "count",
         "name": "Author_1",
         "opacity": 0.5,
         "type": "histogram",
         "x": [
          0,
          0,
          549,
          14,
          73373,
          4,
          35,
          77361,
          0,
          0,
          0,
          1,
          1,
          11,
          20,
          28,
          0,
          1,
          1582,
          1,
          1,
          0,
          0,
          3,
          0,
          0,
          0,
          0,
          0,
          1,
          1,
          37,
          278,
          15,
          0,
          34,
          0,
          1,
          5,
          17,
          488,
          8,
          0,
          1,
          1,
          28,
          2,
          37,
          54,
          79,
          69,
          7,
          71,
          206,
          1789,
          1,
          171,
          202,
          38,
          0,
          61,
          16,
          15,
          21,
          10,
          488,
          0,
          10,
          17,
          0,
          1,
          22,
          5,
          29,
          9,
          34,
          485,
          166,
          8,
          33,
          5,
          8,
          0,
          66,
          56,
          1,
          921,
          1,
          36,
          20,
          1,
          40,
          10,
          16,
          33,
          18,
          6,
          0,
          0,
          13,
          707,
          11,
          0,
          42,
          1281,
          7,
          22,
          34,
          6,
          4,
          0,
          1,
          0,
          1,
          81,
          13,
          6,
          31,
          0,
          1,
          9283,
          7752,
          0,
          6,
          112,
          5,
          2,
          0,
          1,
          120,
          280,
          1,
          1,
          31,
          12,
          389,
          0,
          4,
          2,
          3846,
          0,
          1,
          6,
          4,
          114,
          30,
          1,
          0,
          289,
          0,
          751,
          4,
          2,
          2,
          10,
          432,
          1,
          13,
          80,
          0,
          0,
          148,
          37,
          5,
          3,
          0,
          1,
          78,
          2,
          0,
          1,
          0,
          1,
          0,
          1,
          1,
          1,
          1,
          0,
          1,
          0,
          1,
          0,
          1,
          0,
          1,
          0,
          37,
          1,
          1,
          0,
          41,
          0,
          0,
          13,
          11,
          103,
          1,
          0,
          26,
          0,
          1,
          0,
          0,
          0,
          0,
          1,
          0,
          0,
          4,
          0,
          16,
          0,
          37,
          1,
          24,
          1,
          4286,
          53,
          15,
          74,
          26,
          241,
          483,
          1,
          299,
          183,
          1,
          1,
          3,
          0,
          1,
          0,
          1,
          0,
          1,
          2,
          2,
          13,
          0,
          3,
          0,
          1,
          1,
          1404,
          1,
          42,
          0,
          9,
          5,
          18,
          3,
          2,
          3866,
          1,
          280,
          3685,
          4,
          1,
          561,
          60,
          1,
          2,
          8,
          1,
          9,
          19,
          1,
          5,
          17,
          56,
          1,
          0,
          6,
          78,
          8,
          2,
          1,
          1,
          1,
          1,
          1,
          1,
          2,
          0,
          39,
          0,
          1,
          0,
          1,
          0,
          0,
          0,
          19,
          7,
          1,
          17,
          1,
          1,
          4197,
          1,
          1,
          0,
          45,
          8,
          0,
          0,
          0,
          0,
          41,
          1,
          0,
          2,
          3015,
          0,
          2,
          0,
          1,
          2,
          0,
          0,
          42,
          1,
          1645,
          1416,
          23,
          4,
          1451,
          1,
          0,
          1,
          38,
          4
         ],
         "xbins": {
          "end": 30,
          "size": 1,
          "start": 0
         }
        },
        {
         "histfunc": "count",
         "name": "Author_2",
         "opacity": 0.5,
         "type": "histogram",
         "x": [
          2,
          56,
          38,
          82,
          69,
          59,
          6,
          19,
          41,
          0,
          19,
          85379,
          1,
          8,
          1,
          1,
          1,
          1,
          9,
          3,
          432,
          32,
          1,
          741,
          0,
          24,
          1,
          2,
          5,
          5,
          29,
          5,
          805,
          4,
          8,
          480,
          1,
          1,
          0,
          0,
          8,
          3,
          0,
          0,
          25,
          0,
          1,
          9,
          0,
          0,
          0,
          0,
          0,
          1,
          0,
          0,
          0,
          0,
          6,
          0,
          398,
          6,
          1,
          1,
          2,
          1,
          0,
          2,
          1,
          27,
          1,
          0,
          0,
          1,
          84,
          93,
          199,
          8,
          1787,
          1,
          6,
          1,
          0,
          4,
          1,
          50,
          0,
          12,
          2,
          45,
          1,
          0,
          3,
          17,
          8028,
          3,
          1,
          0,
          58,
          1,
          3,
          5,
          9219,
          16,
          19,
          0,
          1423,
          0,
          2,
          1,
          22,
          5,
          1,
          0,
          2,
          25,
          6,
          49139,
          3,
          0,
          1,
          572,
          67,
          31,
          3859,
          3925,
          3,
          1,
          6,
          63,
          6,
          3,
          186,
          24,
          4,
          0,
          1556,
          1,
          21,
          4,
          545,
          31,
          11678,
          63,
          22,
          0,
          4,
          1,
          1,
          1,
          22,
          1075,
          7,
          1,
          8,
          164,
          94,
          2,
          899,
          1,
          1,
          1,
          0,
          4,
          0,
          0,
          8,
          1150,
          3,
          34,
          1,
          0,
          0,
          0,
          1,
          4,
          2,
          1,
          745,
          0,
          0,
          0,
          407,
          348,
          657,
          2,
          139,
          1,
          21,
          2,
          8,
          350,
          12,
          0,
          3,
          50,
          789,
          250,
          0,
          1,
          1,
          1,
          56,
          248,
          1,
          6,
          12,
          3,
          1,
          0,
          4,
          0,
          122,
          45,
          2,
          68,
          14,
          0,
          6,
          910,
          59,
          257,
          0,
          1,
          0,
          0,
          1,
          0,
          0,
          5,
          27,
          6,
          2,
          56,
          1,
          1,
          2626,
          6,
          15,
          1,
          0,
          13,
          0,
          137,
          2,
          32,
          35,
          69,
          34,
          63,
          1934,
          1,
          183,
          3588,
          8,
          19,
          2,
          6,
          5,
          575,
          0,
          1,
          0,
          1,
          1607,
          1,
          0,
          0,
          0,
          1,
          7881,
          1,
          0,
          6891,
          10373,
          0,
          1,
          1,
          2,
          76,
          3196,
          10,
          35,
          4195,
          2,
          1116,
          39,
          10,
          1,
          0,
          1,
          1,
          5,
          189,
          0,
          2,
          0,
          2,
          1,
          2,
          4,
          0,
          921,
          39,
          170,
          9,
          6,
          1,
          1,
          1,
          0,
          0,
          0,
          0
         ],
         "xbins": {
          "end": 30,
          "size": 1,
          "start": 0
         }
        },
        {
         "histfunc": "count",
         "name": "Author_3",
         "opacity": 0.5,
         "type": "histogram",
         "x": [
          10,
          0,
          0,
          0,
          0,
          0,
          1,
          722,
          39,
          1,
          222,
          18,
          22,
          5,
          11,
          0,
          0,
          2957,
          14631,
          274,
          0,
          3,
          79,
          0,
          3,
          782,
          13,
          12,
          1708,
          0,
          1,
          344,
          669,
          2,
          4,
          0,
          1,
          1,
          2,
          5,
          22,
          46,
          0,
          0,
          0,
          0,
          1,
          110,
          2,
          1306,
          0,
          2701,
          1,
          2,
          1392,
          0,
          0,
          5,
          67,
          7,
          0,
          3,
          0,
          1,
          5,
          0,
          8,
          5,
          0,
          13,
          230,
          55,
          1,
          27,
          49,
          37875,
          53,
          1,
          46,
          1,
          71,
          1,
          4,
          170,
          229,
          21,
          0,
          211,
          9,
          39,
          0,
          1,
          80,
          1,
          1,
          6,
          4,
          0,
          5,
          2660,
          0,
          1,
          0,
          0,
          0,
          0,
          0,
          33,
          400,
          24,
          138,
          57,
          435,
          8442,
          46,
          0,
          3,
          0,
          2,
          0,
          0,
          0,
          0,
          1,
          1,
          0,
          0,
          0,
          17,
          1,
          0,
          0,
          1,
          4,
          26,
          5,
          44,
          446,
          1570,
          2,
          1,
          1256,
          0,
          3,
          0,
          1,
          0,
          0,
          1,
          0,
          1,
          0,
          0,
          0,
          0,
          63,
          12,
          0,
          0,
          1,
          0,
          0,
          0,
          1,
          0,
          2
         ],
         "xbins": {
          "end": 30,
          "size": 1,
          "start": 0
         }
        }
       ],
       "layout": {
        "barmode": "overlay",
        "template": {
         "data": {
          "bar": [
           {
            "error_x": {
             "color": "#2a3f5f"
            },
            "error_y": {
             "color": "#2a3f5f"
            },
            "marker": {
             "line": {
              "color": "#E5ECF6",
              "width": 0.5
             }
            },
            "type": "bar"
           }
          ],
          "barpolar": [
           {
            "marker": {
             "line": {
              "color": "#E5ECF6",
              "width": 0.5
             }
            },
            "type": "barpolar"
           }
          ],
          "carpet": [
           {
            "aaxis": {
             "endlinecolor": "#2a3f5f",
             "gridcolor": "white",
             "linecolor": "white",
             "minorgridcolor": "white",
             "startlinecolor": "#2a3f5f"
            },
            "baxis": {
             "endlinecolor": "#2a3f5f",
             "gridcolor": "white",
             "linecolor": "white",
             "minorgridcolor": "white",
             "startlinecolor": "#2a3f5f"
            },
            "type": "carpet"
           }
          ],
          "choropleth": [
           {
            "colorbar": {
             "outlinewidth": 0,
             "ticks": ""
            },
            "type": "choropleth"
           }
          ],
          "contour": [
           {
            "colorbar": {
             "outlinewidth": 0,
             "ticks": ""
            },
            "colorscale": [
             [
              0,
              "#0d0887"
             ],
             [
              0.1111111111111111,
              "#46039f"
             ],
             [
              0.2222222222222222,
              "#7201a8"
             ],
             [
              0.3333333333333333,
              "#9c179e"
             ],
             [
              0.4444444444444444,
              "#bd3786"
             ],
             [
              0.5555555555555556,
              "#d8576b"
             ],
             [
              0.6666666666666666,
              "#ed7953"
             ],
             [
              0.7777777777777778,
              "#fb9f3a"
             ],
             [
              0.8888888888888888,
              "#fdca26"
             ],
             [
              1,
              "#f0f921"
             ]
            ],
            "type": "contour"
           }
          ],
          "contourcarpet": [
           {
            "colorbar": {
             "outlinewidth": 0,
             "ticks": ""
            },
            "type": "contourcarpet"
           }
          ],
          "heatmap": [
           {
            "colorbar": {
             "outlinewidth": 0,
             "ticks": ""
            },
            "colorscale": [
             [
              0,
              "#0d0887"
             ],
             [
              0.1111111111111111,
              "#46039f"
             ],
             [
              0.2222222222222222,
              "#7201a8"
             ],
             [
              0.3333333333333333,
              "#9c179e"
             ],
             [
              0.4444444444444444,
              "#bd3786"
             ],
             [
              0.5555555555555556,
              "#d8576b"
             ],
             [
              0.6666666666666666,
              "#ed7953"
             ],
             [
              0.7777777777777778,
              "#fb9f3a"
             ],
             [
              0.8888888888888888,
              "#fdca26"
             ],
             [
              1,
              "#f0f921"
             ]
            ],
            "type": "heatmap"
           }
          ],
          "heatmapgl": [
           {
            "colorbar": {
             "outlinewidth": 0,
             "ticks": ""
            },
            "colorscale": [
             [
              0,
              "#0d0887"
             ],
             [
              0.1111111111111111,
              "#46039f"
             ],
             [
              0.2222222222222222,
              "#7201a8"
             ],
             [
              0.3333333333333333,
              "#9c179e"
             ],
             [
              0.4444444444444444,
              "#bd3786"
             ],
             [
              0.5555555555555556,
              "#d8576b"
             ],
             [
              0.6666666666666666,
              "#ed7953"
             ],
             [
              0.7777777777777778,
              "#fb9f3a"
             ],
             [
              0.8888888888888888,
              "#fdca26"
             ],
             [
              1,
              "#f0f921"
             ]
            ],
            "type": "heatmapgl"
           }
          ],
          "histogram": [
           {
            "marker": {
             "colorbar": {
              "outlinewidth": 0,
              "ticks": ""
             }
            },
            "type": "histogram"
           }
          ],
          "histogram2d": [
           {
            "colorbar": {
             "outlinewidth": 0,
             "ticks": ""
            },
            "colorscale": [
             [
              0,
              "#0d0887"
             ],
             [
              0.1111111111111111,
              "#46039f"
             ],
             [
              0.2222222222222222,
              "#7201a8"
             ],
             [
              0.3333333333333333,
              "#9c179e"
             ],
             [
              0.4444444444444444,
              "#bd3786"
             ],
             [
              0.5555555555555556,
              "#d8576b"
             ],
             [
              0.6666666666666666,
              "#ed7953"
             ],
             [
              0.7777777777777778,
              "#fb9f3a"
             ],
             [
              0.8888888888888888,
              "#fdca26"
             ],
             [
              1,
              "#f0f921"
             ]
            ],
            "type": "histogram2d"
           }
          ],
          "histogram2dcontour": [
           {
            "colorbar": {
             "outlinewidth": 0,
             "ticks": ""
            },
            "colorscale": [
             [
              0,
              "#0d0887"
             ],
             [
              0.1111111111111111,
              "#46039f"
             ],
             [
              0.2222222222222222,
              "#7201a8"
             ],
             [
              0.3333333333333333,
              "#9c179e"
             ],
             [
              0.4444444444444444,
              "#bd3786"
             ],
             [
              0.5555555555555556,
              "#d8576b"
             ],
             [
              0.6666666666666666,
              "#ed7953"
             ],
             [
              0.7777777777777778,
              "#fb9f3a"
             ],
             [
              0.8888888888888888,
              "#fdca26"
             ],
             [
              1,
              "#f0f921"
             ]
            ],
            "type": "histogram2dcontour"
           }
          ],
          "mesh3d": [
           {
            "colorbar": {
             "outlinewidth": 0,
             "ticks": ""
            },
            "type": "mesh3d"
           }
          ],
          "parcoords": [
           {
            "line": {
             "colorbar": {
              "outlinewidth": 0,
              "ticks": ""
             }
            },
            "type": "parcoords"
           }
          ],
          "pie": [
           {
            "automargin": true,
            "type": "pie"
           }
          ],
          "scatter": [
           {
            "marker": {
             "colorbar": {
              "outlinewidth": 0,
              "ticks": ""
             }
            },
            "type": "scatter"
           }
          ],
          "scatter3d": [
           {
            "line": {
             "colorbar": {
              "outlinewidth": 0,
              "ticks": ""
             }
            },
            "marker": {
             "colorbar": {
              "outlinewidth": 0,
              "ticks": ""
             }
            },
            "type": "scatter3d"
           }
          ],
          "scattercarpet": [
           {
            "marker": {
             "colorbar": {
              "outlinewidth": 0,
              "ticks": ""
             }
            },
            "type": "scattercarpet"
           }
          ],
          "scattergeo": [
           {
            "marker": {
             "colorbar": {
              "outlinewidth": 0,
              "ticks": ""
             }
            },
            "type": "scattergeo"
           }
          ],
          "scattergl": [
           {
            "marker": {
             "colorbar": {
              "outlinewidth": 0,
              "ticks": ""
             }
            },
            "type": "scattergl"
           }
          ],
          "scattermapbox": [
           {
            "marker": {
             "colorbar": {
              "outlinewidth": 0,
              "ticks": ""
             }
            },
            "type": "scattermapbox"
           }
          ],
          "scatterpolar": [
           {
            "marker": {
             "colorbar": {
              "outlinewidth": 0,
              "ticks": ""
             }
            },
            "type": "scatterpolar"
           }
          ],
          "scatterpolargl": [
           {
            "marker": {
             "colorbar": {
              "outlinewidth": 0,
              "ticks": ""
             }
            },
            "type": "scatterpolargl"
           }
          ],
          "scatterternary": [
           {
            "marker": {
             "colorbar": {
              "outlinewidth": 0,
              "ticks": ""
             }
            },
            "type": "scatterternary"
           }
          ],
          "surface": [
           {
            "colorbar": {
             "outlinewidth": 0,
             "ticks": ""
            },
            "colorscale": [
             [
              0,
              "#0d0887"
             ],
             [
              0.1111111111111111,
              "#46039f"
             ],
             [
              0.2222222222222222,
              "#7201a8"
             ],
             [
              0.3333333333333333,
              "#9c179e"
             ],
             [
              0.4444444444444444,
              "#bd3786"
             ],
             [
              0.5555555555555556,
              "#d8576b"
             ],
             [
              0.6666666666666666,
              "#ed7953"
             ],
             [
              0.7777777777777778,
              "#fb9f3a"
             ],
             [
              0.8888888888888888,
              "#fdca26"
             ],
             [
              1,
              "#f0f921"
             ]
            ],
            "type": "surface"
           }
          ],
          "table": [
           {
            "cells": {
             "fill": {
              "color": "#EBF0F8"
             },
             "line": {
              "color": "white"
             }
            },
            "header": {
             "fill": {
              "color": "#C8D4E3"
             },
             "line": {
              "color": "white"
             }
            },
            "type": "table"
           }
          ]
         },
         "layout": {
          "annotationdefaults": {
           "arrowcolor": "#2a3f5f",
           "arrowhead": 0,
           "arrowwidth": 1
          },
          "coloraxis": {
           "colorbar": {
            "outlinewidth": 0,
            "ticks": ""
           }
          },
          "colorscale": {
           "diverging": [
            [
             0,
             "#8e0152"
            ],
            [
             0.1,
             "#c51b7d"
            ],
            [
             0.2,
             "#de77ae"
            ],
            [
             0.3,
             "#f1b6da"
            ],
            [
             0.4,
             "#fde0ef"
            ],
            [
             0.5,
             "#f7f7f7"
            ],
            [
             0.6,
             "#e6f5d0"
            ],
            [
             0.7,
             "#b8e186"
            ],
            [
             0.8,
             "#7fbc41"
            ],
            [
             0.9,
             "#4d9221"
            ],
            [
             1,
             "#276419"
            ]
           ],
           "sequential": [
            [
             0,
             "#0d0887"
            ],
            [
             0.1111111111111111,
             "#46039f"
            ],
            [
             0.2222222222222222,
             "#7201a8"
            ],
            [
             0.3333333333333333,
             "#9c179e"
            ],
            [
             0.4444444444444444,
             "#bd3786"
            ],
            [
             0.5555555555555556,
             "#d8576b"
            ],
            [
             0.6666666666666666,
             "#ed7953"
            ],
            [
             0.7777777777777778,
             "#fb9f3a"
            ],
            [
             0.8888888888888888,
             "#fdca26"
            ],
            [
             1,
             "#f0f921"
            ]
           ],
           "sequentialminus": [
            [
             0,
             "#0d0887"
            ],
            [
             0.1111111111111111,
             "#46039f"
            ],
            [
             0.2222222222222222,
             "#7201a8"
            ],
            [
             0.3333333333333333,
             "#9c179e"
            ],
            [
             0.4444444444444444,
             "#bd3786"
            ],
            [
             0.5555555555555556,
             "#d8576b"
            ],
            [
             0.6666666666666666,
             "#ed7953"
            ],
            [
             0.7777777777777778,
             "#fb9f3a"
            ],
            [
             0.8888888888888888,
             "#fdca26"
            ],
            [
             1,
             "#f0f921"
            ]
           ]
          },
          "colorway": [
           "#636efa",
           "#EF553B",
           "#00cc96",
           "#ab63fa",
           "#FFA15A",
           "#19d3f3",
           "#FF6692",
           "#B6E880",
           "#FF97FF",
           "#FECB52"
          ],
          "font": {
           "color": "#2a3f5f"
          },
          "geo": {
           "bgcolor": "white",
           "lakecolor": "white",
           "landcolor": "#E5ECF6",
           "showlakes": true,
           "showland": true,
           "subunitcolor": "white"
          },
          "hoverlabel": {
           "align": "left"
          },
          "hovermode": "closest",
          "mapbox": {
           "style": "light"
          },
          "paper_bgcolor": "white",
          "plot_bgcolor": "#E5ECF6",
          "polar": {
           "angularaxis": {
            "gridcolor": "white",
            "linecolor": "white",
            "ticks": ""
           },
           "bgcolor": "#E5ECF6",
           "radialaxis": {
            "gridcolor": "white",
            "linecolor": "white",
            "ticks": ""
           }
          },
          "scene": {
           "xaxis": {
            "backgroundcolor": "#E5ECF6",
            "gridcolor": "white",
            "gridwidth": 2,
            "linecolor": "white",
            "showbackground": true,
            "ticks": "",
            "zerolinecolor": "white"
           },
           "yaxis": {
            "backgroundcolor": "#E5ECF6",
            "gridcolor": "white",
            "gridwidth": 2,
            "linecolor": "white",
            "showbackground": true,
            "ticks": "",
            "zerolinecolor": "white"
           },
           "zaxis": {
            "backgroundcolor": "#E5ECF6",
            "gridcolor": "white",
            "gridwidth": 2,
            "linecolor": "white",
            "showbackground": true,
            "ticks": "",
            "zerolinecolor": "white"
           }
          },
          "shapedefaults": {
           "line": {
            "color": "#2a3f5f"
           }
          },
          "ternary": {
           "aaxis": {
            "gridcolor": "white",
            "linecolor": "white",
            "ticks": ""
           },
           "baxis": {
            "gridcolor": "white",
            "linecolor": "white",
            "ticks": ""
           },
           "bgcolor": "#E5ECF6",
           "caxis": {
            "gridcolor": "white",
            "linecolor": "white",
            "ticks": ""
           }
          },
          "title": {
           "x": 0.05
          },
          "xaxis": {
           "automargin": true,
           "gridcolor": "white",
           "linecolor": "white",
           "ticks": "",
           "title": {
            "standoff": 15
           },
           "zerolinecolor": "white",
           "zerolinewidth": 2
          },
          "yaxis": {
           "automargin": true,
           "gridcolor": "white",
           "linecolor": "white",
           "ticks": "",
           "title": {
            "standoff": 15
           },
           "zerolinecolor": "white",
           "zerolinewidth": 2
          }
         }
        },
        "title": {
         "text": "Jak rychle odpovídám? (0 až 30 min)"
        },
        "width": 1200,
        "xaxis": {
         "title": {
          "text": "Doba odpovědi (min)"
         }
        },
        "yaxis": {
         "title": {
          "text": "Počet odpovědí"
         }
        }
       }
      }
     },
     "metadata": {}
    }
   ],
   "source": [
    "display_answer_time_histogram(writers, names, times, True)"
   ]
  },
  {
   "cell_type": "code",
   "execution_count": 17,
   "metadata": {},
   "outputs": [
    {
     "output_type": "display_data",
     "data": {
      "application/vnd.plotly.v1+json": {
       "config": {
        "plotlyServerURL": "https://plot.ly"
       },
       "data": [
        {
         "histfunc": "sum",
         "name": "Author_0",
         "type": "histogram",
         "x": [
          "😀",
          "😮",
          "💡",
          "🥩",
          "🍗",
          "😢",
          "🤠",
          "😔",
          "🙃",
          "🍁",
          "😍",
          "🌷",
          "😂",
          "🥛",
          "☕",
          "🤛",
          "🏻",
          "🤬",
          "🤜",
          "🤏",
          "🍛",
          "❌",
          "🍝",
          "🏒",
          "👨",
          "🔧",
          "⬅",
          "😶",
          "😕",
          "😯",
          "💣",
          "😊",
          "💪",
          "🤓",
          "😅",
          "🤷",
          "😄",
          "❤",
          "♥",
          "😞",
          "🕺",
          "👗",
          "🐸"
         ],
         "y": [
          32,
          1,
          2,
          1,
          1,
          2,
          9,
          1,
          5,
          1,
          4,
          1,
          7,
          1,
          1,
          43,
          95,
          1,
          40,
          1,
          1,
          3,
          1,
          1,
          1,
          1,
          1,
          1,
          1,
          1,
          11,
          5,
          8,
          2,
          3,
          1,
          1,
          10,
          1,
          1,
          1,
          1,
          1
         ]
        },
        {
         "histfunc": "sum",
         "name": "Author_1",
         "type": "histogram",
         "x": [
          "😂",
          "😀",
          "😊",
          "👍",
          "☺",
          "🤔",
          "😒",
          "🛩",
          "🤗",
          "💣",
          "😌",
          "😐",
          "😍",
          "😅",
          "😥",
          "😁",
          "🤓",
          "🍕",
          "❤",
          "😑",
          "🎾",
          "🕵",
          "🤩",
          "😎",
          "🤥",
          "💪"
         ],
         "y": [
          12,
          140,
          3,
          5,
          2,
          1,
          1,
          1,
          1,
          6,
          1,
          1,
          2,
          10,
          1,
          4,
          1,
          1,
          6,
          2,
          1,
          1,
          1,
          2,
          1,
          1
         ]
        },
        {
         "histfunc": "sum",
         "name": "Author_2",
         "type": "histogram",
         "x": [
          "😀",
          "😊",
          "😂",
          "🤠",
          "👌",
          "😍",
          "🤔",
          "🤏",
          "👑",
          "✅",
          "⁉",
          "⏹",
          "🤰",
          "🧙",
          "😋",
          "💣",
          "😆",
          "🤓",
          "🤛",
          "🤜",
          "👂",
          "🦻",
          "🍀",
          "🐸",
          "🙃",
          "😉",
          "👶",
          "🙏",
          "❤",
          "😅",
          "👁",
          "👄"
         ],
         "y": [
          28,
          6,
          5,
          9,
          1,
          2,
          2,
          1,
          1,
          1,
          1,
          1,
          2,
          1,
          2,
          9,
          2,
          4,
          4,
          3,
          2,
          1,
          3,
          3,
          1,
          1,
          3,
          2,
          1,
          1,
          2,
          1
         ]
        },
        {
         "histfunc": "sum",
         "name": "Author_3",
         "type": "histogram",
         "x": [
          "😅",
          "👌",
          "😍",
          "🤰",
          "😉",
          "🙃",
          "😢",
          "🦍",
          "♥",
          "🧖",
          "🙍",
          "🏻",
          "😂",
          "💡",
          "🤠",
          "🇲",
          "🇽",
          "📊",
          "👨",
          "🔬",
          "🥴",
          "😄",
          "😔",
          "😕",
          "😇",
          "😋",
          "😆",
          "💪",
          "😊",
          "😀",
          "💻",
          "🐖",
          "❤",
          "🤓"
         ],
         "y": [
          1,
          4,
          8,
          2,
          3,
          7,
          1,
          3,
          1,
          1,
          1,
          3,
          3,
          1,
          1,
          1,
          1,
          1,
          3,
          1,
          3,
          2,
          1,
          1,
          1,
          1,
          3,
          2,
          2,
          5,
          2,
          1,
          1,
          1
         ]
        }
       ],
       "layout": {
        "template": {
         "data": {
          "bar": [
           {
            "error_x": {
             "color": "#2a3f5f"
            },
            "error_y": {
             "color": "#2a3f5f"
            },
            "marker": {
             "line": {
              "color": "#E5ECF6",
              "width": 0.5
             }
            },
            "type": "bar"
           }
          ],
          "barpolar": [
           {
            "marker": {
             "line": {
              "color": "#E5ECF6",
              "width": 0.5
             }
            },
            "type": "barpolar"
           }
          ],
          "carpet": [
           {
            "aaxis": {
             "endlinecolor": "#2a3f5f",
             "gridcolor": "white",
             "linecolor": "white",
             "minorgridcolor": "white",
             "startlinecolor": "#2a3f5f"
            },
            "baxis": {
             "endlinecolor": "#2a3f5f",
             "gridcolor": "white",
             "linecolor": "white",
             "minorgridcolor": "white",
             "startlinecolor": "#2a3f5f"
            },
            "type": "carpet"
           }
          ],
          "choropleth": [
           {
            "colorbar": {
             "outlinewidth": 0,
             "ticks": ""
            },
            "type": "choropleth"
           }
          ],
          "contour": [
           {
            "colorbar": {
             "outlinewidth": 0,
             "ticks": ""
            },
            "colorscale": [
             [
              0,
              "#0d0887"
             ],
             [
              0.1111111111111111,
              "#46039f"
             ],
             [
              0.2222222222222222,
              "#7201a8"
             ],
             [
              0.3333333333333333,
              "#9c179e"
             ],
             [
              0.4444444444444444,
              "#bd3786"
             ],
             [
              0.5555555555555556,
              "#d8576b"
             ],
             [
              0.6666666666666666,
              "#ed7953"
             ],
             [
              0.7777777777777778,
              "#fb9f3a"
             ],
             [
              0.8888888888888888,
              "#fdca26"
             ],
             [
              1,
              "#f0f921"
             ]
            ],
            "type": "contour"
           }
          ],
          "contourcarpet": [
           {
            "colorbar": {
             "outlinewidth": 0,
             "ticks": ""
            },
            "type": "contourcarpet"
           }
          ],
          "heatmap": [
           {
            "colorbar": {
             "outlinewidth": 0,
             "ticks": ""
            },
            "colorscale": [
             [
              0,
              "#0d0887"
             ],
             [
              0.1111111111111111,
              "#46039f"
             ],
             [
              0.2222222222222222,
              "#7201a8"
             ],
             [
              0.3333333333333333,
              "#9c179e"
             ],
             [
              0.4444444444444444,
              "#bd3786"
             ],
             [
              0.5555555555555556,
              "#d8576b"
             ],
             [
              0.6666666666666666,
              "#ed7953"
             ],
             [
              0.7777777777777778,
              "#fb9f3a"
             ],
             [
              0.8888888888888888,
              "#fdca26"
             ],
             [
              1,
              "#f0f921"
             ]
            ],
            "type": "heatmap"
           }
          ],
          "heatmapgl": [
           {
            "colorbar": {
             "outlinewidth": 0,
             "ticks": ""
            },
            "colorscale": [
             [
              0,
              "#0d0887"
             ],
             [
              0.1111111111111111,
              "#46039f"
             ],
             [
              0.2222222222222222,
              "#7201a8"
             ],
             [
              0.3333333333333333,
              "#9c179e"
             ],
             [
              0.4444444444444444,
              "#bd3786"
             ],
             [
              0.5555555555555556,
              "#d8576b"
             ],
             [
              0.6666666666666666,
              "#ed7953"
             ],
             [
              0.7777777777777778,
              "#fb9f3a"
             ],
             [
              0.8888888888888888,
              "#fdca26"
             ],
             [
              1,
              "#f0f921"
             ]
            ],
            "type": "heatmapgl"
           }
          ],
          "histogram": [
           {
            "marker": {
             "colorbar": {
              "outlinewidth": 0,
              "ticks": ""
             }
            },
            "type": "histogram"
           }
          ],
          "histogram2d": [
           {
            "colorbar": {
             "outlinewidth": 0,
             "ticks": ""
            },
            "colorscale": [
             [
              0,
              "#0d0887"
             ],
             [
              0.1111111111111111,
              "#46039f"
             ],
             [
              0.2222222222222222,
              "#7201a8"
             ],
             [
              0.3333333333333333,
              "#9c179e"
             ],
             [
              0.4444444444444444,
              "#bd3786"
             ],
             [
              0.5555555555555556,
              "#d8576b"
             ],
             [
              0.6666666666666666,
              "#ed7953"
             ],
             [
              0.7777777777777778,
              "#fb9f3a"
             ],
             [
              0.8888888888888888,
              "#fdca26"
             ],
             [
              1,
              "#f0f921"
             ]
            ],
            "type": "histogram2d"
           }
          ],
          "histogram2dcontour": [
           {
            "colorbar": {
             "outlinewidth": 0,
             "ticks": ""
            },
            "colorscale": [
             [
              0,
              "#0d0887"
             ],
             [
              0.1111111111111111,
              "#46039f"
             ],
             [
              0.2222222222222222,
              "#7201a8"
             ],
             [
              0.3333333333333333,
              "#9c179e"
             ],
             [
              0.4444444444444444,
              "#bd3786"
             ],
             [
              0.5555555555555556,
              "#d8576b"
             ],
             [
              0.6666666666666666,
              "#ed7953"
             ],
             [
              0.7777777777777778,
              "#fb9f3a"
             ],
             [
              0.8888888888888888,
              "#fdca26"
             ],
             [
              1,
              "#f0f921"
             ]
            ],
            "type": "histogram2dcontour"
           }
          ],
          "mesh3d": [
           {
            "colorbar": {
             "outlinewidth": 0,
             "ticks": ""
            },
            "type": "mesh3d"
           }
          ],
          "parcoords": [
           {
            "line": {
             "colorbar": {
              "outlinewidth": 0,
              "ticks": ""
             }
            },
            "type": "parcoords"
           }
          ],
          "pie": [
           {
            "automargin": true,
            "type": "pie"
           }
          ],
          "scatter": [
           {
            "marker": {
             "colorbar": {
              "outlinewidth": 0,
              "ticks": ""
             }
            },
            "type": "scatter"
           }
          ],
          "scatter3d": [
           {
            "line": {
             "colorbar": {
              "outlinewidth": 0,
              "ticks": ""
             }
            },
            "marker": {
             "colorbar": {
              "outlinewidth": 0,
              "ticks": ""
             }
            },
            "type": "scatter3d"
           }
          ],
          "scattercarpet": [
           {
            "marker": {
             "colorbar": {
              "outlinewidth": 0,
              "ticks": ""
             }
            },
            "type": "scattercarpet"
           }
          ],
          "scattergeo": [
           {
            "marker": {
             "colorbar": {
              "outlinewidth": 0,
              "ticks": ""
             }
            },
            "type": "scattergeo"
           }
          ],
          "scattergl": [
           {
            "marker": {
             "colorbar": {
              "outlinewidth": 0,
              "ticks": ""
             }
            },
            "type": "scattergl"
           }
          ],
          "scattermapbox": [
           {
            "marker": {
             "colorbar": {
              "outlinewidth": 0,
              "ticks": ""
             }
            },
            "type": "scattermapbox"
           }
          ],
          "scatterpolar": [
           {
            "marker": {
             "colorbar": {
              "outlinewidth": 0,
              "ticks": ""
             }
            },
            "type": "scatterpolar"
           }
          ],
          "scatterpolargl": [
           {
            "marker": {
             "colorbar": {
              "outlinewidth": 0,
              "ticks": ""
             }
            },
            "type": "scatterpolargl"
           }
          ],
          "scatterternary": [
           {
            "marker": {
             "colorbar": {
              "outlinewidth": 0,
              "ticks": ""
             }
            },
            "type": "scatterternary"
           }
          ],
          "surface": [
           {
            "colorbar": {
             "outlinewidth": 0,
             "ticks": ""
            },
            "colorscale": [
             [
              0,
              "#0d0887"
             ],
             [
              0.1111111111111111,
              "#46039f"
             ],
             [
              0.2222222222222222,
              "#7201a8"
             ],
             [
              0.3333333333333333,
              "#9c179e"
             ],
             [
              0.4444444444444444,
              "#bd3786"
             ],
             [
              0.5555555555555556,
              "#d8576b"
             ],
             [
              0.6666666666666666,
              "#ed7953"
             ],
             [
              0.7777777777777778,
              "#fb9f3a"
             ],
             [
              0.8888888888888888,
              "#fdca26"
             ],
             [
              1,
              "#f0f921"
             ]
            ],
            "type": "surface"
           }
          ],
          "table": [
           {
            "cells": {
             "fill": {
              "color": "#EBF0F8"
             },
             "line": {
              "color": "white"
             }
            },
            "header": {
             "fill": {
              "color": "#C8D4E3"
             },
             "line": {
              "color": "white"
             }
            },
            "type": "table"
           }
          ]
         },
         "layout": {
          "annotationdefaults": {
           "arrowcolor": "#2a3f5f",
           "arrowhead": 0,
           "arrowwidth": 1
          },
          "coloraxis": {
           "colorbar": {
            "outlinewidth": 0,
            "ticks": ""
           }
          },
          "colorscale": {
           "diverging": [
            [
             0,
             "#8e0152"
            ],
            [
             0.1,
             "#c51b7d"
            ],
            [
             0.2,
             "#de77ae"
            ],
            [
             0.3,
             "#f1b6da"
            ],
            [
             0.4,
             "#fde0ef"
            ],
            [
             0.5,
             "#f7f7f7"
            ],
            [
             0.6,
             "#e6f5d0"
            ],
            [
             0.7,
             "#b8e186"
            ],
            [
             0.8,
             "#7fbc41"
            ],
            [
             0.9,
             "#4d9221"
            ],
            [
             1,
             "#276419"
            ]
           ],
           "sequential": [
            [
             0,
             "#0d0887"
            ],
            [
             0.1111111111111111,
             "#46039f"
            ],
            [
             0.2222222222222222,
             "#7201a8"
            ],
            [
             0.3333333333333333,
             "#9c179e"
            ],
            [
             0.4444444444444444,
             "#bd3786"
            ],
            [
             0.5555555555555556,
             "#d8576b"
            ],
            [
             0.6666666666666666,
             "#ed7953"
            ],
            [
             0.7777777777777778,
             "#fb9f3a"
            ],
            [
             0.8888888888888888,
             "#fdca26"
            ],
            [
             1,
             "#f0f921"
            ]
           ],
           "sequentialminus": [
            [
             0,
             "#0d0887"
            ],
            [
             0.1111111111111111,
             "#46039f"
            ],
            [
             0.2222222222222222,
             "#7201a8"
            ],
            [
             0.3333333333333333,
             "#9c179e"
            ],
            [
             0.4444444444444444,
             "#bd3786"
            ],
            [
             0.5555555555555556,
             "#d8576b"
            ],
            [
             0.6666666666666666,
             "#ed7953"
            ],
            [
             0.7777777777777778,
             "#fb9f3a"
            ],
            [
             0.8888888888888888,
             "#fdca26"
            ],
            [
             1,
             "#f0f921"
            ]
           ]
          },
          "colorway": [
           "#636efa",
           "#EF553B",
           "#00cc96",
           "#ab63fa",
           "#FFA15A",
           "#19d3f3",
           "#FF6692",
           "#B6E880",
           "#FF97FF",
           "#FECB52"
          ],
          "font": {
           "color": "#2a3f5f"
          },
          "geo": {
           "bgcolor": "white",
           "lakecolor": "white",
           "landcolor": "#E5ECF6",
           "showlakes": true,
           "showland": true,
           "subunitcolor": "white"
          },
          "hoverlabel": {
           "align": "left"
          },
          "hovermode": "closest",
          "mapbox": {
           "style": "light"
          },
          "paper_bgcolor": "white",
          "plot_bgcolor": "#E5ECF6",
          "polar": {
           "angularaxis": {
            "gridcolor": "white",
            "linecolor": "white",
            "ticks": ""
           },
           "bgcolor": "#E5ECF6",
           "radialaxis": {
            "gridcolor": "white",
            "linecolor": "white",
            "ticks": ""
           }
          },
          "scene": {
           "xaxis": {
            "backgroundcolor": "#E5ECF6",
            "gridcolor": "white",
            "gridwidth": 2,
            "linecolor": "white",
            "showbackground": true,
            "ticks": "",
            "zerolinecolor": "white"
           },
           "yaxis": {
            "backgroundcolor": "#E5ECF6",
            "gridcolor": "white",
            "gridwidth": 2,
            "linecolor": "white",
            "showbackground": true,
            "ticks": "",
            "zerolinecolor": "white"
           },
           "zaxis": {
            "backgroundcolor": "#E5ECF6",
            "gridcolor": "white",
            "gridwidth": 2,
            "linecolor": "white",
            "showbackground": true,
            "ticks": "",
            "zerolinecolor": "white"
           }
          },
          "shapedefaults": {
           "line": {
            "color": "#2a3f5f"
           }
          },
          "ternary": {
           "aaxis": {
            "gridcolor": "white",
            "linecolor": "white",
            "ticks": ""
           },
           "baxis": {
            "gridcolor": "white",
            "linecolor": "white",
            "ticks": ""
           },
           "bgcolor": "#E5ECF6",
           "caxis": {
            "gridcolor": "white",
            "linecolor": "white",
            "ticks": ""
           }
          },
          "title": {
           "x": 0.05
          },
          "xaxis": {
           "automargin": true,
           "gridcolor": "white",
           "linecolor": "white",
           "ticks": "",
           "title": {
            "standoff": 15
           },
           "zerolinecolor": "white",
           "zerolinewidth": 2
          },
          "yaxis": {
           "automargin": true,
           "gridcolor": "white",
           "linecolor": "white",
           "ticks": "",
           "title": {
            "standoff": 15
           },
           "zerolinecolor": "white",
           "zerolinewidth": 2
          }
         }
        },
        "title": {
         "text": "Jaké emoji používám?"
        },
        "width": 1200,
        "xaxis": {
         "title": {
          "text": "Emoji"
         }
        },
        "yaxis": {
         "title": {
          "text": "Počet"
         }
        }
       }
      }
     },
     "metadata": {}
    }
   ],
   "source": [
    "display_emoji_histogram(writers, messages_without_reactions, True)"
   ]
  },
  {
   "cell_type": "code",
   "execution_count": 18,
   "metadata": {},
   "outputs": [
    {
     "output_type": "display_data",
     "data": {
      "application/vnd.plotly.v1+json": {
       "config": {
        "plotlyServerURL": "https://plot.ly"
       },
       "data": [
        {
         "histfunc": "sum",
         "name": "Author_0",
         "type": "histogram",
         "x": [
          "😆",
          "😍",
          "👍",
          "😮",
          "😢",
          "❤",
          "😠",
          "🤠",
          "🦵"
         ],
         "y": [
          19,
          20,
          13,
          4,
          15,
          21,
          1,
          1,
          1
         ]
        },
        {
         "histfunc": "sum",
         "name": "Author_1",
         "type": "histogram",
         "x": [
          "😆",
          "👍",
          "😍",
          "😢",
          "👎",
          "😮",
          "😠",
          "❤",
          "🐴",
          "🏻",
          "🤠",
          "🐸"
         ],
         "y": [
          8,
          22,
          9,
          11,
          1,
          5,
          3,
          18,
          1,
          1,
          1,
          1
         ]
        },
        {
         "histfunc": "sum",
         "name": "Author_2",
         "type": "histogram",
         "x": [
          "😢",
          "👍",
          "😍",
          "😆",
          "😮",
          "❤",
          "🤓",
          "🏻",
          "💯"
         ],
         "y": [
          4,
          19,
          11,
          32,
          4,
          9,
          1,
          1,
          1
         ]
        },
        {
         "histfunc": "sum",
         "name": "Author_3",
         "type": "histogram",
         "x": [
          "😍",
          "👍",
          "😆",
          "😢",
          "😮",
          "❤",
          "🐸"
         ],
         "y": [
          12,
          11,
          11,
          5,
          1,
          7,
          1
         ]
        }
       ],
       "layout": {
        "template": {
         "data": {
          "bar": [
           {
            "error_x": {
             "color": "#2a3f5f"
            },
            "error_y": {
             "color": "#2a3f5f"
            },
            "marker": {
             "line": {
              "color": "#E5ECF6",
              "width": 0.5
             }
            },
            "type": "bar"
           }
          ],
          "barpolar": [
           {
            "marker": {
             "line": {
              "color": "#E5ECF6",
              "width": 0.5
             }
            },
            "type": "barpolar"
           }
          ],
          "carpet": [
           {
            "aaxis": {
             "endlinecolor": "#2a3f5f",
             "gridcolor": "white",
             "linecolor": "white",
             "minorgridcolor": "white",
             "startlinecolor": "#2a3f5f"
            },
            "baxis": {
             "endlinecolor": "#2a3f5f",
             "gridcolor": "white",
             "linecolor": "white",
             "minorgridcolor": "white",
             "startlinecolor": "#2a3f5f"
            },
            "type": "carpet"
           }
          ],
          "choropleth": [
           {
            "colorbar": {
             "outlinewidth": 0,
             "ticks": ""
            },
            "type": "choropleth"
           }
          ],
          "contour": [
           {
            "colorbar": {
             "outlinewidth": 0,
             "ticks": ""
            },
            "colorscale": [
             [
              0,
              "#0d0887"
             ],
             [
              0.1111111111111111,
              "#46039f"
             ],
             [
              0.2222222222222222,
              "#7201a8"
             ],
             [
              0.3333333333333333,
              "#9c179e"
             ],
             [
              0.4444444444444444,
              "#bd3786"
             ],
             [
              0.5555555555555556,
              "#d8576b"
             ],
             [
              0.6666666666666666,
              "#ed7953"
             ],
             [
              0.7777777777777778,
              "#fb9f3a"
             ],
             [
              0.8888888888888888,
              "#fdca26"
             ],
             [
              1,
              "#f0f921"
             ]
            ],
            "type": "contour"
           }
          ],
          "contourcarpet": [
           {
            "colorbar": {
             "outlinewidth": 0,
             "ticks": ""
            },
            "type": "contourcarpet"
           }
          ],
          "heatmap": [
           {
            "colorbar": {
             "outlinewidth": 0,
             "ticks": ""
            },
            "colorscale": [
             [
              0,
              "#0d0887"
             ],
             [
              0.1111111111111111,
              "#46039f"
             ],
             [
              0.2222222222222222,
              "#7201a8"
             ],
             [
              0.3333333333333333,
              "#9c179e"
             ],
             [
              0.4444444444444444,
              "#bd3786"
             ],
             [
              0.5555555555555556,
              "#d8576b"
             ],
             [
              0.6666666666666666,
              "#ed7953"
             ],
             [
              0.7777777777777778,
              "#fb9f3a"
             ],
             [
              0.8888888888888888,
              "#fdca26"
             ],
             [
              1,
              "#f0f921"
             ]
            ],
            "type": "heatmap"
           }
          ],
          "heatmapgl": [
           {
            "colorbar": {
             "outlinewidth": 0,
             "ticks": ""
            },
            "colorscale": [
             [
              0,
              "#0d0887"
             ],
             [
              0.1111111111111111,
              "#46039f"
             ],
             [
              0.2222222222222222,
              "#7201a8"
             ],
             [
              0.3333333333333333,
              "#9c179e"
             ],
             [
              0.4444444444444444,
              "#bd3786"
             ],
             [
              0.5555555555555556,
              "#d8576b"
             ],
             [
              0.6666666666666666,
              "#ed7953"
             ],
             [
              0.7777777777777778,
              "#fb9f3a"
             ],
             [
              0.8888888888888888,
              "#fdca26"
             ],
             [
              1,
              "#f0f921"
             ]
            ],
            "type": "heatmapgl"
           }
          ],
          "histogram": [
           {
            "marker": {
             "colorbar": {
              "outlinewidth": 0,
              "ticks": ""
             }
            },
            "type": "histogram"
           }
          ],
          "histogram2d": [
           {
            "colorbar": {
             "outlinewidth": 0,
             "ticks": ""
            },
            "colorscale": [
             [
              0,
              "#0d0887"
             ],
             [
              0.1111111111111111,
              "#46039f"
             ],
             [
              0.2222222222222222,
              "#7201a8"
             ],
             [
              0.3333333333333333,
              "#9c179e"
             ],
             [
              0.4444444444444444,
              "#bd3786"
             ],
             [
              0.5555555555555556,
              "#d8576b"
             ],
             [
              0.6666666666666666,
              "#ed7953"
             ],
             [
              0.7777777777777778,
              "#fb9f3a"
             ],
             [
              0.8888888888888888,
              "#fdca26"
             ],
             [
              1,
              "#f0f921"
             ]
            ],
            "type": "histogram2d"
           }
          ],
          "histogram2dcontour": [
           {
            "colorbar": {
             "outlinewidth": 0,
             "ticks": ""
            },
            "colorscale": [
             [
              0,
              "#0d0887"
             ],
             [
              0.1111111111111111,
              "#46039f"
             ],
             [
              0.2222222222222222,
              "#7201a8"
             ],
             [
              0.3333333333333333,
              "#9c179e"
             ],
             [
              0.4444444444444444,
              "#bd3786"
             ],
             [
              0.5555555555555556,
              "#d8576b"
             ],
             [
              0.6666666666666666,
              "#ed7953"
             ],
             [
              0.7777777777777778,
              "#fb9f3a"
             ],
             [
              0.8888888888888888,
              "#fdca26"
             ],
             [
              1,
              "#f0f921"
             ]
            ],
            "type": "histogram2dcontour"
           }
          ],
          "mesh3d": [
           {
            "colorbar": {
             "outlinewidth": 0,
             "ticks": ""
            },
            "type": "mesh3d"
           }
          ],
          "parcoords": [
           {
            "line": {
             "colorbar": {
              "outlinewidth": 0,
              "ticks": ""
             }
            },
            "type": "parcoords"
           }
          ],
          "pie": [
           {
            "automargin": true,
            "type": "pie"
           }
          ],
          "scatter": [
           {
            "marker": {
             "colorbar": {
              "outlinewidth": 0,
              "ticks": ""
             }
            },
            "type": "scatter"
           }
          ],
          "scatter3d": [
           {
            "line": {
             "colorbar": {
              "outlinewidth": 0,
              "ticks": ""
             }
            },
            "marker": {
             "colorbar": {
              "outlinewidth": 0,
              "ticks": ""
             }
            },
            "type": "scatter3d"
           }
          ],
          "scattercarpet": [
           {
            "marker": {
             "colorbar": {
              "outlinewidth": 0,
              "ticks": ""
             }
            },
            "type": "scattercarpet"
           }
          ],
          "scattergeo": [
           {
            "marker": {
             "colorbar": {
              "outlinewidth": 0,
              "ticks": ""
             }
            },
            "type": "scattergeo"
           }
          ],
          "scattergl": [
           {
            "marker": {
             "colorbar": {
              "outlinewidth": 0,
              "ticks": ""
             }
            },
            "type": "scattergl"
           }
          ],
          "scattermapbox": [
           {
            "marker": {
             "colorbar": {
              "outlinewidth": 0,
              "ticks": ""
             }
            },
            "type": "scattermapbox"
           }
          ],
          "scatterpolar": [
           {
            "marker": {
             "colorbar": {
              "outlinewidth": 0,
              "ticks": ""
             }
            },
            "type": "scatterpolar"
           }
          ],
          "scatterpolargl": [
           {
            "marker": {
             "colorbar": {
              "outlinewidth": 0,
              "ticks": ""
             }
            },
            "type": "scatterpolargl"
           }
          ],
          "scatterternary": [
           {
            "marker": {
             "colorbar": {
              "outlinewidth": 0,
              "ticks": ""
             }
            },
            "type": "scatterternary"
           }
          ],
          "surface": [
           {
            "colorbar": {
             "outlinewidth": 0,
             "ticks": ""
            },
            "colorscale": [
             [
              0,
              "#0d0887"
             ],
             [
              0.1111111111111111,
              "#46039f"
             ],
             [
              0.2222222222222222,
              "#7201a8"
             ],
             [
              0.3333333333333333,
              "#9c179e"
             ],
             [
              0.4444444444444444,
              "#bd3786"
             ],
             [
              0.5555555555555556,
              "#d8576b"
             ],
             [
              0.6666666666666666,
              "#ed7953"
             ],
             [
              0.7777777777777778,
              "#fb9f3a"
             ],
             [
              0.8888888888888888,
              "#fdca26"
             ],
             [
              1,
              "#f0f921"
             ]
            ],
            "type": "surface"
           }
          ],
          "table": [
           {
            "cells": {
             "fill": {
              "color": "#EBF0F8"
             },
             "line": {
              "color": "white"
             }
            },
            "header": {
             "fill": {
              "color": "#C8D4E3"
             },
             "line": {
              "color": "white"
             }
            },
            "type": "table"
           }
          ]
         },
         "layout": {
          "annotationdefaults": {
           "arrowcolor": "#2a3f5f",
           "arrowhead": 0,
           "arrowwidth": 1
          },
          "coloraxis": {
           "colorbar": {
            "outlinewidth": 0,
            "ticks": ""
           }
          },
          "colorscale": {
           "diverging": [
            [
             0,
             "#8e0152"
            ],
            [
             0.1,
             "#c51b7d"
            ],
            [
             0.2,
             "#de77ae"
            ],
            [
             0.3,
             "#f1b6da"
            ],
            [
             0.4,
             "#fde0ef"
            ],
            [
             0.5,
             "#f7f7f7"
            ],
            [
             0.6,
             "#e6f5d0"
            ],
            [
             0.7,
             "#b8e186"
            ],
            [
             0.8,
             "#7fbc41"
            ],
            [
             0.9,
             "#4d9221"
            ],
            [
             1,
             "#276419"
            ]
           ],
           "sequential": [
            [
             0,
             "#0d0887"
            ],
            [
             0.1111111111111111,
             "#46039f"
            ],
            [
             0.2222222222222222,
             "#7201a8"
            ],
            [
             0.3333333333333333,
             "#9c179e"
            ],
            [
             0.4444444444444444,
             "#bd3786"
            ],
            [
             0.5555555555555556,
             "#d8576b"
            ],
            [
             0.6666666666666666,
             "#ed7953"
            ],
            [
             0.7777777777777778,
             "#fb9f3a"
            ],
            [
             0.8888888888888888,
             "#fdca26"
            ],
            [
             1,
             "#f0f921"
            ]
           ],
           "sequentialminus": [
            [
             0,
             "#0d0887"
            ],
            [
             0.1111111111111111,
             "#46039f"
            ],
            [
             0.2222222222222222,
             "#7201a8"
            ],
            [
             0.3333333333333333,
             "#9c179e"
            ],
            [
             0.4444444444444444,
             "#bd3786"
            ],
            [
             0.5555555555555556,
             "#d8576b"
            ],
            [
             0.6666666666666666,
             "#ed7953"
            ],
            [
             0.7777777777777778,
             "#fb9f3a"
            ],
            [
             0.8888888888888888,
             "#fdca26"
            ],
            [
             1,
             "#f0f921"
            ]
           ]
          },
          "colorway": [
           "#636efa",
           "#EF553B",
           "#00cc96",
           "#ab63fa",
           "#FFA15A",
           "#19d3f3",
           "#FF6692",
           "#B6E880",
           "#FF97FF",
           "#FECB52"
          ],
          "font": {
           "color": "#2a3f5f"
          },
          "geo": {
           "bgcolor": "white",
           "lakecolor": "white",
           "landcolor": "#E5ECF6",
           "showlakes": true,
           "showland": true,
           "subunitcolor": "white"
          },
          "hoverlabel": {
           "align": "left"
          },
          "hovermode": "closest",
          "mapbox": {
           "style": "light"
          },
          "paper_bgcolor": "white",
          "plot_bgcolor": "#E5ECF6",
          "polar": {
           "angularaxis": {
            "gridcolor": "white",
            "linecolor": "white",
            "ticks": ""
           },
           "bgcolor": "#E5ECF6",
           "radialaxis": {
            "gridcolor": "white",
            "linecolor": "white",
            "ticks": ""
           }
          },
          "scene": {
           "xaxis": {
            "backgroundcolor": "#E5ECF6",
            "gridcolor": "white",
            "gridwidth": 2,
            "linecolor": "white",
            "showbackground": true,
            "ticks": "",
            "zerolinecolor": "white"
           },
           "yaxis": {
            "backgroundcolor": "#E5ECF6",
            "gridcolor": "white",
            "gridwidth": 2,
            "linecolor": "white",
            "showbackground": true,
            "ticks": "",
            "zerolinecolor": "white"
           },
           "zaxis": {
            "backgroundcolor": "#E5ECF6",
            "gridcolor": "white",
            "gridwidth": 2,
            "linecolor": "white",
            "showbackground": true,
            "ticks": "",
            "zerolinecolor": "white"
           }
          },
          "shapedefaults": {
           "line": {
            "color": "#2a3f5f"
           }
          },
          "ternary": {
           "aaxis": {
            "gridcolor": "white",
            "linecolor": "white",
            "ticks": ""
           },
           "baxis": {
            "gridcolor": "white",
            "linecolor": "white",
            "ticks": ""
           },
           "bgcolor": "#E5ECF6",
           "caxis": {
            "gridcolor": "white",
            "linecolor": "white",
            "ticks": ""
           }
          },
          "title": {
           "x": 0.05
          },
          "xaxis": {
           "automargin": true,
           "gridcolor": "white",
           "linecolor": "white",
           "ticks": "",
           "title": {
            "standoff": 15
           },
           "zerolinecolor": "white",
           "zerolinewidth": 2
          },
          "yaxis": {
           "automargin": true,
           "gridcolor": "white",
           "linecolor": "white",
           "ticks": "",
           "title": {
            "standoff": 15
           },
           "zerolinecolor": "white",
           "zerolinewidth": 2
          }
         }
        },
        "title": {
         "text": "Jaké reakce jsem dostal?"
        },
        "width": 1000,
        "xaxis": {
         "title": {
          "text": "Emoji"
         }
        },
        "yaxis": {
         "title": {
          "text": "Počet"
         }
        }
       }
      }
     },
     "metadata": {}
    }
   ],
   "source": [
    "display_emoji_reactions(writers, messages, True)"
   ]
  },
  {
   "cell_type": "code",
   "execution_count": 19,
   "metadata": {},
   "outputs": [
    {
     "output_type": "display_data",
     "data": {
      "text/plain": "<Figure size 432x288 with 1 Axes>",
      "image/svg+xml": "<?xml version=\"1.0\" encoding=\"utf-8\" standalone=\"no\"?>\n<!DOCTYPE svg PUBLIC \"-//W3C//DTD SVG 1.1//EN\"\n  \"http://www.w3.org/Graphics/SVG/1.1/DTD/svg11.dtd\">\n<!-- Created with matplotlib (https://matplotlib.org/) -->\n<svg height=\"190.17pt\" version=\"1.1\" viewBox=\"0 0 349.2 190.17\" width=\"349.2pt\" xmlns=\"http://www.w3.org/2000/svg\" xmlns:xlink=\"http://www.w3.org/1999/xlink\">\n <metadata>\n  <rdf:RDF xmlns:cc=\"http://creativecommons.org/ns#\" xmlns:dc=\"http://purl.org/dc/elements/1.1/\" xmlns:rdf=\"http://www.w3.org/1999/02/22-rdf-syntax-ns#\">\n   <cc:Work>\n    <dc:type rdf:resource=\"http://purl.org/dc/dcmitype/StillImage\"/>\n    <dc:date>2020-12-02T10:20:33.447528</dc:date>\n    <dc:format>image/svg+xml</dc:format>\n    <dc:creator>\n     <cc:Agent>\n      <dc:title>Matplotlib v3.3.3, https://matplotlib.org/</dc:title>\n     </cc:Agent>\n    </dc:creator>\n   </cc:Work>\n  </rdf:RDF>\n </metadata>\n <defs>\n  <style type=\"text/css\">*{stroke-linecap:butt;stroke-linejoin:round;}</style>\n </defs>\n <g id=\"figure_1\">\n  <g id=\"patch_1\">\n   <path d=\"M 0 190.17 \nL 349.2 190.17 \nL 349.2 0 \nL 0 0 \nz\n\" style=\"fill:none;\"/>\n  </g>\n  <g id=\"axes_1\">\n   <g clip-path=\"url(#pcb8a6fd00e)\">\n    <image height=\"176\" id=\"image6335402961\" transform=\"scale(1 -1)translate(0 -176)\" width=\"335\" x=\"7.2\" xlink:href=\"data:image/png;base64,\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\" y=\"-6.97\"/>\n   </g>\n  </g>\n </g>\n <defs>\n  <clipPath id=\"pcb8a6fd00e\">\n   <rect height=\"175.77\" width=\"334.8\" x=\"7.2\" y=\"7.2\"/>\n  </clipPath>\n </defs>\n</svg>\n",
      "image/png": "[encoded data removed]"
     },
     "metadata": {
      "needs_background": "light"
     }
    }
   ],
   "source": [
    "create_word_cloud(writers, messages_without_reactions, names, \"fb_logo.png\")"
   ]
  },
  {
   "cell_type": "code",
   "execution_count": 20,
   "metadata": {},
   "outputs": [],
   "source": [
    "create_scatter_text(writers, names, messages_without_reactions, True)"
   ]
  },
  {
   "cell_type": "code",
   "execution_count": null,
   "metadata": {},
   "outputs": [],
   "source": []
  }
 ]
}